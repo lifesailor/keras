{
 "cells": [
  {
   "cell_type": "markdown",
   "metadata": {},
   "source": [
    "### Object Detection 모델 소개\n",
    "\n",
    "- R-CNN\n",
    "- Fast R-CNN\n",
    "- Yolo\n",
    "..."
   ]
  },
  {
   "cell_type": "markdown",
   "metadata": {},
   "source": [
    "Yolo의 큰 특성은 오려 내기와 그 후보 영역에 대한 클래스 확률 산출이 한 번의 예측으로 동시에 수행된다. 그래서 매우 빠르게 물체를 할 수 있다."
   ]
  },
  {
   "cell_type": "markdown",
   "metadata": {},
   "source": [
    "## 1. 학습 순서"
   ]
  },
  {
   "cell_type": "markdown",
   "metadata": {},
   "source": [
    "1. 이미지를 기본으로 클래스 분류 모델을 학습한다.\n",
    "\n",
    "2. 주어진 이미지 중에서 오브젝트라고 생각되는 후보 영역을 여러 개 오려낸다.\n",
    "\n",
    "3. 오려 낸 여러 개 후보 영역에서 1에서 구한 모델로 오브젝트 각 클래스에 해당할 확률을 예측하고 가장 큰 확률 후보 영역을 구합니다."
   ]
  },
  {
   "cell_type": "markdown",
   "metadata": {},
   "source": [
    "## 2. 지도 학습 데이터"
   ]
  }
 ],
 "metadata": {
  "kernelspec": {
   "display_name": "Python 3",
   "language": "python",
   "name": "python3"
  },
  "language_info": {
   "codemirror_mode": {
    "name": "ipython",
    "version": 3
   },
   "file_extension": ".py",
   "mimetype": "text/x-python",
   "name": "python",
   "nbconvert_exporter": "python",
   "pygments_lexer": "ipython3",
   "version": "3.6.6"
  }
 },
 "nbformat": 4,
 "nbformat_minor": 2
}
