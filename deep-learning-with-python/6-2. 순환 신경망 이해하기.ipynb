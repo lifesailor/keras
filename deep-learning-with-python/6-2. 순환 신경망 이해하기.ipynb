{
 "cells": [
  {
<<<<<<< HEAD
   "cell_type": "code",
   "execution_count": 8,
   "metadata": {},
   "outputs": [],
   "source": [
    "import tensorflow as tf\n",
    "from keras.backend.tensorflow_backend import set_session\n",
    "\n",
    "config = tf.ConfigProto()\n",
    "config.gpu_options.per_process_gpu_memory_fraction = 0.5\n",
    "set_session(tf.Session(config=config))"
   ]
  },
  {
=======
>>>>>>> 2339fa580353b5643831d8295138aaf88f479925
   "cell_type": "markdown",
   "metadata": {},
   "source": [
    "# 1. RNN"
   ]
  },
  {
   "cell_type": "markdown",
   "metadata": {},
   "source": [
    "- 순환신경망은 시퀀스의 원소를 순회하면서 지금까지 처리한 정보를 상태에 저장합니다.\n",
<<<<<<< HEAD
    "\n",
    "- RNN은 다른 시퀀스를 처리하는 사이에 재설정됩니다. (2개의 다른 IMDB 리뷰) 하나의 시퀀스가 여전히 하나의 데이터 포인트로 간주된다. 즉 네트워크에 하나의 입력을 주입한다고 가정합니다. 이 데이터 포ㅇ니트가 한 번에 처리되지 않는다는 것이 다르다. 그 대신 네트워크는 시퀀스의 원소를 차례대로 방문합니다.\n",
    "\n",
    "- 이 RNN은 크기가 (timesteps, input_features)인 2D 텐서로 인코딩된 벡터의 시퀀스를 받는다. 이 시퀀스는 타임스템을 따라서 반복된다. 각 타임스템 t에서 현재 상태와 입력을 연결하여 출력을 계산한다."
=======
    "- RNN은 다른 시퀀스를 처리하는 사이에 재설정됩니다. (2개의 다른 IMDB 리뷰) 하나의 시퀀스가 여전히 하나의 데이터 포인트로 간주된다. 즉 네트워크에 하나의 입력을 주입한다고 가정합니다. 이 데이터 포ㅇ니트가 한 번에 처리되지 않는다는 것이 다르다. 그 대신 네트워크는 시퀀스의 원소를 차례대로 방문합니다."
>>>>>>> 2339fa580353b5643831d8295138aaf88f479925
   ]
  },
  {
   "cell_type": "markdown",
   "metadata": {},
   "source": [
<<<<<<< HEAD
    "## 1. RNN 구현"
=======
    "- 이 RNN은 크기가 (timesteps, input_features)인 2D 텐서로 인코딩된 벡터의 시퀀스를 받는다. 이 시퀀스는 타임스템을 따라서 반복된다. 각 타임스템 t에서 현재 상태와 입력을 연결하여 출력을 계산한다."
>>>>>>> 2339fa580353b5643831d8295138aaf88f479925
   ]
  },
  {
   "cell_type": "code",
<<<<<<< HEAD
   "execution_count": 9,
=======
   "execution_count": 1,
>>>>>>> 2339fa580353b5643831d8295138aaf88f479925
   "metadata": {},
   "outputs": [],
   "source": [
    "# pseudocode\n",
    "state_t = 0 # timestep t\n",
    "\n",
    "# initial state \n",
    "# for input_t in input_sequence: # repeat\n",
    "#    output_t = f(input_t, state_t)\n",
    "#    state_t = output_t"
   ]
  },
  {
   "cell_type": "code",
<<<<<<< HEAD
   "execution_count": 10,
=======
   "execution_count": 2,
>>>>>>> 2339fa580353b5643831d8295138aaf88f479925
   "metadata": {},
   "outputs": [],
   "source": [
    "# f 함수는 입력과 상태를 출력으로 반환한다. 이를 2개의 W, U 행렬 그리고 편향 벡털르 사용하는 변환으로 바꿀 수 있다. \n",
    "# state_t = 0\n",
    "\n",
    "# for input_t in input_sequence:\n",
    "#     output_t = activation(dot(W, input_t) + dot(U, state_t) + b)\n",
    "#     state_t =ouput_t"
   ]
  },
  {
<<<<<<< HEAD
   "cell_type": "markdown",
   "metadata": {},
   "source": [
    "- input: (timesteps, input_features))"
   ]
  },
  {
   "cell_type": "code",
   "execution_count": 11,
=======
   "cell_type": "code",
   "execution_count": 4,
>>>>>>> 2339fa580353b5643831d8295138aaf88f479925
   "metadata": {},
   "outputs": [
    {
     "data": {
      "text/plain": [
       "(100, 32)"
      ]
     },
<<<<<<< HEAD
     "execution_count": 11,
=======
     "execution_count": 4,
>>>>>>> 2339fa580353b5643831d8295138aaf88f479925
     "metadata": {},
     "output_type": "execute_result"
    }
   ],
   "source": [
    "import numpy as np\n",
    "\n",
    "timesteps = 100\n",
    "input_features = 32\n",
    "output_features = 64\n",
    "\n",
    "inputs = np.random.random((timesteps, input_features))\n",
    "inputs.shape"
   ]
  },
  {
   "cell_type": "code",
<<<<<<< HEAD
   "execution_count": 12,
=======
   "execution_count": 6,
>>>>>>> 2339fa580353b5643831d8295138aaf88f479925
   "metadata": {},
   "outputs": [
    {
     "data": {
      "text/plain": [
       "(64,)"
      ]
     },
<<<<<<< HEAD
     "execution_count": 12,
=======
     "execution_count": 6,
>>>>>>> 2339fa580353b5643831d8295138aaf88f479925
     "metadata": {},
     "output_type": "execute_result"
    }
   ],
   "source": [
    "state_t = np.zeros((output_features,))\n",
    "state_t.shape"
   ]
  },
  {
   "cell_type": "code",
<<<<<<< HEAD
   "execution_count": 13,
=======
   "execution_count": 8,
>>>>>>> 2339fa580353b5643831d8295138aaf88f479925
   "metadata": {},
   "outputs": [],
   "source": [
    "W = np.random.random((output_features, input_features))\n",
    "U = np.random.random((output_features, output_features))\n",
    "b = np.random.random((output_features, ))"
   ]
  },
  {
   "cell_type": "code",
<<<<<<< HEAD
   "execution_count": 14,
=======
   "execution_count": 9,
>>>>>>> 2339fa580353b5643831d8295138aaf88f479925
   "metadata": {},
   "outputs": [
    {
     "data": {
      "text/plain": [
       "((64, 32), (64, 64), (64,))"
      ]
     },
<<<<<<< HEAD
     "execution_count": 14,
=======
     "execution_count": 9,
>>>>>>> 2339fa580353b5643831d8295138aaf88f479925
     "metadata": {},
     "output_type": "execute_result"
    }
   ],
   "source": [
    "W.shape, U.shape, b.shape"
   ]
  },
  {
   "cell_type": "code",
<<<<<<< HEAD
   "execution_count": 15,
=======
   "execution_count": 13,
>>>>>>> 2339fa580353b5643831d8295138aaf88f479925
   "metadata": {},
   "outputs": [
    {
     "data": {
      "text/plain": [
       "(100, 64)"
      ]
     },
<<<<<<< HEAD
     "execution_count": 15,
=======
     "execution_count": 13,
>>>>>>> 2339fa580353b5643831d8295138aaf88f479925
     "metadata": {},
     "output_type": "execute_result"
    }
   ],
   "source": [
    "succesive_outputs = []\n",
    "\n",
    "for input_t in inputs:\n",
    "    output_t = np.tanh(np.dot(W, input_t) + np.dot(U, state_t) + b)\n",
    "    succesive_outputs.append(output_t)\n",
    "    state_t = output_t\n",
    "    \n",
    "final_output_sequence = np.stack(succesive_outputs, axis=0)\n",
    "final_output_sequence.shape"
   ]
  },
  {
<<<<<<< HEAD
   "cell_type": "markdown",
   "metadata": {},
   "source": [
    "- output shape: (timesteps, output_features)"
   ]
  },
  {
   "cell_type": "markdown",
   "metadata": {},
   "source": [
    "## 2. 케라스의 순환 층"
   ]
  },
  {
   "cell_type": "markdown",
   "metadata": {},
   "source": [
    "### 1. SimpleRNN"
   ]
  },
  {
   "cell_type": "code",
   "execution_count": 16,
   "metadata": {},
   "outputs": [],
   "source": [
    "from keras.layers import SimpleRNN"
   ]
  },
  {
   "cell_type": "markdown",
   "metadata": {},
   "source": [
    "- simpleRNN은 (batch_size, timesteps, input_features) 크기 입력을 받는다.\n",
    "\n",
    "- 케라스에 있는 모든 순환 층과 마찬가지로 SimpleRNN은 2가지 모드로 실행할 수 있다. 각 타임스텝의 출력을 모은 전체 시퀀스를 반환(batch_size, timesteps, output_features)하거나 입력 시퀀스에 대한 마지막 출력(batch_size, output_features) 2D 텐서만 반환할 수 있다. 이 모드는 return_sequences 매개변수로 선택할 수 있다."
   ]
  },
  {
   "cell_type": "code",
   "execution_count": 17,
   "metadata": {},
   "outputs": [
    {
     "name": "stdout",
     "output_type": "stream",
     "text": [
      "_________________________________________________________________\n",
      "Layer (type)                 Output Shape              Param #   \n",
      "=================================================================\n",
      "embedding_1 (Embedding)      (None, None, 32)          320000    \n",
      "_________________________________________________________________\n",
      "simple_rnn_1 (SimpleRNN)     (None, 64)                6208      \n",
      "=================================================================\n",
      "Total params: 326,208\n",
      "Trainable params: 326,208\n",
      "Non-trainable params: 0\n",
      "_________________________________________________________________\n"
     ]
    }
   ],
   "source": [
    "# return_sequences = False\n",
    "from keras.models import Sequential\n",
    "from keras.layers import Embedding, SimpleRNN\n",
    "\n",
    "model = Sequential()\n",
    "model.add(Embedding(10000, 32))\n",
    "model.add(SimpleRNN(64))\n",
    "model.summary()"
   ]
  },
  {
   "cell_type": "code",
   "execution_count": 18,
   "metadata": {},
   "outputs": [
    {
     "name": "stdout",
     "output_type": "stream",
     "text": [
      "_________________________________________________________________\n",
      "Layer (type)                 Output Shape              Param #   \n",
      "=================================================================\n",
      "embedding_2 (Embedding)      (None, None, 32)          320000    \n",
      "_________________________________________________________________\n",
      "simple_rnn_2 (SimpleRNN)     (None, None, 64)          6208      \n",
      "=================================================================\n",
      "Total params: 326,208\n",
      "Trainable params: 326,208\n",
      "Non-trainable params: 0\n",
      "_________________________________________________________________\n"
     ]
    }
   ],
   "source": [
    "# return sequences=True\n",
    "model = Sequential()\n",
    "model.add(Embedding(10000, 32))\n",
    "model.add(SimpleRNN(64, return_sequences=True))\n",
    "model.summary()"
   ]
  },
  {
   "cell_type": "markdown",
   "metadata": {},
   "source": [
    "- 네트워크 표현력을 증가시키기 위해 여러 개의 순환 층을 쌓는 것이 유용할 떄가 있습니다. 이런 설정에서는 중간층들이 전체 출력 시퀀스를 반환하도록 설정해야 한다."
   ]
  },
  {
   "cell_type": "code",
   "execution_count": 19,
   "metadata": {},
   "outputs": [
    {
     "name": "stdout",
     "output_type": "stream",
     "text": [
      "_________________________________________________________________\n",
      "Layer (type)                 Output Shape              Param #   \n",
      "=================================================================\n",
      "embedding_3 (Embedding)      (None, None, 32)          320000    \n",
      "_________________________________________________________________\n",
      "simple_rnn_3 (SimpleRNN)     (None, None, 32)          2080      \n",
      "_________________________________________________________________\n",
      "simple_rnn_4 (SimpleRNN)     (None, None, 32)          2080      \n",
      "_________________________________________________________________\n",
      "simple_rnn_5 (SimpleRNN)     (None, None, 32)          2080      \n",
      "_________________________________________________________________\n",
      "simple_rnn_6 (SimpleRNN)     (None, 32)                2080      \n",
      "=================================================================\n",
      "Total params: 328,320\n",
      "Trainable params: 328,320\n",
      "Non-trainable params: 0\n",
      "_________________________________________________________________\n"
     ]
    }
   ],
   "source": [
    "# many layers\n",
    "model = Sequential()\n",
    "model.add(Embedding(10000, 32))\n",
    "model.add(SimpleRNN(32, return_sequences=True))\n",
    "model.add(SimpleRNN(32, return_sequences=True))\n",
    "model.add(SimpleRNN(32, return_sequences=True))\n",
    "model.add(SimpleRNN(32))\n",
    "model.summary()"
   ]
  },
  {
   "cell_type": "markdown",
   "metadata": {},
   "source": [
    "### Imdb 영화"
   ]
  },
  {
   "cell_type": "code",
   "execution_count": 65,
   "metadata": {},
   "outputs": [],
   "source": [
    "# Imdb 영화 리뷰 문제 적용\n",
    "from keras.datasets import imdb\n",
    "from keras.preprocessing import sequence"
   ]
  },
  {
   "cell_type": "code",
   "execution_count": 66,
   "metadata": {},
   "outputs": [
    {
     "name": "stdout",
     "output_type": "stream",
     "text": [
      "데이터 로딩...\n",
      "25000 훈련 시퀀스\n",
      "25000 테스트 시퀀스\n"
     ]
    }
   ],
   "source": [
    "max_features = 10000\n",
    "maxlen = 500\n",
    "batch_size = 32\n",
    "\n",
    "print(\"데이터 로딩...\")\n",
    "(input_train, y_train), (input_test, y_test) = imdb.load_data('imdb.npz', num_words=max_features)\n",
    "print(len(input_train), '훈련 시퀀스')\n",
    "print(len(input_test), '테스트 시퀀스')"
   ]
  },
  {
   "cell_type": "code",
   "execution_count": 67,
   "metadata": {},
   "outputs": [
    {
     "name": "stdout",
     "output_type": "stream",
     "text": [
      "input_train 크기:  (25000,)\n",
      "input_test 크기:  (25000,)\n"
     ]
    }
   ],
   "source": [
    "print(\"input_train 크기: \", input_train.shape)\n",
    "print(\"input_test 크기: \", input_test.shape)"
   ]
  },
  {
   "cell_type": "code",
   "execution_count": 68,
   "metadata": {
    "scrolled": true
   },
   "outputs": [
    {
     "name": "stdout",
     "output_type": "stream",
     "text": [
      "Help on function load_data in module keras.datasets.imdb:\n",
      "\n",
      "load_data(path='imdb.npz', num_words=None, skip_top=0, maxlen=None, seed=113, start_char=1, oov_char=2, index_from=3, **kwargs)\n",
      "    Loads the IMDB dataset.\n",
      "    \n",
      "    # Arguments\n",
      "        path: where to cache the data (relative to `~/.keras/dataset`).\n",
      "        num_words: max number of words to include. Words are ranked\n",
      "            by how often they occur (in the training set) and only\n",
      "            the most frequent words are kept\n",
      "        skip_top: skip the top N most frequently occurring words\n",
      "            (which may not be informative).\n",
      "        maxlen: truncate sequences after this length.\n",
      "        seed: random seed for sample shuffling.\n",
      "        start_char: The start of a sequence will be marked with this character.\n",
      "            Set to 1 because 0 is usually the padding character.\n",
      "        oov_char: words that were cut out because of the `num_words`\n",
      "            or `skip_top` limit will be replaced with this character.\n",
      "        index_from: index actual words with this index and higher.\n",
      "    \n",
      "    # Returns\n",
      "        Tuple of Numpy arrays: `(x_train, y_train), (x_test, y_test)`.\n",
      "    \n",
      "    # Raises\n",
      "        ValueError: in case `maxlen` is so low\n",
      "            that no input sequence could be kept.\n",
      "    \n",
      "    Note that the 'out of vocabulary' character is only used for\n",
      "    words that were present in the training set but are not included\n",
      "    because they're not making the `num_words` cut here.\n",
      "    Words that were not seen in the training set but are in the test set\n",
      "    have simply been skipped.\n",
      "\n"
     ]
    }
   ],
   "source": [
    "help(imdb.load_data)"
   ]
  },
  {
   "cell_type": "code",
   "execution_count": 69,
   "metadata": {},
   "outputs": [
    {
     "name": "stdout",
     "output_type": "stream",
     "text": [
      "시퀀스 패딩(samples x time)\n",
      "input_train 크기:  (25000, 500)\n",
      "input_test 크기:  (25000, 500)\n"
     ]
    }
   ],
   "source": [
    "print('시퀀스 패딩(samples x time)')\n",
    "\n",
    "input_train = sequence.pad_sequences(input_train, maxlen=maxlen)\n",
    "input_test = sequence.pad_sequences(input_test, maxlen=maxlen)\n",
    "\n",
    "print(\"input_train 크기: \", input_train.shape)\n",
    "print(\"input_test 크기: \", input_test.shape)"
   ]
  },
  {
   "cell_type": "markdown",
   "metadata": {},
   "source": [
    "### 모델 훈련"
   ]
  },
  {
   "cell_type": "code",
   "execution_count": 25,
   "metadata": {},
   "outputs": [],
   "source": [
    "from keras.layers import Dense\n",
    "\n",
    "model = Sequential()\n",
    "model.add(Embedding(max_features, 32))\n",
    "model.add(SimpleRNN(32))\n",
    "model.add(Dense(1, activation='sigmoid'))\n",
    "model.compile(optimizer='rmsprop', loss='binary_crossentropy', metrics=['acc'])"
   ]
  },
  {
   "cell_type": "code",
   "execution_count": 52,
   "metadata": {},
   "outputs": [
    {
     "name": "stdout",
     "output_type": "stream",
     "text": [
      "_________________________________________________________________\n",
      "Layer (type)                 Output Shape              Param #   \n",
      "=================================================================\n",
      "embedding_4 (Embedding)      (None, None, 32)          320000    \n",
      "_________________________________________________________________\n",
      "simple_rnn_7 (SimpleRNN)     (None, 32)                2080      \n",
      "_________________________________________________________________\n",
      "dense_1 (Dense)              (None, 1)                 33        \n",
      "=================================================================\n",
      "Total params: 322,113\n",
      "Trainable params: 322,113\n",
      "Non-trainable params: 0\n",
      "_________________________________________________________________\n"
     ]
    }
   ],
   "source": [
    "model.summary()"
   ]
  },
  {
   "cell_type": "code",
   "execution_count": 26,
   "metadata": {
    "scrolled": true
   },
   "outputs": [
    {
     "name": "stdout",
     "output_type": "stream",
     "text": [
      "Train on 20000 samples, validate on 5000 samples\n",
      "Epoch 1/10\n",
      "20000/20000 [==============================] - 34s 2ms/step - loss: 0.6523 - acc: 0.6061 - val_loss: 0.5545 - val_acc: 0.7398\n",
      "Epoch 2/10\n",
      "20000/20000 [==============================] - 32s 2ms/step - loss: 0.4323 - acc: 0.8136 - val_loss: 0.4463 - val_acc: 0.8044\n",
      "Epoch 3/10\n",
      "20000/20000 [==============================] - 33s 2ms/step - loss: 0.3253 - acc: 0.8690 - val_loss: 0.3929 - val_acc: 0.8284\n",
      "Epoch 4/10\n",
      "20000/20000 [==============================] - 32s 2ms/step - loss: 0.2396 - acc: 0.9066 - val_loss: 0.9385 - val_acc: 0.6400\n",
      "Epoch 5/10\n",
      "20000/20000 [==============================] - 32s 2ms/step - loss: 0.1761 - acc: 0.9351 - val_loss: 0.4163 - val_acc: 0.8330\n",
      "Epoch 6/10\n",
      "20000/20000 [==============================] - 32s 2ms/step - loss: 0.1115 - acc: 0.9617 - val_loss: 0.4566 - val_acc: 0.8334\n",
      "Epoch 7/10\n",
      "20000/20000 [==============================] - 32s 2ms/step - loss: 0.0747 - acc: 0.9769 - val_loss: 0.7656 - val_acc: 0.7032\n",
      "Epoch 8/10\n",
      "20000/20000 [==============================] - 33s 2ms/step - loss: 0.0465 - acc: 0.9863 - val_loss: 0.5649 - val_acc: 0.8202\n",
      "Epoch 9/10\n",
      "20000/20000 [==============================] - 33s 2ms/step - loss: 0.0258 - acc: 0.9930 - val_loss: 0.8308 - val_acc: 0.7160\n",
      "Epoch 10/10\n",
      "20000/20000 [==============================] - 33s 2ms/step - loss: 0.0171 - acc: 0.9959 - val_loss: 0.7115 - val_acc: 0.7890\n"
     ]
    }
   ],
   "source": [
    "history = model.fit(input_train, y_train,\n",
    "                    epochs=10,\n",
    "                    batch_size=128,\n",
    "                    validation_split=0.2)"
   ]
  },
  {
   "cell_type": "code",
   "execution_count": 27,
   "metadata": {
    "scrolled": true
   },
   "outputs": [
    {
     "data": {
      "image/png": "iVBORw0KGgoAAAANSUhEUgAAAX0AAAEICAYAAACzliQjAAAABHNCSVQICAgIfAhkiAAAAAlwSFlz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\n",
      "text/plain": [
       "<matplotlib.figure.Figure at 0xde263bb5c0>"
      ]
     },
     "metadata": {},
     "output_type": "display_data"
    },
    {
     "data": {
      "image/png": "iVBORw0KGgoAAAANSUhEUgAAAXcAAAEICAYAAACktLTqAAAABHNCSVQICAgIfAhkiAAAAAlwSFlz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\nQgAAAABJRU5ErkJggg==\n",
      "text/plain": [
       "<matplotlib.figure.Figure at 0xde36738f60>"
      ]
     },
     "metadata": {},
     "output_type": "display_data"
    }
   ],
   "source": [
    "import matplotlib.pyplot as plt\n",
    "\n",
    "acc = history.history['acc']\n",
    "val_acc = history.history['val_acc']\n",
    "loss = history.history['loss']\n",
    "val_loss = history.history['val_loss']\n",
    "\n",
    "epochs = range(1, len(acc) + 1) \n",
    "\n",
    "plt.plot(epochs, acc, 'bo', label='Training acc')\n",
    "plt.plot(epochs, val_acc, 'b', label='Validation acc')\n",
    "plt.title('Training and validation accuracy')\n",
    "\n",
    "plt.figure()\n",
    "plt.plot(epochs, loss, 'bo', label='Training loss')\n",
    "plt.plot(epochs, val_loss, 'b', label='Validation loss')\n",
    "plt.title(\"Training and validation loss\")\n",
    "plt.legend()\n",
    "\n",
    "plt.show()"
   ]
  },
  {
   "cell_type": "markdown",
   "metadata": {},
   "source": [
    "- 단어를 500개까지만 썼기 때문에 성능이 별로 좋지 않다.\n",
    "- SimpleRNN은 기울기 소실 문제가 일어난다."
   ]
  },
  {
   "cell_type": "markdown",
   "metadata": {},
   "source": [
    "### 2. LSTM과 GRU"
   ]
  },
  {
   "cell_type": "code",
   "execution_count": 60,
   "metadata": {},
   "outputs": [],
   "source": [
    "# pseudocode\n",
    "\n",
    "# state1 = random\n",
    "# c1 = random\n",
    "\n",
    "# i_t = activation(dot(state_t, Ui) + dot(input_t, Wi) + bi) - input\n",
    "# f_t = activation(dot(state_t, Uf) + dot(input_t, Wf) + bf) - forget\n",
    "# k_t = activation(dot(state_t, Uk) + dot(input_t, Wk) + bk) \n",
    "\n",
    "# output_t = activation(c_t) * activation(dot(input_t, Wo) + dot(state_t, Uo) + bo)  \n",
    "# state_(t+1) = output_t\n",
    "# c_(t+1) = i_t * k_t + c_t * f_t\n",
    "\n",
    "\n",
    "# RNN 셀을 구성하는 연산 조합은 엔지니어링적 설계보다는 가설 공간의 제약으로 해석하는 것이 낫다."
   ]
  },
  {
   "cell_type": "markdown",
   "metadata": {},
   "source": [
    "- 연구자에게는 RNN 셀의 구현 방법 같은 제약 조건의 선택을 엔지니어보다 최적화 알고리즘에 맡기면 더 나아보일 것입니다. 미래에는 이런 식으로 네트워크를 만들 것입니다. 요약하면 LSTM 셀의 구체적인 구조에 대해 이해할 필요가 전형 없스빈다. LSTM의 역할만 기억한다. 바로 과거 정보를 나중에 다시 주입하여 그래디언트 소실 문제를 해결한다."
   ]
  },
  {
   "cell_type": "code",
   "execution_count": 70,
   "metadata": {},
   "outputs": [
    {
     "name": "stdout",
     "output_type": "stream",
     "text": [
      "_________________________________________________________________\n",
      "Layer (type)                 Output Shape              Param #   \n",
      "=================================================================\n",
      "embedding_7 (Embedding)      (None, None, 32)          320000    \n",
      "_________________________________________________________________\n",
      "lstm_3 (LSTM)                (None, 32)                8320      \n",
      "_________________________________________________________________\n",
      "dense_4 (Dense)              (None, 1)                 33        \n",
      "=================================================================\n",
      "Total params: 328,353\n",
      "Trainable params: 328,353\n",
      "Non-trainable params: 0\n",
      "_________________________________________________________________\n"
     ]
    }
   ],
   "source": [
    "from keras.layers import LSTM\n",
    "\n",
    "model = Sequential()\n",
    "model.add(Embedding(max_features, 32))\n",
    "model.add(LSTM(32))\n",
    "model.add(Dense(1, activation='sigmoid'))\n",
    "model.compile(optimizer='rmsprop', loss='binary_crossentropy', metrics=['acc'])\n",
    "model.summary()"
   ]
  },
  {
   "cell_type": "code",
   "execution_count": 71,
   "metadata": {
    "scrolled": true
   },
   "outputs": [
    {
     "name": "stdout",
     "output_type": "stream",
     "text": [
      "Train on 20000 samples, validate on 5000 samples\n",
      "Epoch 1/10\n",
      "20000/20000 [==============================] - 138s 7ms/step - loss: 0.5288 - acc: 0.7537 - val_loss: 0.3787 - val_acc: 0.8484\n",
      "Epoch 2/10\n",
      "20000/20000 [==============================] - 136s 7ms/step - loss: 0.3056 - acc: 0.8785 - val_loss: 0.3386 - val_acc: 0.8576\n",
      "Epoch 3/10\n",
      "20000/20000 [==============================] - 139s 7ms/step - loss: 0.2400 - acc: 0.9081 - val_loss: 0.3348 - val_acc: 0.8606\n",
      "Epoch 4/10\n",
      "20000/20000 [==============================] - 136s 7ms/step - loss: 0.2044 - acc: 0.9249 - val_loss: 0.3249 - val_acc: 0.8780\n",
      "Epoch 5/10\n",
      "20000/20000 [==============================] - 136s 7ms/step - loss: 0.1800 - acc: 0.9338 - val_loss: 0.2890 - val_acc: 0.8908\n",
      "Epoch 6/10\n",
      "20000/20000 [==============================] - 135s 7ms/step - loss: 0.1575 - acc: 0.9435 - val_loss: 0.5019 - val_acc: 0.8270\n",
      "Epoch 7/10\n",
      "20000/20000 [==============================] - 135s 7ms/step - loss: 0.1434 - acc: 0.9492 - val_loss: 0.3338 - val_acc: 0.8908\n",
      "Epoch 8/10\n",
      "20000/20000 [==============================] - 138s 7ms/step - loss: 0.1288 - acc: 0.9550 - val_loss: 0.4077 - val_acc: 0.8798\n",
      "Epoch 9/10\n",
      "20000/20000 [==============================] - 140s 7ms/step - loss: 0.1169 - acc: 0.9600 - val_loss: 0.3331 - val_acc: 0.8696\n",
      "Epoch 10/10\n",
      "20000/20000 [==============================] - 134s 7ms/step - loss: 0.1115 - acc: 0.9619 - val_loss: 0.3551 - val_acc: 0.8778\n"
     ]
    }
   ],
   "source": [
    "history = model.fit(input_train, y_train, epochs=10, batch_size=128, validation_split=0.2)"
   ]
=======
   "cell_type": "code",
   "execution_count": null,
   "metadata": {},
   "outputs": [],
   "source": []
>>>>>>> 2339fa580353b5643831d8295138aaf88f479925
  }
 ],
 "metadata": {
  "kernelspec": {
   "display_name": "Python 3",
   "language": "python",
   "name": "python3"
  },
  "language_info": {
   "codemirror_mode": {
    "name": "ipython",
    "version": 3
   },
   "file_extension": ".py",
   "mimetype": "text/x-python",
   "name": "python",
   "nbconvert_exporter": "python",
   "pygments_lexer": "ipython3",
<<<<<<< HEAD
   "version": "3.5.4"
=======
   "version": "3.6.6"
>>>>>>> 2339fa580353b5643831d8295138aaf88f479925
  }
 },
 "nbformat": 4,
 "nbformat_minor": 2
}
