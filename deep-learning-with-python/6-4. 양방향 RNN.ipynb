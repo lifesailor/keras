{
 "cells": [
  {
   "cell_type": "markdown",
   "metadata": {},
   "source": [
    "## 1. LSTM 거꾸로 사용하기"
   ]
  },
  {
   "cell_type": "code",
   "execution_count": 1,
   "metadata": {},
   "outputs": [
    {
     "name": "stderr",
     "output_type": "stream",
     "text": [
      "Using TensorFlow backend.\n"
     ]
    }
   ],
   "source": [
    "from keras.datasets import imdb\n",
    "from keras.preprocessing import sequence\n",
    "from keras import layers\n",
    "from keras.models import Sequential"
   ]
  },
  {
   "cell_type": "code",
   "execution_count": 2,
   "metadata": {},
   "outputs": [],
   "source": [
    "max_features = 10000 # 특성 단어 수\n",
    "maxlen = 500 # 사용할 텍스트 길이"
   ]
  },
  {
   "cell_type": "code",
   "execution_count": 3,
   "metadata": {},
   "outputs": [],
   "source": [
    "(x_train, y_train), (x_test, y_test) = imdb.load_data('imdb.npz', num_words=max_features)\n",
    "\n",
    "# reverse sequence\n",
    "x_train = [x[::-1] for x in x_train]\n",
    "x_test = [x[::-1] for x in x_test]"
   ]
  },
  {
   "cell_type": "code",
   "execution_count": 5,
   "metadata": {},
   "outputs": [],
   "source": [
    "x_train = sequence.pad_sequences(x_train, maxlen=maxlen) # add padding\n",
    "x_test = sequence.pad_sequences(x_test, maxlen=maxlen)"
   ]
  },
  {
   "cell_type": "code",
   "execution_count": 6,
   "metadata": {},
   "outputs": [
    {
     "name": "stdout",
     "output_type": "stream",
     "text": [
      "_________________________________________________________________\n",
      "Layer (type)                 Output Shape              Param #   \n",
      "=================================================================\n",
      "embedding_1 (Embedding)      (None, None, 128)         1280000   \n",
      "_________________________________________________________________\n",
      "lstm_1 (LSTM)                (None, 32)                20608     \n",
      "_________________________________________________________________\n",
      "dense_1 (Dense)              (None, 1)                 33        \n",
      "=================================================================\n",
      "Total params: 1,300,641\n",
      "Trainable params: 1,300,641\n",
      "Non-trainable params: 0\n",
      "_________________________________________________________________\n"
     ]
    }
   ],
   "source": [
    "model = Sequential()\n",
    "model.add(layers.Embedding(max_features, 128))\n",
    "model.add(layers.LSTM(32))\n",
    "model.add(layers.Dense(1, activation='sigmoid'))\n",
    "model.compile(optimizer='rmsprop', loss='binary_crossentropy', metrics=['acc'])\n",
    "model.summary()"
   ]
  },
  {
   "cell_type": "code",
   "execution_count": 7,
   "metadata": {
    "scrolled": true
   },
   "outputs": [
    {
     "name": "stdout",
     "output_type": "stream",
     "text": [
      "Train on 20000 samples, validate on 5000 samples\n",
      "Epoch 1/10\n",
      "20000/20000 [==============================] - 146s 7ms/step - loss: 0.5285 - acc: 0.7436 - val_loss: 0.3703 - val_acc: 0.8514\n",
      "Epoch 2/10\n",
      "20000/20000 [==============================] - 144s 7ms/step - loss: 0.3252 - acc: 0.8717 - val_loss: 0.4054 - val_acc: 0.8192\n",
      "Epoch 3/10\n",
      "20000/20000 [==============================] - 142s 7ms/step - loss: 0.2549 - acc: 0.9037 - val_loss: 0.3668 - val_acc: 0.8790\n",
      "Epoch 4/10\n",
      "20000/20000 [==============================] - 142s 7ms/step - loss: 0.2187 - acc: 0.9224 - val_loss: 0.3438 - val_acc: 0.8730\n",
      "Epoch 5/10\n",
      "20000/20000 [==============================] - 143s 7ms/step - loss: 0.1901 - acc: 0.9325 - val_loss: 0.3776 - val_acc: 0.8684\n",
      "Epoch 6/10\n",
      "20000/20000 [==============================] - 147s 7ms/step - loss: 0.1688 - acc: 0.9406 - val_loss: 0.4240 - val_acc: 0.8600\n",
      "Epoch 7/10\n",
      "20000/20000 [==============================] - 146s 7ms/step - loss: 0.1556 - acc: 0.9446 - val_loss: 0.4637 - val_acc: 0.8646\n",
      "Epoch 8/10\n",
      "20000/20000 [==============================] - 145s 7ms/step - loss: 0.1394 - acc: 0.9501 - val_loss: 0.4711 - val_acc: 0.8520\n",
      "Epoch 9/10\n",
      "20000/20000 [==============================] - 144s 7ms/step - loss: 0.1302 - acc: 0.9554 - val_loss: 0.4255 - val_acc: 0.8674\n",
      "Epoch 10/10\n",
      "20000/20000 [==============================] - 145s 7ms/step - loss: 0.1123 - acc: 0.9610 - val_loss: 0.4612 - val_acc: 0.8634\n"
     ]
    }
   ],
   "source": [
    "history= model.fit(x_train, y_train,\n",
    "                   epochs=10,\n",
    "                   batch_size=128,\n",
    "                   validation_split=0.2)"
   ]
  },
  {
   "cell_type": "code",
   "execution_count": 9,
   "metadata": {},
   "outputs": [],
   "source": [
    "from matplotlib import pyplot as plt\n",
    "%matplotlib inline"
   ]
  },
  {
   "cell_type": "code",
   "execution_count": 12,
   "metadata": {},
   "outputs": [
    {
     "data": {
      "image/png": "[encoded data removed]",
      "text/plain": [
       "<matplotlib.figure.Figure at 0x30ed0e5ba8>"
      ]
     },
     "metadata": {},
     "output_type": "display_data"
    }
   ],
   "source": [
    "training_loss = history.history['loss']\n",
    "val_loss = history.history['val_loss']\n",
    "\n",
    "x = range(1, 11)\n",
    "\n",
    "plt.plot(x, training_loss, 'b', label='training loss')\n",
    "plt.plot(x, val_loss, 'bo', label='val_loss')\n",
    "plt.legend()\n",
    "\n",
    "plt.show()"
   ]
  },
  {
   "cell_type": "code",
   "execution_count": 13,
   "metadata": {},
   "outputs": [
    {
     "data": {
      "image/png": "[encoded data removed]",
      "text/plain": [
       "<matplotlib.figure.Figure at 0x30ed0dad30>"
      ]
     },
     "metadata": {},
     "output_type": "display_data"
    }
   ],
   "source": [
    "training_loss = history.history['acc']\n",
    "val_loss = history.history['val_acc']\n",
    "\n",
    "x = range(1, 11)\n",
    "\n",
    "plt.plot(x, training_loss, 'b', label='training acc')\n",
    "plt.plot(x, val_loss, 'bo', label='val acc')\n",
    "plt.legend()\n",
    "\n",
    "plt.show()\n"
   ]
  },
  {
   "cell_type": "markdown",
   "metadata": {},
   "source": [
    "- 시간 순서로 처리한 것과 동일한 효과를 얻는다."
   ]
  },
  {
   "cell_type": "markdown",
   "metadata": {},
   "source": [
    "## 2. Bidirectional RNN"
   ]
  },
  {
   "cell_type": "code",
   "execution_count": 17,
   "metadata": {},
   "outputs": [
    {
     "data": {
      "text/plain": [
       "((25000, 500), (25000,))"
      ]
     },
     "execution_count": 17,
     "metadata": {},
     "output_type": "execute_result"
    }
   ],
   "source": [
    "x_train.shape, y_train.shape"
   ]
  },
  {
   "cell_type": "markdown",
   "metadata": {},
   "source": [
    "- 양방향 RNN은 이 아이디어를 사용하여 시간 순서대로 처리하는 RNN 성능을 향상시킵니다. 입력 시퀀스를 양쪽 방향으로 바라보기때문에 드러나지 않은 다양한 표현을 얻어 시간 순선대로 처리할 떄 놓칠 수 있는 패턴을 잡아낸다."
   ]
  },
  {
   "cell_type": "code",
   "execution_count": 18,
   "metadata": {
    "scrolled": true
   },
   "outputs": [
    {
     "name": "stdout",
     "output_type": "stream",
     "text": [
      "Train on 20000 samples, validate on 5000 samples\n",
      "Epoch 1/10\n",
      "20000/20000 [==============================] - 287s 14ms/step - loss: 0.5697 - acc: 0.7046 - val_loss: 0.6672 - val_acc: 0.6714\n",
      "Epoch 2/10\n",
      "20000/20000 [==============================] - 287s 14ms/step - loss: 0.3641 - acc: 0.8550 - val_loss: 0.3551 - val_acc: 0.8500\n",
      "Epoch 3/10\n",
      "20000/20000 [==============================] - 292s 15ms/step - loss: 0.2816 - acc: 0.8931 - val_loss: 0.3294 - val_acc: 0.8624\n",
      "Epoch 4/10\n",
      "20000/20000 [==============================] - 292s 15ms/step - loss: 0.2320 - acc: 0.9163 - val_loss: 0.4785 - val_acc: 0.8528\n",
      "Epoch 5/10\n",
      "20000/20000 [==============================] - 291s 15ms/step - loss: 0.2060 - acc: 0.9274 - val_loss: 0.3162 - val_acc: 0.8824\n",
      "Epoch 6/10\n",
      "20000/20000 [==============================] - 286s 14ms/step - loss: 0.1854 - acc: 0.9349 - val_loss: 0.3529 - val_acc: 0.8828\n",
      "Epoch 7/10\n",
      "20000/20000 [==============================] - 286s 14ms/step - loss: 0.1734 - acc: 0.9403 - val_loss: 0.3582 - val_acc: 0.8452\n",
      "Epoch 8/10\n",
      "20000/20000 [==============================] - 285s 14ms/step - loss: 0.1516 - acc: 0.9477 - val_loss: 0.4018 - val_acc: 0.8518\n",
      "Epoch 9/10\n",
      "20000/20000 [==============================] - 284s 14ms/step - loss: 0.1426 - acc: 0.9526 - val_loss: 0.3672 - val_acc: 0.8712\n",
      "Epoch 10/10\n",
      "20000/20000 [==============================] - 284s 14ms/step - loss: 0.1299 - acc: 0.9564 - val_loss: 0.4093 - val_acc: 0.8704\n"
     ]
    }
   ],
   "source": [
    "model = Sequential()\n",
    "# embedding을 하는 것은 10000차원을 32차원으로 줄이는 것이다.\n",
    "model.add(layers.Embedding(max_features, 32))\n",
    "model.add(layers.Bidirectional(layers.LSTM(32)))\n",
    "model.add(layers.Dense(1, activation='sigmoid'))\n",
    "model.compile(optimizer='rmsprop', \n",
    "              loss='binary_crossentropy',\n",
    "              metrics=['acc'])\n",
    "history = model.fit(x_train, y_train, epochs=10, batch_size=128, validation_split=0.2)"
   ]
  },
  {
   "cell_type": "markdown",
   "metadata": {},
   "source": [
    "- Embedding Check"
   ]
  },
  {
   "cell_type": "code",
   "execution_count": 24,
   "metadata": {},
   "outputs": [
    {
     "name": "stdout",
     "output_type": "stream",
     "text": [
      "_________________________________________________________________\n",
      "Layer (type)                 Output Shape              Param #   \n",
      "=================================================================\n",
      "embedding_9 (Embedding)      (None, 500, 32)           320000    \n",
      "_________________________________________________________________\n",
      "flatten_5 (Flatten)          (None, 16000)             0         \n",
      "=================================================================\n",
      "Total params: 320,000\n",
      "Trainable params: 320,000\n",
      "Non-trainable params: 0\n",
      "_________________________________________________________________\n"
     ]
    }
   ],
   "source": [
    "from keras.layers import Flatten\n",
    "\n",
    "model = Sequential()\n",
    "# embedding을 하는 것은 10000차원을 32차원으로 줄이는 것이다.\n",
    "model.add(layers.Embedding(max_features, 32, input_length=maxlen))\n",
    "model.add(Flatten())\n",
    "model.summary()"
   ]
  },
  {
   "cell_type": "markdown",
   "metadata": {},
   "source": [
    "## 3. 정리"
   ]
  },
  {
   "cell_type": "markdown",
   "metadata": {},
   "source": [
    "1. 4장에서 처음 배웠떤 것처럼 새로운 문제를 해결할 떄는 선택한 지표에서 상식 수준의 기준점을 설정하는 것이 좋다.\n",
    "\n",
    "2. 계산 비용을 추가할지 판단하기 위해서 비용이 비싼 모델 전에 간단한 모델을 시도한다.\n",
    "\n",
    "3. 시간 순서가 중요한 데이터가 있다면 순환 층이 적합합니다. 시계열 데이터를 펼쳐서 처리하는 모델의 성능을 쉽게 앞지른다.\n",
    "\n",
    "4. 순환 네트워크에 드롭아웃을 사용하려면 타임스텝 동안 일정한 드롭아웃 마스크와 순환 드롭 아웃 마스크를 사용한다.\n",
    "\n",
    "5. 스태킹 RNN은 단일 RNN 층보다 더 강력한 표현 능력을 제공하빈다. 하지만 계산 비용이 많이 들기 떄문에 항상 시도할 가치는 없습니다. 복잡한 문제에서는 확실히 도움이 되지만 작고 간단한 문제에서는 그렇지 않습니다."
   ]
  }
 ],
 "metadata": {
  "kernelspec": {
   "display_name": "Python 3",
   "language": "python",
   "name": "python3"
  },
  "language_info": {
   "codemirror_mode": {
    "name": "ipython",
    "version": 3
   },
   "file_extension": ".py",
   "mimetype": "text/x-python",
   "name": "python",
   "nbconvert_exporter": "python",
   "pygments_lexer": "ipython3",
   "version": "3.5.4"
  }
 },
 "nbformat": 4,
 "nbformat_minor": 2
}
