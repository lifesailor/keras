{
 "cells": [
  {
   "cell_type": "markdown",
   "metadata": {},
   "source": [
    "# 1. 머신러닝 4가지 분류"
   ]
  },
  {
   "cell_type": "markdown",
   "metadata": {},
   "source": [
    "1. 지도 학습\n",
    "2. 비지도 학습\n",
    "3. 자기 지도 학습(self-supervised learning) - 레이블이 필요하지만 보통 경험적인 알고리즘을 사용해서 입력 데이터로부터 생성한다. (ex 오토 인코더)\n",
    "4. 강화 학습"
   ]
  },
  {
   "cell_type": "markdown",
   "metadata": {},
   "source": [
    "# 2. 머신러닝 모델 평가"
   ]
  },
  {
   "cell_type": "markdown",
   "metadata": {},
   "source": [
    "### 1. 훈련 검증 테스트 세트\n",
    "    \n",
    "     - 검증 세트에서 모델의 성능을 평가하여 이런 튜닝을 수행한다. 본질적으로 어떤 튜닝도 어떤 파라미터 공간에서 좋은 설정을 찾는 학습이다. 결국 검증 세트의 성능을 기반으로 모델의 설정을 튜닝하면 검증 세트로 모델을 직접 훈련하지 않더라도 과대적합 될 수 있다.\n",
    "     - 모델은 직간접적으로라도 테스트 세트에 대한 어떤 정보도 얻어서는 안 된다. 테스트 세트의 성능에 기초하여 튜닝한 모든 설정은 일반화 성능을 왜곡한다."
   ]
  },
  {
   "cell_type": "markdown",
   "metadata": {},
   "source": [
    "##  2. 단순 홀드아웃 검증\n",
    "\n",
    "- train_data로 학습하고 validation_data로 검증한다.\n",
    "- train, validation data를 모두 사용해서 test_data를 예측한다."
   ]
  },
  {
   "cell_type": "markdown",
   "metadata": {},
   "source": [
    "## 3. K 겹 교차 검증 \n",
    "\n",
    "- 비교적 가용 데이터가 적고 정확하게 모델을 평가하고자 할 때 사용한다.\n",
    "- 비용이 많이 든다."
   ]
  },
  {
   "cell_type": "markdown",
   "metadata": {},
   "source": [
    "# 3. 데이터 전처리"
   ]
  },
  {
   "cell_type": "markdown",
   "metadata": {},
   "source": [
    "1. 벡터화\n",
    "2. 정규화\n",
    "    - 비교적 큰 값이나 균일하지 않은 데이터를 신경망에 주입하는 것은 위험하다. 이렇게 하면 업데이트할 그래디언트가 커져 네트워크가 수렴하는 것을 방해한다. 네트워크를 쉽게 학습시키려면 데이터가 다음의 특징을 따라야 한다.\n",
    "        - 작은 값을 취합니다. 일반적으로 대부분의 값이 0 ~ 1 사이어야 한다.\n",
    "        - 균일해야 한다. 즉 모든 특성이 대체로 비슷한 범위를 가져야 한다.\n",
    "    \n",
    "3. 누락된 값 다루기\n",
    "    - 일반적으로 신경망에서 0이 사전에 정의된 의미 있는 값이 아니라면 누락된 값을 0으로 입력해도 괜찮습니다. 네트워크가 0이 누락된 데이터를 의미한다는 것을 학습하면 이 값을 무시하기 시작할 것입니다.\n",
    "    \n",
    "4. Feature Engineering\n",
    "    - 특성을 더 간단한 방식으로 표현하여 문제를 쉽게 만듭니다. 일반적으로 해당 문제에 대해서 아주 잘 이해하고 있어야 한다.\n",
    "    - 좋은 특성은 적은 차원을 사용하여 문제를 더 멋지게 풀어낼 수 있다. 예를 들어 시계 바늘을 읽는 문제에 합성곱 신경망을 사용하는 것은 어울리지 않습니다.\n",
    "    - 좋은 특성은 더 적은 데이터로 문제를 풀 수 있다. 딥러닝 모델이 스스로 특성을 학습하는 능력은 가용한 훈련 데이터 가 많을 대 발휘한다. 샘플 개수가 적다면 특성에 있는 정보가 중욯다."
   ]
  },
  {
   "cell_type": "markdown",
   "metadata": {},
   "source": [
    "# 4. 과대적합과 과소적합"
   ]
  },
  {
   "cell_type": "markdown",
   "metadata": {},
   "source": [
    "- 머신러닝의 근본적인 이슈는 최적화와 일반화 사이의 줄다리기이다. 최적화는 가능한 훈련 데이터에서 최고의 성능을 얻으려고 모델을 조정한다. 반면에 일반화는 훈련된 모델이 이전에 본 적 없는 데이터에서 얼마나 잘 수행하는 지 의미한다. 물론, 모델을 만드는 목적은 좋은 일반화 성능을 얻는 것이다.\n",
    "\n",
    "- 모델이 관련성이 없고 좋지 못한 패턴을 훈련 데이터에서 학습하지 못하도록 하려면 가장 좋은 방법은 더 많은 훈련 데이터를 더 모으는 것이다. 하지만 이것이 불가능할 떄 차선책은 정보에 제약을 가하는 것이다. 이런 식으로 규제를 피하는 처리 과정은 규제라고 한다."
   ]
  },
  {
   "cell_type": "markdown",
   "metadata": {},
   "source": [
    "## 4.1 네트워크 크기 축소"
   ]
  },
  {
   "cell_type": "markdown",
   "metadata": {},
   "source": [
    "- 너무 많은 용량과 충분하지 않은 용량 사이의 절충점을 찾아야 한다."
   ]
  },
  {
   "cell_type": "code",
   "execution_count": 4,
   "metadata": {},
   "outputs": [
    {
     "name": "stderr",
     "output_type": "stream",
     "text": [
      "Using TensorFlow backend.\n"
     ]
    }
   ],
   "source": [
    "# 자주 나타나는 단어 100개\n",
    "from keras.datasets import imdb\n",
    "(train_data, train_labels), (test_data, test_labels) = imdb.load_data(path='imdb.npz', num_words=10000)\n",
    "\n",
    "# word_index\n",
    "word_index = imdb.get_word_index() # 단어와 정수 인덱스를 매핑한 딕셔너리\n",
    "reverse_word_index = dict([value, key] for (key, value) in word_index.items())\n",
    "decoded_review = ' '.join([reverse_word_index.get(i-3, '?') for i in train_data[0]])\n",
    "\n",
    "import numpy as np\n",
    "\n",
    "def vectorize_sequences(sequences, dimension=10000):\n",
    "    results = np.zeros((len(sequences), dimension))\n",
    "    \n",
    "    for i, sequence in enumerate(sequences):\n",
    "        results[i, sequence] = 1.\n",
    "    return results\n",
    "\n",
    "# 각 위치에 있으면 1로 변환한다.\n",
    "# binary encoding\n",
    "x_train = vectorize_sequences(train_data)\n",
    "x_test = vectorize_sequences(test_data)\n",
    "\n",
    "y_train = np.asarray(train_labels).astype('float32')\n",
    "y_test = np.asarray(test_labels).astype('float32')"
   ]
  },
  {
   "cell_type": "markdown",
   "metadata": {},
   "source": [
    "## 1. 16 x 16"
   ]
  },
  {
   "cell_type": "code",
   "execution_count": 7,
   "metadata": {},
   "outputs": [],
   "source": [
    "from keras.models import Sequential\n",
    "from keras.layers import Dense\n",
    "from keras.optimizers import RMSprop\n",
    "from keras import losses\n",
    "from keras import metrics"
   ]
  },
  {
   "cell_type": "code",
   "execution_count": 19,
   "metadata": {
    "scrolled": true
   },
   "outputs": [
    {
     "name": "stdout",
     "output_type": "stream",
     "text": [
      "Train on 15000 samples, validate on 10000 samples\n",
      "Epoch 1/20\n",
      "15000/15000 [==============================] - 3s 221us/step - loss: 0.5090 - binary_accuracy: 0.7765 - val_loss: 0.3754 - val_binary_accuracy: 0.8709\n",
      "Epoch 2/20\n",
      "15000/15000 [==============================] - 2s 165us/step - loss: 0.2975 - binary_accuracy: 0.9017 - val_loss: 0.3111 - val_binary_accuracy: 0.8825\n",
      "Epoch 3/20\n",
      "15000/15000 [==============================] - 2s 165us/step - loss: 0.2148 - binary_accuracy: 0.9308 - val_loss: 0.3155 - val_binary_accuracy: 0.8741\n",
      "Epoch 4/20\n",
      "15000/15000 [==============================] - 3s 168us/step - loss: 0.1703 - binary_accuracy: 0.9455 - val_loss: 0.2810 - val_binary_accuracy: 0.8904\n",
      "Epoch 5/20\n",
      "15000/15000 [==============================] - 2s 166us/step - loss: 0.1349 - binary_accuracy: 0.9584 - val_loss: 0.2962 - val_binary_accuracy: 0.8844\n",
      "Epoch 6/20\n",
      "15000/15000 [==============================] - 2s 165us/step - loss: 0.1140 - binary_accuracy: 0.9649 - val_loss: 0.3167 - val_binary_accuracy: 0.8801\n",
      "Epoch 7/20\n",
      "15000/15000 [==============================] - 2s 166us/step - loss: 0.0902 - binary_accuracy: 0.9749 - val_loss: 0.3255 - val_binary_accuracy: 0.8865\n",
      "Epoch 8/20\n",
      "15000/15000 [==============================] - 2s 166us/step - loss: 0.0775 - binary_accuracy: 0.9779 - val_loss: 0.3661 - val_binary_accuracy: 0.8786\n",
      "Epoch 9/20\n",
      "15000/15000 [==============================] - 3s 169us/step - loss: 0.0627 - binary_accuracy: 0.9834 - val_loss: 0.3674 - val_binary_accuracy: 0.8814\n",
      "Epoch 10/20\n",
      "15000/15000 [==============================] - 3s 176us/step - loss: 0.0499 - binary_accuracy: 0.9876 - val_loss: 0.3977 - val_binary_accuracy: 0.8783\n",
      "Epoch 11/20\n",
      "15000/15000 [==============================] - 3s 173us/step - loss: 0.0411 - binary_accuracy: 0.9904 - val_loss: 0.4286 - val_binary_accuracy: 0.8737\n",
      "Epoch 12/20\n",
      "15000/15000 [==============================] - 3s 174us/step - loss: 0.0311 - binary_accuracy: 0.9943 - val_loss: 0.4625 - val_binary_accuracy: 0.8727\n",
      "Epoch 13/20\n",
      "15000/15000 [==============================] - 3s 174us/step - loss: 0.0259 - binary_accuracy: 0.9954 - val_loss: 0.4815 - val_binary_accuracy: 0.8727\n",
      "Epoch 14/20\n",
      "15000/15000 [==============================] - 3s 169us/step - loss: 0.0185 - binary_accuracy: 0.9977 - val_loss: 0.5121 - val_binary_accuracy: 0.8724\n",
      "Epoch 15/20\n",
      "15000/15000 [==============================] - 3s 168us/step - loss: 0.0149 - binary_accuracy: 0.9981 - val_loss: 0.5495 - val_binary_accuracy: 0.8705\n",
      "Epoch 16/20\n",
      "15000/15000 [==============================] - 3s 167us/step - loss: 0.0121 - binary_accuracy: 0.9984 - val_loss: 0.5947 - val_binary_accuracy: 0.8654\n",
      "Epoch 17/20\n",
      "15000/15000 [==============================] - 3s 168us/step - loss: 0.0083 - binary_accuracy: 0.9994 - val_loss: 0.6140 - val_binary_accuracy: 0.8694\n",
      "Epoch 18/20\n",
      "15000/15000 [==============================] - 2s 166us/step - loss: 0.0074 - binary_accuracy: 0.9989 - val_loss: 0.6364 - val_binary_accuracy: 0.8686\n",
      "Epoch 19/20\n",
      "15000/15000 [==============================] - 2s 166us/step - loss: 0.0034 - binary_accuracy: 0.9999 - val_loss: 0.6720 - val_binary_accuracy: 0.8669\n",
      "Epoch 20/20\n",
      "15000/15000 [==============================] - 2s 166us/step - loss: 0.0059 - binary_accuracy: 0.9990 - val_loss: 0.6976 - val_binary_accuracy: 0.8670\n"
     ]
    }
   ],
   "source": [
    "model = Sequential()\n",
    "\n",
    "# 10000 feature 차원수\n",
    "model.add(Dense(16, activation='relu', input_shape=(10000,)))\n",
    "model.add(Dense(16, activation='relu'))\n",
    "model.add(Dense(1, activation='sigmoid'))\n",
    "\n",
    "model.compile(optimizer=RMSprop(lr=0.001), loss=losses.binary_crossentropy, metrics=[metrics.binary_accuracy])\n",
    "\n",
    "# 4. 검증 세트 준비하기\n",
    "\n",
    "x_val = x_train[:10000]\n",
    "partial_x_train = x_train[10000:]\n",
    "\n",
    "y_val = y_train[:10000]\n",
    "partial_y_train = y_train[10000:]\n",
    "\n",
    "history = model.fit(partial_x_train,\n",
    "                    partial_y_train,\n",
    "                    epochs=20,\n",
    "                    batch_size=512,\n",
    "                    validation_data=(x_val, y_val))"
   ]
  },
  {
   "cell_type": "code",
   "execution_count": 20,
   "metadata": {},
   "outputs": [
    {
     "data": {
      "text/plain": [
       "<matplotlib.legend.Legend at 0x313b070ac8>"
      ]
     },
     "execution_count": 20,
     "metadata": {},
     "output_type": "execute_result"
    },
    {
     "data": {
      "image/png": "[encoded data removed]",
      "text/plain": [
       "<matplotlib.figure.Figure at 0x313af205f8>"
      ]
     },
     "metadata": {},
     "output_type": "display_data"
    }
   ],
   "source": [
    "import matplotlib.pyplot as plt\n",
    "%matplotlib inline\n",
    "\n",
    "history_dict = history.history\n",
    "loss = history_dict['loss']\n",
    "val_loss = history_dict['val_loss']\n",
    "\n",
    "epochs = range(1, len(loss) + 1)\n",
    "\n",
    "plt.plot(epochs, loss, 'bo', label='Training loss')\n",
    "plt.plot(epochs, val_loss, 'b', label='Validation loss')\n",
    "plt.title(\"Training and validation loss\")\n",
    "plt.xlabel(\"Epochs\")\n",
    "plt.ylabel(\"Loss\")\n",
    "plt.legend()"
   ]
  },
  {
   "cell_type": "markdown",
   "metadata": {},
   "source": [
    "## 2. 6 x 6"
   ]
  },
  {
   "cell_type": "code",
   "execution_count": 10,
   "metadata": {
    "scrolled": true
   },
   "outputs": [
    {
     "name": "stdout",
     "output_type": "stream",
     "text": [
      "Train on 15000 samples, validate on 10000 samples\n",
      "Epoch 1/20\n",
      "15000/15000 [==============================] - 3s 191us/step - loss: 0.6390 - binary_accuracy: 0.6795 - val_loss: 0.5890 - val_binary_accuracy: 0.8233\n",
      "Epoch 2/20\n",
      "15000/15000 [==============================] - 2s 166us/step - loss: 0.5551 - binary_accuracy: 0.7942 - val_loss: 0.5375 - val_binary_accuracy: 0.8429\n",
      "Epoch 3/20\n",
      "15000/15000 [==============================] - 2s 165us/step - loss: 0.5058 - binary_accuracy: 0.8443 - val_loss: 0.5093 - val_binary_accuracy: 0.7951\n",
      "Epoch 4/20\n",
      "15000/15000 [==============================] - 2s 165us/step - loss: 0.4695 - binary_accuracy: 0.8737 - val_loss: 0.4831 - val_binary_accuracy: 0.8527\n",
      "Epoch 5/20\n",
      "15000/15000 [==============================] - 4s 251us/step - loss: 0.4409 - binary_accuracy: 0.8995 - val_loss: 0.4679 - val_binary_accuracy: 0.8745\n",
      "Epoch 6/20\n",
      "15000/15000 [==============================] - 2s 165us/step - loss: 0.4175 - binary_accuracy: 0.9141 - val_loss: 0.4619 - val_binary_accuracy: 0.8579\n",
      "Epoch 7/20\n",
      "15000/15000 [==============================] - 3s 167us/step - loss: 0.3977 - binary_accuracy: 0.9275 - val_loss: 0.4571 - val_binary_accuracy: 0.8609\n",
      "Epoch 8/20\n",
      "15000/15000 [==============================] - 2s 166us/step - loss: 0.3798 - binary_accuracy: 0.9381 - val_loss: 0.4648 - val_binary_accuracy: 0.8499\n",
      "Epoch 9/20\n",
      "15000/15000 [==============================] - 2s 165us/step - loss: 0.3646 - binary_accuracy: 0.9453 - val_loss: 0.4719 - val_binary_accuracy: 0.8449\n",
      "Epoch 10/20\n",
      "15000/15000 [==============================] - 2s 166us/step - loss: 0.3496 - binary_accuracy: 0.9539 - val_loss: 0.4624 - val_binary_accuracy: 0.8571\n",
      "Epoch 11/20\n",
      "15000/15000 [==============================] - 3s 167us/step - loss: 0.3366 - binary_accuracy: 0.9609 - val_loss: 0.4456 - val_binary_accuracy: 0.8714\n",
      "Epoch 12/20\n",
      "15000/15000 [==============================] - 3s 175us/step - loss: 0.3242 - binary_accuracy: 0.9664 - val_loss: 0.4471 - val_binary_accuracy: 0.8714\n",
      "Epoch 13/20\n",
      "15000/15000 [==============================] - 3s 174us/step - loss: 0.3128 - binary_accuracy: 0.9704 - val_loss: 0.4495 - val_binary_accuracy: 0.8724\n",
      "Epoch 14/20\n",
      "15000/15000 [==============================] - 3s 174us/step - loss: 0.3017 - binary_accuracy: 0.9743 - val_loss: 0.4383 - val_binary_accuracy: 0.8750\n",
      "Epoch 15/20\n",
      "15000/15000 [==============================] - 3s 173us/step - loss: 0.2920 - binary_accuracy: 0.9763 - val_loss: 0.4612 - val_binary_accuracy: 0.8705\n",
      "Epoch 16/20\n",
      "15000/15000 [==============================] - 3s 167us/step - loss: 0.2823 - binary_accuracy: 0.9802 - val_loss: 0.4682 - val_binary_accuracy: 0.8688\n",
      "Epoch 17/20\n",
      "15000/15000 [==============================] - 2s 166us/step - loss: 0.2732 - binary_accuracy: 0.9819 - val_loss: 0.4701 - val_binary_accuracy: 0.8688\n",
      "Epoch 18/20\n",
      "15000/15000 [==============================] - 3s 167us/step - loss: 0.2645 - binary_accuracy: 0.9839 - val_loss: 0.4799 - val_binary_accuracy: 0.8676\n",
      "Epoch 19/20\n",
      "15000/15000 [==============================] - 3s 167us/step - loss: 0.2563 - binary_accuracy: 0.9853 - val_loss: 0.4726 - val_binary_accuracy: 0.8702\n",
      "Epoch 20/20\n",
      "15000/15000 [==============================] - 4s 253us/step - loss: 0.2491 - binary_accuracy: 0.9865 - val_loss: 0.4796 - val_binary_accuracy: 0.8689\n"
     ]
    }
   ],
   "source": [
    "model = Sequential()\n",
    "\n",
    "# 10000 feature 차원수\n",
    "model.add(Dense(6, activation='relu', input_shape=(10000,)))\n",
    "model.add(Dense(6, activation='relu'))\n",
    "model.add(Dense(1, activation='sigmoid'))\n",
    "\n",
    "model.compile(optimizer=RMSprop(lr=0.001), loss=losses.binary_crossentropy, metrics=[metrics.binary_accuracy])\n",
    "\n",
    "# 4. 검증 세트 준비하기\n",
    "\n",
    "x_val = x_train[:10000]\n",
    "partial_x_train = x_train[10000:]\n",
    "\n",
    "y_val = y_train[:10000]\n",
    "partial_y_train = y_train[10000:]\n",
    "\n",
    "history1 = model.fit(partial_x_train,\n",
    "                    partial_y_train,\n",
    "                    epochs=10,\n",
    "                    batch_size=512,\n",
    "                    validation_data=(x_val, y_val))"
   ]
  },
  {
   "cell_type": "code",
   "execution_count": 11,
   "metadata": {},
   "outputs": [
    {
     "data": {
      "text/plain": [
       "<matplotlib.legend.Legend at 0x313ce7dd68>"
      ]
     },
     "execution_count": 11,
     "metadata": {},
     "output_type": "execute_result"
    },
    {
     "data": {
      "image/png": "[encoded data removed]",
      "text/plain": [
       "<matplotlib.figure.Figure at 0x313a312e80>"
      ]
     },
     "metadata": {},
     "output_type": "display_data"
    }
   ],
   "source": [
    "import matplotlib.pyplot as plt\n",
    "%matplotlib inline\n",
    "\n",
    "history_dict1 = history1.history\n",
    "loss = history_dict1['loss']\n",
    "val_loss = history_dict['val_loss']\n",
    "\n",
    "epochs = range(1, len(loss) + 1)\n",
    "\n",
    "plt.plot(epochs, loss, 'bo', label='Training loss')\n",
    "plt.plot(epochs, val_loss, 'b', label='Validation loss')\n",
    "plt.title(\"Training and validation loss\")\n",
    "plt.xlabel(\"Epochs\")\n",
    "plt.ylabel(\"Loss\")\n",
    "plt.legend()"
   ]
  },
  {
   "cell_type": "markdown",
   "metadata": {},
   "source": [
    "- 작은 모델은 더 늦게 과대 적합 된다. 하지만 성능은 저하되었다."
   ]
  },
  {
   "cell_type": "markdown",
   "metadata": {},
   "source": [
    "## 3. 128 x 128"
   ]
  },
  {
   "cell_type": "code",
   "execution_count": 12,
   "metadata": {
    "scrolled": true
   },
   "outputs": [
    {
     "name": "stdout",
     "output_type": "stream",
     "text": [
      "Train on 15000 samples, validate on 10000 samples\n",
      "Epoch 1/20\n",
      "15000/15000 [==============================] - 3s 211us/step - loss: 0.4909 - binary_accuracy: 0.7737 - val_loss: 0.4069 - val_binary_accuracy: 0.8215\n",
      "Epoch 2/20\n",
      "15000/15000 [==============================] - 2s 164us/step - loss: 0.2672 - binary_accuracy: 0.8942 - val_loss: 0.2808 - val_binary_accuracy: 0.8921\n",
      "Epoch 3/20\n",
      "15000/15000 [==============================] - 2s 162us/step - loss: 0.1756 - binary_accuracy: 0.9334 - val_loss: 0.3599 - val_binary_accuracy: 0.8646\n",
      "Epoch 4/20\n",
      "15000/15000 [==============================] - 2s 163us/step - loss: 0.1244 - binary_accuracy: 0.9577 - val_loss: 0.3168 - val_binary_accuracy: 0.8888\n",
      "Epoch 5/20\n",
      "15000/15000 [==============================] - 4s 246us/step - loss: 0.0828 - binary_accuracy: 0.9728 - val_loss: 0.3874 - val_binary_accuracy: 0.8774\n",
      "Epoch 6/20\n",
      "15000/15000 [==============================] - 2s 164us/step - loss: 0.0864 - binary_accuracy: 0.9747 - val_loss: 0.3640 - val_binary_accuracy: 0.8859\n",
      "Epoch 7/20\n",
      "15000/15000 [==============================] - 2s 164us/step - loss: 0.0150 - binary_accuracy: 0.9976 - val_loss: 0.4526 - val_binary_accuracy: 0.8851\n",
      "Epoch 8/20\n",
      "15000/15000 [==============================] - 2s 165us/step - loss: 0.0681 - binary_accuracy: 0.9829 - val_loss: 0.4448 - val_binary_accuracy: 0.8844\n",
      "Epoch 9/20\n",
      "15000/15000 [==============================] - 2s 163us/step - loss: 0.0042 - binary_accuracy: 0.9997 - val_loss: 0.5194 - val_binary_accuracy: 0.8834\n",
      "Epoch 10/20\n",
      "15000/15000 [==============================] - 2s 163us/step - loss: 0.0021 - binary_accuracy: 0.9999 - val_loss: 0.6195 - val_binary_accuracy: 0.8820\n",
      "Epoch 11/20\n",
      "15000/15000 [==============================] - 2s 166us/step - loss: 0.0688 - binary_accuracy: 0.9857 - val_loss: 0.6044 - val_binary_accuracy: 0.8776\n",
      "Epoch 12/20\n",
      "15000/15000 [==============================] - 2s 165us/step - loss: 7.4983e-04 - binary_accuracy: 1.0000 - val_loss: 0.6333 - val_binary_accuracy: 0.8803\n",
      "Epoch 13/20\n",
      "15000/15000 [==============================] - 3s 167us/step - loss: 3.8347e-04 - binary_accuracy: 1.0000 - val_loss: 0.6944 - val_binary_accuracy: 0.8797\n",
      "Epoch 14/20\n",
      "15000/15000 [==============================] - 3s 168us/step - loss: 1.8434e-04 - binary_accuracy: 1.0000 - val_loss: 0.7566 - val_binary_accuracy: 0.8792\n",
      "Epoch 15/20\n",
      "15000/15000 [==============================] - 2s 165us/step - loss: 6.5007e-05 - binary_accuracy: 1.0000 - val_loss: 0.8669 - val_binary_accuracy: 0.8749\n",
      "Epoch 16/20\n",
      "15000/15000 [==============================] - 2s 165us/step - loss: 0.1021 - binary_accuracy: 0.9878 - val_loss: 0.8664 - val_binary_accuracy: 0.8762\n",
      "Epoch 17/20\n",
      "15000/15000 [==============================] - 2s 164us/step - loss: 1.5780e-05 - binary_accuracy: 1.0000 - val_loss: 0.8727 - val_binary_accuracy: 0.8783\n",
      "Epoch 18/20\n",
      "15000/15000 [==============================] - 2s 165us/step - loss: 1.0366e-05 - binary_accuracy: 1.0000 - val_loss: 0.8948 - val_binary_accuracy: 0.8776\n",
      "Epoch 19/20\n",
      "15000/15000 [==============================] - 2s 164us/step - loss: 7.4663e-06 - binary_accuracy: 1.0000 - val_loss: 0.9163 - val_binary_accuracy: 0.8780\n",
      "Epoch 20/20\n",
      "15000/15000 [==============================] - 4s 252us/step - loss: 5.2894e-06 - binary_accuracy: 1.0000 - val_loss: 0.9416 - val_binary_accuracy: 0.8777\n"
     ]
    }
   ],
   "source": [
    "model = Sequential()\n",
    "\n",
    "# 10000 feature 차원수\n",
    "model.add(Dense(128, activation='relu', input_shape=(10000,)))\n",
    "model.add(Dense(128, activation='relu'))\n",
    "model.add(Dense(1, activation='sigmoid'))\n",
    "\n",
    "model.compile(optimizer=RMSprop(lr=0.001), loss=losses.binary_crossentropy, metrics=[metrics.binary_accuracy])\n",
    "\n",
    "# 4. 검증 세트 준비하기\n",
    "\n",
    "x_val = x_train[:10000]\n",
    "partial_x_train = x_train[10000:]\n",
    "\n",
    "y_val = y_train[:10000]\n",
    "partial_y_train = y_train[10000:]\n",
    "\n",
    "history = model.fit(partial_x_train,\n",
    "                    partial_y_train,\n",
    "                    epochs=20,\n",
    "                    batch_size=512,\n",
    "                    validation_data=(x_val, y_val))"
   ]
  },
  {
   "cell_type": "code",
   "execution_count": 13,
   "metadata": {
    "scrolled": false
   },
   "outputs": [
    {
     "data": {
      "text/plain": [
       "<matplotlib.legend.Legend at 0x313aa13908>"
      ]
     },
     "execution_count": 13,
     "metadata": {},
     "output_type": "execute_result"
    },
    {
     "data": {
      "image/png": "[encoded data removed]",
      "text/plain": [
       "<matplotlib.figure.Figure at 0x3139b6b668>"
      ]
     },
     "metadata": {},
     "output_type": "display_data"
    }
   ],
   "source": [
    "import matplotlib.pyplot as plt\n",
    "%matplotlib inline\n",
    "\n",
    "history_dict = history.history\n",
    "loss = history_dict['loss']\n",
    "val_loss = history_dict['val_loss']\n",
    "\n",
    "epochs = range(1, len(loss) + 1)\n",
    "\n",
    "plt.plot(epochs, loss, 'bo', label='Training loss')\n",
    "plt.plot(epochs, val_loss, 'b', label='Validation loss')\n",
    "plt.title(\"Training and validation loss\")\n",
    "plt.xlabel(\"Epochs\")\n",
    "plt.ylabel(\"Loss\")\n",
    "plt.legend()"
   ]
  },
  {
   "cell_type": "markdown",
   "metadata": {},
   "source": [
    "- 큰 모델일 수록 훈련 손실이 매우 빠르게 0에 가까워진다. 용량이 많은 네트워크일수록 더 빠르게 훈련 데이터를 모델링할 수 있다. 과대적합에 민감해진다."
   ]
  },
  {
   "cell_type": "markdown",
   "metadata": {},
   "source": [
    "## 4-2. 가중치 규제 추가"
   ]
  },
  {
   "cell_type": "code",
   "execution_count": 21,
   "metadata": {},
   "outputs": [],
   "source": [
    "from keras import regularizers"
   ]
  },
  {
   "cell_type": "markdown",
   "metadata": {},
   "source": [
    "1. 페널티 항은 훈련할 때만 추가된다.\n",
    "2. 네트워크의 손실은 테스트보다 훈련할 때 더 높다.\n",
    "3. 종류\n",
    "    - l1: l1 norm \n",
    "    - l2: l2 norm(weight_decay)\n",
    "    - l1_l2: l1 + l2"
   ]
  },
  {
   "cell_type": "code",
   "execution_count": 22,
   "metadata": {
    "scrolled": true
   },
   "outputs": [
    {
     "name": "stdout",
     "output_type": "stream",
     "text": [
      "Train on 15000 samples, validate on 10000 samples\n",
      "Epoch 1/20\n",
      "15000/15000 [==============================] - 3s 204us/step - loss: 0.5872 - binary_accuracy: 0.7692 - val_loss: 0.4527 - val_binary_accuracy: 0.8714\n",
      "Epoch 2/20\n",
      "15000/15000 [==============================] - 2s 165us/step - loss: 0.3790 - binary_accuracy: 0.8959 - val_loss: 0.3677 - val_binary_accuracy: 0.8861\n",
      "Epoch 3/20\n",
      "15000/15000 [==============================] - 2s 165us/step - loss: 0.3027 - binary_accuracy: 0.9147 - val_loss: 0.3756 - val_binary_accuracy: 0.8675\n",
      "Epoch 4/20\n",
      "15000/15000 [==============================] - 2s 166us/step - loss: 0.2627 - binary_accuracy: 0.9319 - val_loss: 0.3310 - val_binary_accuracy: 0.8923\n",
      "Epoch 5/20\n",
      "15000/15000 [==============================] - 3s 167us/step - loss: 0.2370 - binary_accuracy: 0.9391 - val_loss: 0.3566 - val_binary_accuracy: 0.8811\n",
      "Epoch 6/20\n",
      "15000/15000 [==============================] - 2s 166us/step - loss: 0.2236 - binary_accuracy: 0.9443 - val_loss: 0.3866 - val_binary_accuracy: 0.8668\n",
      "Epoch 7/20\n",
      "15000/15000 [==============================] - 2s 166us/step - loss: 0.2101 - binary_accuracy: 0.9521 - val_loss: 0.3458 - val_binary_accuracy: 0.8887\n",
      "Epoch 8/20\n",
      "15000/15000 [==============================] - 3s 175us/step - loss: 0.1982 - binary_accuracy: 0.9545 - val_loss: 0.3515 - val_binary_accuracy: 0.8882\n",
      "Epoch 9/20\n",
      "15000/15000 [==============================] - 3s 172us/step - loss: 0.1941 - binary_accuracy: 0.9565 - val_loss: 0.3689 - val_binary_accuracy: 0.8824\n",
      "Epoch 10/20\n",
      "15000/15000 [==============================] - 3s 172us/step - loss: 0.1831 - binary_accuracy: 0.9626 - val_loss: 0.3751 - val_binary_accuracy: 0.8791\n",
      "Epoch 11/20\n",
      "15000/15000 [==============================] - 3s 177us/step - loss: 0.1803 - binary_accuracy: 0.9637 - val_loss: 0.4032 - val_binary_accuracy: 0.8719\n",
      "Epoch 12/20\n",
      "15000/15000 [==============================] - 3s 170us/step - loss: 0.1749 - binary_accuracy: 0.9639 - val_loss: 0.3835 - val_binary_accuracy: 0.8821\n",
      "Epoch 13/20\n",
      "15000/15000 [==============================] - 3s 169us/step - loss: 0.1684 - binary_accuracy: 0.9686 - val_loss: 0.4274 - val_binary_accuracy: 0.8713\n",
      "Epoch 14/20\n",
      "15000/15000 [==============================] - 2s 166us/step - loss: 0.1659 - binary_accuracy: 0.9692 - val_loss: 0.4501 - val_binary_accuracy: 0.8664\n",
      "Epoch 15/20\n",
      "15000/15000 [==============================] - 2s 166us/step - loss: 0.1631 - binary_accuracy: 0.9696 - val_loss: 0.4084 - val_binary_accuracy: 0.8784\n",
      "Epoch 16/20\n",
      "15000/15000 [==============================] - 3s 167us/step - loss: 0.1594 - binary_accuracy: 0.9696 - val_loss: 0.4455 - val_binary_accuracy: 0.8636\n",
      "Epoch 17/20\n",
      "15000/15000 [==============================] - 2s 166us/step - loss: 0.1589 - binary_accuracy: 0.9696 - val_loss: 0.4191 - val_binary_accuracy: 0.8782\n",
      "Epoch 18/20\n",
      "15000/15000 [==============================] - 3s 168us/step - loss: 0.1551 - binary_accuracy: 0.9719 - val_loss: 0.4477 - val_binary_accuracy: 0.8655\n",
      "Epoch 19/20\n",
      "15000/15000 [==============================] - 3s 167us/step - loss: 0.1483 - binary_accuracy: 0.9755 - val_loss: 0.5384 - val_binary_accuracy: 0.8429\n",
      "Epoch 20/20\n",
      "15000/15000 [==============================] - 3s 167us/step - loss: 0.1528 - binary_accuracy: 0.9718 - val_loss: 0.4474 - val_binary_accuracy: 0.8686\n"
     ]
    }
   ],
   "source": [
    "model = Sequential()\n",
    "\n",
    "# 10000 feature 차원수\n",
    "model.add(Dense(16, activation='relu', kernel_regularizer=regularizers.l2(0.001), input_shape=(10000,)))\n",
    "model.add(Dense(16, activation='relu', kernel_regularizer=regularizers.l2(0.001)))\n",
    "model.add(Dense(1, activation='sigmoid'))\n",
    "\n",
    "model.compile(optimizer=RMSprop(lr=0.001), loss=losses.binary_crossentropy, metrics=[metrics.binary_accuracy])\n",
    "\n",
    "# 4. 검증 세트 준비하기\n",
    "\n",
    "x_val = x_train[:10000]\n",
    "partial_x_train = x_train[10000:]\n",
    "\n",
    "y_val = y_train[:10000]\n",
    "partial_y_train = y_train[10000:]\n",
    "\n",
    "history = model.fit(partial_x_train,\n",
    "                    partial_y_train,\n",
    "                    epochs=20,\n",
    "                    batch_size=512,\n",
    "                    validation_data=(x_val, y_val))"
   ]
  },
  {
   "cell_type": "code",
   "execution_count": 25,
   "metadata": {},
   "outputs": [
    {
     "data": {
      "text/plain": [
       "<matplotlib.legend.Legend at 0x313d084978>"
      ]
     },
     "execution_count": 25,
     "metadata": {},
     "output_type": "execute_result"
    },
    {
     "data": {
      "image/png": "[encoded data removed]",
      "text/plain": [
       "<matplotlib.figure.Figure at 0x313cb66ba8>"
      ]
     },
     "metadata": {},
     "output_type": "display_data"
    }
   ],
   "source": [
    "import matplotlib.pyplot as plt\n",
    "%matplotlib inline\n",
    "\n",
    "history_dict = history.history\n",
    "loss = history_dict['loss']\n",
    "val_loss = history_dict['val_loss']\n",
    "\n",
    "epochs = range(1, len(loss) + 1)\n",
    "\n",
    "plt.plot(epochs, loss, 'bo', label='Training loss')\n",
    "plt.plot(epochs, val_loss, 'b', label='Validation loss')\n",
    "plt.title(\"Training and validation loss\")\n",
    "plt.xlabel(\"Epochs\")\n",
    "plt.ylabel(\"Loss\")\n",
    "plt.legend()"
   ]
  },
  {
   "cell_type": "markdown",
   "metadata": {},
   "source": [
    "- 네트워크의 복잡도에 제한을 두어 가중치가 작은 값을 가지도록 강제한다."
   ]
  },
  {
   "cell_type": "markdown",
   "metadata": {},
   "source": [
    "## 4-3. 드롭아웃 추가"
   ]
  },
  {
   "cell_type": "markdown",
   "metadata": {},
   "source": [
    "1. 드롭아웃 비율은 0이 될 특성의 비율이다. \n",
    "\n",
    "    - 보통 0.2에서 0.5사이로 지정된다. 테스트 단계에서는 어느 유닛도 드롭아웃 되지 않습니다. 그 대신에 출력을 드롭아웃 비율에 비례하여 줄여줍니다. 훈련할 때 보다 더 많은 유닛이 활성화되기 때문입니다."
   ]
  },
  {
   "cell_type": "code",
   "execution_count": 26,
   "metadata": {},
   "outputs": [
    {
     "ename": "NameError",
     "evalue": "name 'layer_output' is not defined",
     "output_type": "error",
     "traceback": [
      "\u001b[1;31m---------------------------------------------------------------------------\u001b[0m",
      "\u001b[1;31mNameError\u001b[0m                                 Traceback (most recent call last)",
      "\u001b[1;32m<ipython-input-26-bb2a12a924b0>\u001b[0m in \u001b[0;36m<module>\u001b[1;34m()\u001b[0m\n\u001b[0;32m      1\u001b[0m \u001b[1;31m# 훈련할 때 유닛의 출력 중 50%를 버립니다.\u001b[0m\u001b[1;33m\u001b[0m\u001b[1;33m\u001b[0m\u001b[0m\n\u001b[1;32m----> 2\u001b[1;33m \u001b[0mlayer_output\u001b[0m \u001b[1;33m*=\u001b[0m \u001b[0mnp\u001b[0m\u001b[1;33m.\u001b[0m\u001b[0mrandom\u001b[0m\u001b[1;33m.\u001b[0m\u001b[0mrandoint\u001b[0m\u001b[1;33m(\u001b[0m\u001b[1;36m0\u001b[0m\u001b[1;33m,\u001b[0m \u001b[1;36m2\u001b[0m\u001b[1;33m,\u001b[0m \u001b[0msize\u001b[0m\u001b[1;33m=\u001b[0m\u001b[0mlayer_output\u001b[0m\u001b[1;33m.\u001b[0m\u001b[0mshape\u001b[0m\u001b[1;33m)\u001b[0m\u001b[1;33m\u001b[0m\u001b[0m\n\u001b[0m\u001b[0;32m      3\u001b[0m \u001b[1;33m\u001b[0m\u001b[0m\n\u001b[0;32m      4\u001b[0m \u001b[1;31m# 테스트할 때는 드랍아웃 비율로 출력을 낮추어 주어야 한다.\u001b[0m\u001b[1;33m\u001b[0m\u001b[1;33m\u001b[0m\u001b[0m\n\u001b[0;32m      5\u001b[0m \u001b[0mlayer_output\u001b[0m\u001b[1;33m*=\u001b[0m \u001b[1;36m0.5\u001b[0m\u001b[1;33m\u001b[0m\u001b[0m\n",
      "\u001b[1;31mNameError\u001b[0m: name 'layer_output' is not defined"
     ]
    }
   ],
   "source": [
    "# 훈련할 때 유닛의 출력 중 50%를 버립니다.\n",
    "layer_output *= np.random.randoint(0, 2, size=layer_output.shape)\n",
    "\n",
    "# 테스트할 때는 드랍아웃 비율로 출력을 낮추어 주어야 한다. \n",
    "layer_output*= 0.5\n",
    "\n",
    "# 훈련 단계에 이 두 연산을 포함시켜 테스트 단계에서는 출력을 그대로 두도록 구현할 수 있다. 실제로 종종 이런 방식으로 구현한다.\n",
    "layer_output *= np.random.randoint(0, 2, size=layer_output.shape)\n",
    "layer_output /= 0.5"
   ]
  },
  {
   "cell_type": "markdown",
   "metadata": {},
   "source": [
    "- 각 샘플에 대해 뉴런의 일부를 무작위하게 제거하면 뉴런의 부정한 협업을 방지하고 결국 과대적합을 감소시킨다는 것을 깨달았다.\n",
    "- 핵심 아이디어는 층의 출력 값에 노이즈를 추가하여 중요하지 않은 우연한 패턴(힌튼이 이야기한 부정한 협업)을 깨뜨리는 것입니다. 노이즈가 없다면 네트워크가 이 패턴을 기억하기 시작할 것이다."
   ]
  },
  {
   "cell_type": "code",
   "execution_count": 28,
   "metadata": {},
   "outputs": [],
   "source": [
    "from keras import layers"
   ]
  },
  {
   "cell_type": "code",
   "execution_count": 29,
   "metadata": {
    "scrolled": true
   },
   "outputs": [
    {
     "name": "stdout",
     "output_type": "stream",
     "text": [
      "Train on 15000 samples, validate on 10000 samples\n",
      "Epoch 1/20\n",
      "15000/15000 [==============================] - 4s 254us/step - loss: 0.6449 - binary_accuracy: 0.6685 - val_loss: 0.5132 - val_binary_accuracy: 0.8568\n",
      "Epoch 2/20\n",
      "15000/15000 [==============================] - 3s 172us/step - loss: 0.5050 - binary_accuracy: 0.8045 - val_loss: 0.4147 - val_binary_accuracy: 0.8744\n",
      "Epoch 3/20\n",
      "15000/15000 [==============================] - 3s 172us/step - loss: 0.4305 - binary_accuracy: 0.8493 - val_loss: 0.3548 - val_binary_accuracy: 0.8901\n",
      "Epoch 4/20\n",
      "15000/15000 [==============================] - 3s 168us/step - loss: 0.3824 - binary_accuracy: 0.8773 - val_loss: 0.3303 - val_binary_accuracy: 0.8935\n",
      "Epoch 5/20\n",
      "15000/15000 [==============================] - 3s 168us/step - loss: 0.3429 - binary_accuracy: 0.8913 - val_loss: 0.3292 - val_binary_accuracy: 0.8901\n",
      "Epoch 6/20\n",
      "15000/15000 [==============================] - 3s 169us/step - loss: 0.3121 - binary_accuracy: 0.9097 - val_loss: 0.3412 - val_binary_accuracy: 0.8845\n",
      "Epoch 7/20\n",
      "15000/15000 [==============================] - 3s 169us/step - loss: 0.2875 - binary_accuracy: 0.9235 - val_loss: 0.3607 - val_binary_accuracy: 0.8793\n",
      "Epoch 8/20\n",
      "15000/15000 [==============================] - 4s 253us/step - loss: 0.2747 - binary_accuracy: 0.9263 - val_loss: 0.3363 - val_binary_accuracy: 0.8908\n",
      "Epoch 9/20\n",
      "15000/15000 [==============================] - 3s 173us/step - loss: 0.2567 - binary_accuracy: 0.9352 - val_loss: 0.3534 - val_binary_accuracy: 0.8872\n",
      "Epoch 10/20\n",
      "15000/15000 [==============================] - 3s 171us/step - loss: 0.2450 - binary_accuracy: 0.9395 - val_loss: 0.3869 - val_binary_accuracy: 0.8737\n",
      "Epoch 11/20\n",
      "15000/15000 [==============================] - 3s 169us/step - loss: 0.2320 - binary_accuracy: 0.9425 - val_loss: 0.3625 - val_binary_accuracy: 0.8880\n",
      "Epoch 12/20\n",
      "15000/15000 [==============================] - 3s 169us/step - loss: 0.2270 - binary_accuracy: 0.9437 - val_loss: 0.3755 - val_binary_accuracy: 0.8878\n",
      "Epoch 13/20\n",
      "15000/15000 [==============================] - 3s 171us/step - loss: 0.2197 - binary_accuracy: 0.9465 - val_loss: 0.3833 - val_binary_accuracy: 0.8846\n",
      "Epoch 14/20\n",
      "15000/15000 [==============================] - 3s 169us/step - loss: 0.2163 - binary_accuracy: 0.9478 - val_loss: 0.4212 - val_binary_accuracy: 0.8760\n",
      "Epoch 15/20\n",
      "15000/15000 [==============================] - 3s 173us/step - loss: 0.2115 - binary_accuracy: 0.9491 - val_loss: 0.3972 - val_binary_accuracy: 0.8833\n",
      "Epoch 16/20\n",
      "15000/15000 [==============================] - 3s 171us/step - loss: 0.2037 - binary_accuracy: 0.9542 - val_loss: 0.4141 - val_binary_accuracy: 0.8831\n",
      "Epoch 17/20\n",
      "15000/15000 [==============================] - 3s 171us/step - loss: 0.2038 - binary_accuracy: 0.9537 - val_loss: 0.4376 - val_binary_accuracy: 0.8740\n",
      "Epoch 18/20\n",
      "15000/15000 [==============================] - 3s 169us/step - loss: 0.2011 - binary_accuracy: 0.9520 - val_loss: 0.4412 - val_binary_accuracy: 0.8816\n",
      "Epoch 19/20\n",
      "15000/15000 [==============================] - 3s 168us/step - loss: 0.1898 - binary_accuracy: 0.9576 - val_loss: 0.4646 - val_binary_accuracy: 0.8786\n",
      "Epoch 20/20\n",
      "15000/15000 [==============================] - 3s 169us/step - loss: 0.1926 - binary_accuracy: 0.9552 - val_loss: 0.4479 - val_binary_accuracy: 0.8806\n"
     ]
    }
   ],
   "source": [
    "model = Sequential()\n",
    "\n",
    "# 10000 feature 차원수\n",
    "model.add(Dense(16, activation='relu', kernel_regularizer=regularizers.l2(0.001), input_shape=(10000,)))\n",
    "model.add(layers.Dropout(0.5))\n",
    "model.add(Dense(16, activation='relu', kernel_regularizer=regularizers.l2(0.001)))\n",
    "model.add(layers.Dropout(0.5))\n",
    "model.add(Dense(1, activation='sigmoid'))\n",
    "\n",
    "model.compile(optimizer=RMSprop(lr=0.001), loss=losses.binary_crossentropy, metrics=[metrics.binary_accuracy])\n",
    "\n",
    "# 4. 검증 세트 준비하기\n",
    "\n",
    "x_val = x_train[:10000]\n",
    "partial_x_train = x_train[10000:]\n",
    "\n",
    "y_val = y_train[:10000]\n",
    "partial_y_train = y_train[10000:]\n",
    "\n",
    "history = model.fit(partial_x_train,\n",
    "                    partial_y_train,\n",
    "                    epochs=20,\n",
    "                    batch_size=512,\n",
    "                    validation_data=(x_val, y_val))"
   ]
  },
  {
   "cell_type": "code",
   "execution_count": 30,
   "metadata": {},
   "outputs": [
    {
     "data": {
      "text/plain": [
       "<matplotlib.legend.Legend at 0x313d0fdd68>"
      ]
     },
     "execution_count": 30,
     "metadata": {},
     "output_type": "execute_result"
    },
    {
     "data": {
      "image/png": "[encoded data removed]",
      "text/plain": [
       "<matplotlib.figure.Figure at 0x313d1aa128>"
      ]
     },
     "metadata": {},
     "output_type": "display_data"
    }
   ],
   "source": [
    "import matplotlib.pyplot as plt\n",
    "%matplotlib inline\n",
    "\n",
    "history_dict = history.history\n",
    "loss = history_dict['loss']\n",
    "val_loss = history_dict['val_loss']\n",
    "\n",
    "epochs = range(1, len(loss) + 1)\n",
    "\n",
    "plt.plot(epochs, loss, 'bo', label='Training loss')\n",
    "plt.plot(epochs, val_loss, 'b', label='Validation loss')\n",
    "plt.title(\"Training and validation loss\")\n",
    "plt.xlabel(\"Epochs\")\n",
    "plt.ylabel(\"Loss\")\n",
    "plt.legend()"
   ]
  },
  {
   "cell_type": "markdown",
   "metadata": {},
   "source": [
    "# 4.5 보편적인 머신러닝 작업흐름"
   ]
  },
  {
   "cell_type": "markdown",
   "metadata": {},
   "source": [
    "### 1. 문제 정의와 데이터셋 수집\n",
    "\n",
    "   - 문제 정의: 1) 문제 유형 2) 데이터 유형\n",
    "    \n",
    "   - 가설1: 주어진 입력으로 출력을 예측할 수 있다.\n",
    "   - 가설2: 가용한 데이터에 입력과 출력 사이의 관계를 학습하는 데 충분한 정보가 있다고 가설을 세운다.\n",
    "\n",
    "   <b>모델이 작동하기 전까지 이는 가설에 불과하다</b><br/><br/>\n",
    "    \n",
    "   - 풀기 어려운 문제는 시간에 따라 변하는 문제이다. 옷을 위한 추천 엔진을 구축한다고 가정한다. 이런 경우에 최근의 데이터로 주기적으로 모델을 다시 훈련하거나 시간 분포에 맞게 데이터를 수집하여 시간에 따라 변하지 않는 문제를 바꿉니다. (1년 중 언제인지 기록한 시간도 모델에 입력해야 한다)\n",
    "  \n",
    "   - 머신 러닝은 훈련 데이터에 있는 패턴을 기억하기 위해서만 사용한다. 이미 보았던 것만 인식할 수 있다. 미래를 예측하기 위해 과거 데이터에서 훈련한 머신 러닝을 사용하는 것은 미래가 과거처럼 움직인다고 가정하는 것이다."
   ]
  },
  {
   "cell_type": "markdown",
   "metadata": {},
   "source": [
    "### 2. 성공 지표 선택\n",
    "    \n",
    "    - 클래스 분포가 균일한 분류 문제에서는 정확도와 ROC AUC가 일반적이다.\n",
    "    - 랭킹 문제나 다중 레이블 문제에서는 평균 정밀도를 사용할 수 있다.\n",
    "    - 성공을 측정하기 위해 자신만의 지표를 설정하는 것은 일반적이지 않다."
   ]
  },
  {
   "cell_type": "markdown",
   "metadata": {},
   "source": [
    "### 3. 평가 방법 선택\n",
    "\n",
    "   - 홀드아웃 세트 분리: 데이터가 풍부할 때 사용\n",
    "   - K 겹 교차 검증: 홀드아웃을 사용하기에 샘플의 수가 너무 적을 때 사용한다.\n",
    "   - 반복 K겹 교차 검증: 데이터가 적고 매우 정확한 모델 평가가 필요할 때 사용한다."
   ]
  },
  {
   "cell_type": "markdown",
   "metadata": {},
   "source": [
    "### 4. 데이터 준비\n",
    "   - 데이터 전처리 \n",
    "    "
   ]
  },
  {
   "cell_type": "markdown",
   "metadata": {},
   "source": [
    "### 5. 기본보다 나은 모델 훈련하기\n",
    "\n",
    "   - 통계적 검정력을 달성하는 것이 항상 가능하지 않다. 여러 개의 타당성 있는 네트워크 구조를 시도해보고 무작위로 예측하는 모델보다 낫지 않다면 입력 데이터에 존재하지 않는 것을 얻으려고 한다는 신호일 것이다. 2개의 가설이 있다는 것을 기억하세요.\n",
    "\n",
    "   - 가설1: 주어진 입력으로 출력을 예측할 수 있다.\n",
    "   - 가설2: 가용한 데이터에 입력과 출력 사이의 관계를 학습하는 데 충분한 정보가 있다고 가설을 세운다.\n",
    "    \n",
    "    <b>이 가설이 잘못된 것일 수 있습니다. 이 때는 기획부터 다시 해야 합니다.</b>\n",
    "    \n",
    "   - 일이 잘 진행된다고 하면 활성화 함수, 손실 함수, 최적화 설정을 한다. "
   ]
  },
  {
   "cell_type": "markdown",
   "metadata": {},
   "source": [
    "### 6. 몸집 키우기\n",
    "\n",
    "- 통계적 검정력을 가진 모델을 얻었다면 이제 모델이 충분히 성능을 내는지 질문해야 한다.\n",
    "- 머신러닝은 최적화와 일반화 사이의 줄다리기이다. 과소적합과 과대적합 사이, 즉 과소 용량과 과대용량 경계에 적절히 위치한 모델이 이상적이다. 이 경계가 어디에 위치하는지 찾기 위해서는 먼저 지나쳐 봐야 한다.\n",
    "    - 층을 추가한다.\n",
    "    - 층의 크기를 키운다.\n",
    "    - 더 많은 에포크 동안 훈련한다.\n",
    "- 그 다음은 규제와 모델 튜닝을 시작하여 이상적인 모델에 가깝도록 만든다."
   ]
  },
  {
   "cell_type": "markdown",
   "metadata": {},
   "source": [
    "### 7. 모델 규제와 하이퍼파라미터 튜닝\n",
    "\n",
    "- 이 단계가 시간의 대부분을 차지한다.\n",
    "- 반복적으로 모델을 수정하고 훈련하고 검증 데이터에서 평가한다. 그리고 다시 수정하고 가능한 좋은 모델을 얻을 때까지 반복한다.\n",
    "    - 드롭 아웃을 추가한다.\n",
    "    - 층을 추가하거나 제거해서 다른 구조를 시도한다.\n",
    "    - L1, L2를 추가한다.\n",
    "    - 최적의 설정을 찾기위해 하이퍼파라미터를 바꾸어 시도한다.\n",
    "    - 선택적으로 특성 공학을 시도한다.\n",
    "    \n",
    "- 검증 과정에서 얻은 피드백을 사용하여 모델을 튜닝할 떄마다 검증 과정에 대한 정보를 모델에 누설하고 있다는 점이다. 몇 번만 반복하는 것은 문제가 되지 않는다. 하지만 많이 반복하면 결국 모델이 검증 과정에 과대적합될 것이다. 이는 검증 과정의 신뢰도를 감소시킨다.\n",
    "\n",
    "- 만족할 만한 모델 설정을 얻었다면 가용한 모든 데이터로 최종 모델을 훈련한다. 그리고 마지막에 딱 한 번 테스트 세트에서 평가한다. 테스트 성능이 검증 성능보다 많이 나쁘면 검증 데이터에 과적합된 것이다. 이때는 좀 더 신뢰할만한 평가 방법으로 바꾸는 것이 좋습니다."
   ]
  },
  {
   "cell_type": "code",
   "execution_count": null,
   "metadata": {},
   "outputs": [],
   "source": []
  }
 ],
 "metadata": {
  "kernelspec": {
   "display_name": "Python 3",
   "language": "python",
   "name": "python3"
  },
  "language_info": {
   "codemirror_mode": {
    "name": "ipython",
    "version": 3
   },
   "file_extension": ".py",
   "mimetype": "text/x-python",
   "name": "python",
   "nbconvert_exporter": "python",
   "pygments_lexer": "ipython3",
   "version": "3.6.6"
  }
 },
 "nbformat": 4,
 "nbformat_minor": 2
}
