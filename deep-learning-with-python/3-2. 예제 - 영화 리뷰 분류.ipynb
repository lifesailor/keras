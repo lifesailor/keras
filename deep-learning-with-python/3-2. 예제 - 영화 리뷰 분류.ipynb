{
 "cells": [
  {
   "cell_type": "code",
   "execution_count": 1,
   "metadata": {},
   "outputs": [
    {
     "name": "stderr",
     "output_type": "stream",
     "text": [
      "Using TensorFlow backend.\n"
     ]
    }
   ],
   "source": [
    "from keras.datasets import imdb"
   ]
  },
  {
   "cell_type": "markdown",
   "metadata": {},
   "source": [
    "# 1. 데이터셋"
   ]
  },
  {
   "cell_type": "code",
   "execution_count": 2,
   "metadata": {},
   "outputs": [],
   "source": [
    "# 자주 나타나는 단어 100개\n",
    "(train_data, train_labels), (test_data, test_labels) = imdb.load_data(path='imdb.npz', num_words=10000)"
   ]
  },
  {
   "cell_type": "markdown",
   "metadata": {},
   "source": [
    "# 2. 데이터 준비"
   ]
  },
  {
   "cell_type": "code",
   "execution_count": 3,
   "metadata": {},
   "outputs": [],
   "source": [
    "# word_index\n",
    "word_index = imdb.get_word_index() # 단어와 정수 인덱스를 매핑한 딕셔너리\n",
    "reverse_word_index = dict([value, key] for (key, value) in word_index.items())\n",
    "decoded_review = ' '.join([reverse_word_index.get(i-3, '?') for i in train_data[0]])"
   ]
  },
  {
   "cell_type": "code",
   "execution_count": 5,
   "metadata": {},
   "outputs": [],
   "source": [
    "import numpy as np\n",
    "\n",
    "def vectorize_sequences(sequences, dimension=10000):\n",
    "    results = np.zeros((len(sequences), dimension))\n",
    "    \n",
    "    for i, sequence in enumerate(sequences):\n",
    "        results[i, sequence] = 1.\n",
    "    return results"
   ]
  },
  {
   "cell_type": "code",
   "execution_count": 8,
   "metadata": {},
   "outputs": [],
   "source": [
    "# 각 위치에 있으면 1로 변환한다.\n",
    "# binary encoding\n",
    "x_train = vectorize_sequences(train_data)\n",
    "x_test = vectorize_sequences(test_data)"
   ]
  },
  {
   "cell_type": "code",
   "execution_count": 11,
   "metadata": {},
   "outputs": [],
   "source": [
    "y_train = np.asarray(train_labels).astype('float32')\n",
    "y_test = np.asarray(test_labels).astype('float32')"
   ]
  },
  {
   "cell_type": "markdown",
   "metadata": {},
   "source": [
    "# 3. 신경망 모델 만들기"
   ]
  },
  {
   "cell_type": "markdown",
   "metadata": {},
   "source": [
    "고려할 사항\n",
    "\n",
    "1. 얼마나 많은 층을 쌓을 것인가.\n",
    "2. 각 층에 얼마나 많은 은닉 유닛을 둘 것인가."
   ]
  },
  {
   "cell_type": "markdown",
   "metadata": {},
   "source": [
    "여기에서는 2층의 16개 UNIT을 둔다."
   ]
  },
  {
   "cell_type": "code",
   "execution_count": 12,
   "metadata": {},
   "outputs": [],
   "source": [
    "from keras.models import Sequential\n",
    "from keras.layers import Dense"
   ]
  },
  {
   "cell_type": "code",
   "execution_count": 14,
   "metadata": {},
   "outputs": [],
   "source": [
    "model = Sequential()\n",
    "\n",
    "# 10000 feature 차원수\n",
    "model.add(Dense(16, activation='relu', input_shape=(10000,)))\n",
    "model.add(Dense(16, activation='relu'))\n",
    "model.add(Dense(1, activation='sigmoid'))"
   ]
  },
  {
   "cell_type": "code",
   "execution_count": 18,
   "metadata": {},
   "outputs": [],
   "source": [
    "from keras.optimizers import RMSprop\n",
    "from keras import losses\n",
    "from keras import metrics\n",
    "\n",
    "model.compile(optimizer=RMSprop(lr=0.001), loss=losses.binary_crossentropy, metrics=[metrics.binary_accuracy])"
   ]
  },
  {
   "cell_type": "markdown",
   "metadata": {},
   "source": [
    "# 4. 검증 세트 준비하기"
   ]
  },
  {
   "cell_type": "code",
   "execution_count": 19,
   "metadata": {},
   "outputs": [],
   "source": [
    "x_val = x_train[:10000]\n",
    "partial_x_train = x_train[10000:]\n",
    "\n",
    "y_val = y_train[:10000]\n",
    "partial_y_train = y_train[10000:]"
   ]
  },
  {
   "cell_type": "code",
   "execution_count": 20,
   "metadata": {
    "scrolled": true
   },
   "outputs": [
    {
     "name": "stdout",
     "output_type": "stream",
     "text": [
      "Train on 15000 samples, validate on 10000 samples\n",
      "Epoch 1/20\n",
      "15000/15000 [==============================] - 4s 266us/step - loss: 0.5314 - binary_accuracy: 0.7934 - val_loss: 0.4411 - val_binary_accuracy: 0.8221\n",
      "Epoch 2/20\n",
      "15000/15000 [==============================] - 3s 224us/step - loss: 0.3245 - binary_accuracy: 0.9039 - val_loss: 0.3156 - val_binary_accuracy: 0.8855\n",
      "Epoch 3/20\n",
      "15000/15000 [==============================] - 4s 235us/step - loss: 0.2315 - binary_accuracy: 0.9286 - val_loss: 0.2834 - val_binary_accuracy: 0.8890\n",
      "Epoch 4/20\n",
      "15000/15000 [==============================] - 3s 228us/step - loss: 0.1795 - binary_accuracy: 0.9455 - val_loss: 0.2891 - val_binary_accuracy: 0.8851\n",
      "Epoch 5/20\n",
      "15000/15000 [==============================] - 3s 230us/step - loss: 0.1442 - binary_accuracy: 0.9545 - val_loss: 0.2875 - val_binary_accuracy: 0.8838\n",
      "Epoch 6/20\n",
      "15000/15000 [==============================] - 3s 215us/step - loss: 0.1209 - binary_accuracy: 0.9642 - val_loss: 0.3049 - val_binary_accuracy: 0.8817\n",
      "Epoch 7/20\n",
      "15000/15000 [==============================] - 3s 213us/step - loss: 0.0983 - binary_accuracy: 0.9719 - val_loss: 0.3142 - val_binary_accuracy: 0.8832\n",
      "Epoch 8/20\n",
      "15000/15000 [==============================] - 3s 212us/step - loss: 0.0831 - binary_accuracy: 0.9771 - val_loss: 0.3337 - val_binary_accuracy: 0.8807\n",
      "Epoch 9/20\n",
      "15000/15000 [==============================] - 3s 214us/step - loss: 0.0689 - binary_accuracy: 0.9827 - val_loss: 0.3727 - val_binary_accuracy: 0.8716\n",
      "Epoch 10/20\n",
      "15000/15000 [==============================] - 3s 214us/step - loss: 0.0594 - binary_accuracy: 0.9852 - val_loss: 0.3925 - val_binary_accuracy: 0.8713\n",
      "Epoch 11/20\n",
      "15000/15000 [==============================] - 3s 227us/step - loss: 0.0476 - binary_accuracy: 0.9889 - val_loss: 0.4146 - val_binary_accuracy: 0.8741\n",
      "Epoch 12/20\n",
      "15000/15000 [==============================] - 3s 229us/step - loss: 0.0388 - binary_accuracy: 0.9915 - val_loss: 0.4556 - val_binary_accuracy: 0.8704\n",
      "Epoch 13/20\n",
      "15000/15000 [==============================] - 3s 230us/step - loss: 0.0326 - binary_accuracy: 0.9939 - val_loss: 0.5028 - val_binary_accuracy: 0.8658\n",
      "Epoch 14/20\n",
      "15000/15000 [==============================] - 3s 230us/step - loss: 0.0263 - binary_accuracy: 0.9951 - val_loss: 0.5163 - val_binary_accuracy: 0.8639\n",
      "Epoch 15/20\n",
      "15000/15000 [==============================] - 3s 228us/step - loss: 0.0220 - binary_accuracy: 0.9959 - val_loss: 0.5369 - val_binary_accuracy: 0.8675\n",
      "Epoch 16/20\n",
      "15000/15000 [==============================] - 4s 234us/step - loss: 0.0175 - binary_accuracy: 0.9969 - val_loss: 0.5731 - val_binary_accuracy: 0.8669\n",
      "Epoch 17/20\n",
      "15000/15000 [==============================] - 4s 277us/step - loss: 0.0134 - binary_accuracy: 0.9982 - val_loss: 0.6060 - val_binary_accuracy: 0.8658\n",
      "Epoch 18/20\n",
      "15000/15000 [==============================] - 4s 286us/step - loss: 0.0116 - binary_accuracy: 0.9983 - val_loss: 0.6375 - val_binary_accuracy: 0.8665\n",
      "Epoch 19/20\n",
      "15000/15000 [==============================] - 4s 258us/step - loss: 0.0071 - binary_accuracy: 0.9993 - val_loss: 0.6965 - val_binary_accuracy: 0.8567\n",
      "Epoch 20/20\n",
      "15000/15000 [==============================] - 4s 248us/step - loss: 0.0087 - binary_accuracy: 0.9986 - val_loss: 0.7075 - val_binary_accuracy: 0.8614\n"
     ]
    }
   ],
   "source": [
    "history = model.fit(partial_x_train,\n",
    "                    partial_y_train,\n",
    "                    epochs=20,\n",
    "                    batch_size=512,\n",
    "                    validation_data=(x_val, y_val))"
   ]
  },
  {
   "cell_type": "markdown",
   "metadata": {},
   "source": [
    "- epoch이 2에서 수렴"
   ]
  },
  {
   "cell_type": "code",
   "execution_count": 21,
   "metadata": {},
   "outputs": [
    {
     "data": {
      "text/plain": [
       "dict_keys(['val_loss', 'loss', 'val_binary_accuracy', 'binary_accuracy'])"
      ]
     },
     "execution_count": 21,
     "metadata": {},
     "output_type": "execute_result"
    }
   ],
   "source": [
    "history_dict = history.history\n",
    "history_dict.keys()"
   ]
  },
  {
   "cell_type": "markdown",
   "metadata": {},
   "source": [
    "### plot"
   ]
  },
  {
   "cell_type": "code",
   "execution_count": 24,
   "metadata": {},
   "outputs": [
    {
     "data": {
      "text/plain": [
       "<matplotlib.legend.Legend at 0xc10f9017f0>"
      ]
     },
     "execution_count": 24,
     "metadata": {},
     "output_type": "execute_result"
    },
    {
     "data": {
      "image/png": "[encoded data removed]",
      "text/plain": [
       "<matplotlib.figure.Figure at 0xc10f897b00>"
      ]
     },
     "metadata": {},
     "output_type": "display_data"
    }
   ],
   "source": [
    "import matplotlib.pyplot as plt\n",
    "%matplotlib inline\n",
    "\n",
    "history_dict = history.history\n",
    "loss = history_dict['loss']\n",
    "val_loss = history_dict['val_loss']\n",
    "\n",
    "epochs = range(1, len(loss) + 1)\n",
    "\n",
    "plt.plot(epochs, loss, 'bo', label='Training loss')\n",
    "plt.plot(epochs, val_loss, 'b', label='Validation loss')\n",
    "plt.title(\"Training and validation loss\")\n",
    "plt.xlabel(\"Epochs\")\n",
    "plt.ylabel(\"Loss\")\n",
    "plt.legend()"
   ]
  },
  {
   "cell_type": "code",
   "execution_count": 26,
   "metadata": {},
   "outputs": [
    {
     "data": {
      "image/png": "[encoded data removed]",
      "text/plain": [
       "<matplotlib.figure.Figure at 0xc12604f0b8>"
      ]
     },
     "metadata": {},
     "output_type": "display_data"
    }
   ],
   "source": [
    "# 그래프 초기화\n",
    "plt.clf()\n",
    "acc = history_dict['binary_accuracy']\n",
    "val_acc = history_dict['val_binary_accuracy']\n",
    "\n",
    "plt.plot(epochs, acc, 'bo', label=\"Training acc\")\n",
    "plt.plot(epochs, val_acc, 'b', label=\"Validation acc\")\n",
    "plt.title(\"Training and validation accuracy\")\n",
    "plt.xlabel(\"Epochs\")\n",
    "plt.ylabel(\"Accuracy\")\n",
    "plt.legend()\n",
    "\n",
    "plt.show()"
   ]
  },
  {
   "cell_type": "markdown",
   "metadata": {},
   "source": [
    "# 5. 훈련된 모델로 새로운 데이터에 대해 예측"
   ]
  },
  {
   "cell_type": "code",
   "execution_count": 28,
   "metadata": {},
   "outputs": [],
   "source": [
    "y_pred = model.predict(x_test)"
   ]
  },
  {
   "cell_type": "code",
   "execution_count": 35,
   "metadata": {},
   "outputs": [],
   "source": [
    "y_pred = np.round(y_pred).reshape(-1)"
   ]
  },
  {
   "cell_type": "code",
   "execution_count": 36,
   "metadata": {},
   "outputs": [
    {
     "name": "stdout",
     "output_type": "stream",
     "text": [
      "(25000,) (25000,)\n"
     ]
    }
   ],
   "source": [
    "print(y_test.shape, y_pred.shape)"
   ]
  },
  {
   "cell_type": "code",
   "execution_count": 37,
   "metadata": {},
   "outputs": [
    {
     "data": {
      "text/plain": [
       "0.85248000000000002"
      ]
     },
     "execution_count": 37,
     "metadata": {},
     "output_type": "execute_result"
    }
   ],
   "source": [
    "np.mean(y_test == y_pred)"
   ]
  },
  {
   "cell_type": "markdown",
   "metadata": {},
   "source": [
    "# 6. 추가 실험"
   ]
  },
  {
   "cell_type": "code",
   "execution_count": 40,
   "metadata": {
    "scrolled": true
   },
   "outputs": [
    {
     "name": "stdout",
     "output_type": "stream",
     "text": [
      "Train on 15000 samples, validate on 10000 samples\n",
      "Epoch 1/20\n",
      "15000/15000 [==============================] - 4s 287us/step - loss: 0.9037 - acc: 0.5002 - val_loss: 0.9269 - val_acc: 0.4997\n",
      "Epoch 2/20\n",
      "15000/15000 [==============================] - 4s 260us/step - loss: 0.7803 - acc: 0.4986 - val_loss: 0.6791 - val_acc: 0.4997\n",
      "Epoch 3/20\n",
      "15000/15000 [==============================] - 4s 254us/step - loss: 0.7439 - acc: 0.5715 - val_loss: 0.4583 - val_acc: 0.8125\n",
      "Epoch 4/20\n",
      "15000/15000 [==============================] - 4s 247us/step - loss: 0.4942 - acc: 0.7723 - val_loss: 0.4079 - val_acc: 0.8458\n",
      "Epoch 5/20\n",
      "15000/15000 [==============================] - 4s 234us/step - loss: 0.3771 - acc: 0.8548 - val_loss: 0.4162 - val_acc: 0.8431\n",
      "Epoch 6/20\n",
      "15000/15000 [==============================] - 3s 226us/step - loss: 0.3185 - acc: 0.8791 - val_loss: 0.3369 - val_acc: 0.8674\n",
      "Epoch 7/20\n",
      "15000/15000 [==============================] - 4s 241us/step - loss: 0.2896 - acc: 0.8856 - val_loss: 0.4347 - val_acc: 0.8408\n",
      "Epoch 8/20\n",
      "15000/15000 [==============================] - 4s 235us/step - loss: 0.2579 - acc: 0.9054 - val_loss: 0.3568 - val_acc: 0.8579\n",
      "Epoch 9/20\n",
      "15000/15000 [==============================] - 4s 240us/step - loss: 0.2411 - acc: 0.9130 - val_loss: 0.4004 - val_acc: 0.8589\n",
      "Epoch 10/20\n",
      "15000/15000 [==============================] - 4s 241us/step - loss: 0.2362 - acc: 0.9144 - val_loss: 0.3622 - val_acc: 0.8698\n",
      "Epoch 11/20\n",
      "15000/15000 [==============================] - 4s 239us/step - loss: 0.2024 - acc: 0.9280 - val_loss: 0.4079 - val_acc: 0.8710\n",
      "Epoch 12/20\n",
      "15000/15000 [==============================] - 4s 245us/step - loss: 0.2179 - acc: 0.9233 - val_loss: 0.3516 - val_acc: 0.8626\n",
      "Epoch 13/20\n",
      "15000/15000 [==============================] - 3s 232us/step - loss: 0.1848 - acc: 0.9366 - val_loss: 0.3244 - val_acc: 0.8716\n",
      "Epoch 14/20\n",
      "15000/15000 [==============================] - 4s 264us/step - loss: 0.1809 - acc: 0.9387 - val_loss: 0.3693 - val_acc: 0.8696\n",
      "Epoch 15/20\n",
      "15000/15000 [==============================] - 3s 230us/step - loss: 0.1648 - acc: 0.9435 - val_loss: 0.4057 - val_acc: 0.8672\n",
      "Epoch 16/20\n",
      "15000/15000 [==============================] - 3s 228us/step - loss: 0.1728 - acc: 0.9393 - val_loss: 0.4283 - val_acc: 0.8705\n",
      "Epoch 17/20\n",
      "15000/15000 [==============================] - 3s 230us/step - loss: 0.1557 - acc: 0.9450 - val_loss: 0.4070 - val_acc: 0.8723\n",
      "Epoch 18/20\n",
      "15000/15000 [==============================] - 3s 231us/step - loss: 0.1339 - acc: 0.9579 - val_loss: 0.5109 - val_acc: 0.8719\n",
      "Epoch 19/20\n",
      "15000/15000 [==============================] - 4s 234us/step - loss: 0.1564 - acc: 0.9477 - val_loss: 0.3921 - val_acc: 0.8704\n",
      "Epoch 20/20\n",
      "15000/15000 [==============================] - 4s 243us/step - loss: 0.1362 - acc: 0.9554 - val_loss: 0.3562 - val_acc: 0.8708\n"
     ]
    },
    {
     "data": {
      "text/plain": [
       "<keras.callbacks.History at 0xc108697518>"
      ]
     },
     "execution_count": 40,
     "metadata": {},
     "output_type": "execute_result"
    }
   ],
   "source": [
    "model = Sequential()\n",
    "model.add(Dense(16, activation='tanh', input_shape=(x_train.shape[1],)))\n",
    "model.add(Dense(16, activation='tanh'))\n",
    "model.add(Dense(16, activation='tanh'))\n",
    "model.add(Dense(1, activation='sigmoid'))\n",
    "\n",
    "model.compile(loss='binary_crossentropy', optimizer=RMSprop(lr=0.1), metrics=['acc'])\n",
    "model.fit(partial_x_train, \n",
    "          partial_y_train, \n",
    "          epochs=20,\n",
    "          batch_size=512,\n",
    "          validation_data=(x_val, y_val))"
   ]
  },
  {
   "cell_type": "markdown",
   "metadata": {},
   "source": [
    "- epoch 6에서 수렴"
   ]
  },
  {
   "cell_type": "code",
   "execution_count": 42,
   "metadata": {},
   "outputs": [
    {
     "data": {
      "text/plain": [
       "<matplotlib.legend.Legend at 0xc10f9694e0>"
      ]
     },
     "execution_count": 42,
     "metadata": {},
     "output_type": "execute_result"
    },
    {
     "data": {
      "image/png": "[encoded data removed]",
      "text/plain": [
       "<matplotlib.figure.Figure at 0xc125e17978>"
      ]
     },
     "metadata": {},
     "output_type": "display_data"
    }
   ],
   "source": [
    "import matplotlib.pyplot as plt\n",
    "%matplotlib inline\n",
    "\n",
    "history_dict = history.history\n",
    "loss = history_dict['loss']\n",
    "val_loss = history_dict['val_loss']\n",
    "\n",
    "epochs = range(1, len(loss) + 1)\n",
    "\n",
    "fig = plt.subplots()\n",
    "plt.plot(epochs, loss, 'bo', label='Training loss')\n",
    "plt.plot(epochs, val_loss, 'b', label='Validation loss')\n",
    "plt.title(\"Training and validation loss\")\n",
    "plt.xlabel(\"Epochs\")\n",
    "plt.ylabel(\"Loss\")\n",
    "plt.legend()"
   ]
  },
  {
   "cell_type": "code",
   "execution_count": 44,
   "metadata": {},
   "outputs": [
    {
     "data": {
      "image/png": "[encoded data removed]",
      "text/plain": [
       "<matplotlib.figure.Figure at 0xc125e7f470>"
      ]
     },
     "metadata": {},
     "output_type": "display_data"
    }
   ],
   "source": [
    "# 그래프 초기화\n",
    "plt.clf()\n",
    "acc = history_dict['binary_accuracy']\n",
    "val_acc = history_dict['val_binary_accuracy']\n",
    "\n",
    "plt.plot(epochs, acc, 'bo', label=\"Training acc\")\n",
    "plt.plot(epochs, val_acc, 'b', label=\"Validation acc\")\n",
    "plt.title(\"Training and validation accuracy\")\n",
    "plt.xlabel(\"Epochs\")\n",
    "plt.ylabel(\"Accuracy\")\n",
    "plt.legend()\n",
    "\n",
    "plt.show()"
   ]
  },
  {
   "cell_type": "markdown",
   "metadata": {},
   "source": [
    "# 7. 정리"
   ]
  },
  {
   "cell_type": "markdown",
   "metadata": {},
   "source": [
    "1. 원본 데이터를 텐서로 주입하기 위해 전처리가 필요하다.\n",
    "2. relu 활성화\n",
    "3. 이진 분류 문제는 sigmoid 활성화 함수를 가진 Dense로 끝나야 한다.\n",
    "4. 이진 분류 문제에서 이런 스칼라 시그모이드 출력에 대해 사용할 손실 함수는 binary_crossentropy\n",
    "5. rmsprop 옵티마이저는 일반적으로 좋다.\n",
    "6. overfitting을 조심해야 한다."
   ]
  }
 ],
 "metadata": {
  "kernelspec": {
   "display_name": "Python 3",
   "language": "python",
   "name": "python3"
  },
  "language_info": {
   "codemirror_mode": {
    "name": "ipython",
    "version": 3
   },
   "file_extension": ".py",
   "mimetype": "text/x-python",
   "name": "python",
   "nbconvert_exporter": "python",
   "pygments_lexer": "ipython3",
   "version": "3.5.4"
  }
 },
 "nbformat": 4,
 "nbformat_minor": 2
}
