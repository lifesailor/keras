{
 "cells": [
  {
   "cell_type": "markdown",
   "metadata": {},
   "source": [
    "- 인공지능은 우리 생활과 일에 지능을 더합니다. 이 지능은 다른 종류의 지능입니다. 여러 분야에서 특히 예술에서는 AI가 사람의 능력을 증가시키는 도구로 사용될 것입니다. 즉 인공적인 지능이 아니라 확장된 지능입니다.\n",
    "\n",
    "\n",
    "- 예술 창작의 대부분은 간단한 패턴 인식과 기술로 만들어집니다. 많은 사람은 이런 과정에 관심이 없거나 심지어 불필요하다고 생각하기도 합니다. 여기에 AI가 필요합니다. 사람의 지각, 언어 예술 작품은 모두 통계적 구조를 가집니다. 딥러닝 알고리즘은 이 구조를 학습하는 데 뛰어납니다. 머신 러닝 모델은 이미지, 음악, 글의 잠재적 공간을 학습할 수 있습니다.\n",
    "\n",
    "\n",
    "- 이 장에서 예술 창작에 딥러닝이 어떻게 쓰일 수 있는지 다양한 각도에서 살펴보겠습니다. 시퀀스 데이터 생성과 딥드림, 변이형 오토인코더, 적대적 생성 네트워크를 사용한 이미지 생성을 알아보겠습니다."
   ]
  },
  {
   "cell_type": "markdown",
   "metadata": {},
   "source": [
    "# 1. LSTM으로 텍스트 생성하기"
   ]
  },
  {
   "cell_type": "markdown",
   "metadata": {},
   "source": [
    "- 이 절에서 순환 신경망으로 시퀀스 데이터를 생성하는 방법을 살펴보겠습니다. 텍스트 생성을 에로 들지만 동일한 기법으로 어떤 종류의 시퀀스 데이터도 생성할 수 있습니다. 음표의 시퀀스에 적용하여 새로운 음악을 만들거나 연속된 붓질 시퀀스에 적용하여 한 획 한 획 그림을 그릴 수 있습니다."
   ]
  },
  {
   "cell_type": "markdown",
   "metadata": {},
   "source": [
    "- 딥러닝에서 시퀀스 데이터를 생성하는 일반적인 방법은 이전 토큰을 입력으로 사용해서 시퀀스의 다음 1개 또는 몇 개의 토큰을 예측하는 것입니다. 예를 들어 'the cat is on the mat'란 입력이 주어지면 다음 글자인 타깃 't'를 예측하도록 네트워크를 훈련시킵니다. 텍스트 데이터를 다룰 때 토큰은 봍오 단어 또는 글자입니다. 이전 토큰들이 주어졌을 때 다음 토큰의 확률을 모델링할 수 있는 네트워크를 언어 모델이라고 부릅니다."
   ]
  },
  {
   "cell_type": "markdown",
   "metadata": {},
   "source": [
    "## 1. 샘플링 전략의 중요성"
   ]
  },
  {
   "cell_type": "markdown",
   "metadata": {},
   "source": [
    "1. 탐욕적 샘플링: 텍스트를 생성할 때 다음 글자를 생성하는 방법이 아주 중요합니다. 단순한 방법은 항상 가장 높은 확률을 가진 글자를 선택하는 방법입니다. 이 방법은 반복적이기 때문에 논리적인 언어처럼 보이지 않는다.\n",
    "\n",
    "\n",
    "2. 확률적 샘플링: 다음 글자의 확률 분포에서 샘플링하는 과정에 무작위성을 주입하는 방법입니다. 이를 확률적 샘플링이라고 부릅니다.\n",
    "    - 샘플링 과정에서 무작위성의 양을 조절한 방법이 없다.\n",
    "    \n",
    "    \n",
    "3. 소프트맥스 온도: 샘플링 과정에서 확률의 양을 조절하기 위해 소프트맥스 온도라는 파라미터를 사용합니다. 이 파라미터는 샘플링에 사용되는 확률 분포의 엔트로피를 나타냅니다. 얼마나 놀라운 또는 예상되는 글자를 선택할지 결정합니다."
   ]
  },
  {
   "cell_type": "code",
   "execution_count": 1,
   "metadata": {},
   "outputs": [],
   "source": [
    "import numpy as np\n",
    "\n",
    "def reweight_distribution(original_distribution, temperature=0.5):\n",
    "    distribution = np.log(original_distribution) / temperature\n",
    "    distribution = np.exp(distribution)\n",
    "    return distribution / np.sum(distribution)"
   ]
  },
  {
   "cell_type": "markdown",
   "metadata": {},
   "source": [
    "## 2. 글자 수준의 LSTM 텍스트 생성 모델 구현"
   ]
  },
  {
   "cell_type": "markdown",
   "metadata": {},
   "source": [
    "- 니체의 글을 인용한다."
   ]
  },
  {
   "cell_type": "code",
   "execution_count": 2,
   "metadata": {},
   "outputs": [
    {
     "name": "stderr",
     "output_type": "stream",
     "text": [
      "Using TensorFlow backend.\n"
     ]
    }
   ],
   "source": [
    "import keras\n",
    "import numpy as np"
   ]
  },
  {
   "cell_type": "markdown",
   "metadata": {},
   "source": [
    "### 1. 데이터"
   ]
  },
  {
   "cell_type": "code",
   "execution_count": 3,
   "metadata": {},
   "outputs": [
    {
     "name": "stdout",
     "output_type": "stream",
     "text": [
      "Downloading data from https://s3.amazonaws.com/text-datasets/nietzsche.txt\n",
      "606208/600901 [==============================] - 1s 1us/step\n",
      "말 뭉치 크기:  600893\n"
     ]
    }
   ],
   "source": [
    "# 원본 텍스트 파일을 내려받아 파싱하기\n",
    "path = keras.utils.get_file('nietzche.txt', origin='https://s3.amazonaws.com/text-datasets/nietzsche.txt')\n",
    "text = open(path).read().lower()\n",
    "print(\"말 뭉치 크기: \", len(text))"
   ]
  },
  {
   "cell_type": "code",
   "execution_count": 4,
   "metadata": {},
   "outputs": [],
   "source": [
    "# 글자 시퀀스 벡터화하기\n",
    "maxlen = 60\n",
    "step = 3\n",
    "sentences = []\n",
    "next_chars = []\n",
    "\n",
    "# 3글자씩 뛰어넘으면서 중복 추출한다.\n",
    "for i in range(0, len(text) - maxlen, step):\n",
    "    sentences.append(text[i: i + maxlen])\n",
    "    next_chars.append(text[i + maxlen])"
   ]
  },
  {
   "cell_type": "code",
   "execution_count": 8,
   "metadata": {},
   "outputs": [
    {
     "name": "stdout",
     "output_type": "stream",
     "text": [
      "시퀀스 개수:  200278\n"
     ]
    }
   ],
   "source": [
    "print(\"시퀀스 개수: \", len(sentences))"
   ]
  },
  {
   "cell_type": "code",
   "execution_count": 9,
   "metadata": {},
   "outputs": [
    {
     "name": "stdout",
     "output_type": "stream",
     "text": [
      "고유한 글자:  57\n"
     ]
    }
   ],
   "source": [
    "chars = sorted(list(set(text)))\n",
    "print(\"고유한 글자: \", len(chars))\n",
    "char_indices = dict((char, chars.index(char)) for char in chars)"
   ]
  },
  {
   "cell_type": "code",
   "execution_count": 11,
   "metadata": {},
   "outputs": [
    {
     "name": "stdout",
     "output_type": "stream",
     "text": [
      "벡터화\n"
     ]
    }
   ],
   "source": [
    "print(\"벡터화\")\n",
    "x = np.zeros((len(sentences), maxlen, len(chars)), dtype=np.bool)\n",
    "y = np.zeros((len(sentences), len(chars)), dtype=np.bool)\n",
    "\n",
    "# 글자를 원핫 인코딩하여 0과 1의 이진 배열로 바꾼다.\n",
    "for i, sentence in enumerate(sentences):\n",
    "    for t, char in enumerate(sentence):\n",
    "        x[i, t, char_indices[char]] = 1\n",
    "    y[i, char_indices[next_chars[i]]] = 1"
   ]
  },
  {
   "cell_type": "markdown",
   "metadata": {},
   "source": [
    "### 2. 네트워크 구성"
   ]
  },
  {
   "cell_type": "code",
   "execution_count": 14,
   "metadata": {},
   "outputs": [],
   "source": [
    "from keras import layers\n",
    "\n",
    "# 이 네트워크는 하나의 LSTM 층과 그 뒤에 Dense 분류기가 뒤따른다.\n",
    "model = keras.models.Sequential()\n",
    "model.add(layers.LSTM(128, input_shape=(maxlen, len(chars))))\n",
    "model.add(layers.Dense(len(chars), activation='softmax'))"
   ]
  },
  {
   "cell_type": "code",
   "execution_count": 15,
   "metadata": {},
   "outputs": [],
   "source": [
    "# 타깃이 원핫 인코딩 되어 있기 때문에 모델 훈련을 위해 categorical_crossentropy 손실을 사용한다.\n",
    "optimizer = keras.optimizers.RMSprop(lr=0.01)\n",
    "model.compile(loss='categorical_crossentropy', optimizer=optimizer)"
   ]
  },
  {
   "cell_type": "markdown",
   "metadata": {},
   "source": [
    "### 3. 언어 모델 훈련과 샘플링"
   ]
  },
  {
   "cell_type": "markdown",
   "metadata": {},
   "source": [
    "- 훈련된 모델과 seed로 쓰일 간단한 텍스트가 주어지면 다음과 같이 반복하여 새로운 텍스트를 생성할 수 있다."
   ]
  },
  {
   "cell_type": "markdown",
   "metadata": {},
   "source": [
    "1. 지금까지 생성된 텍스트를 주입하여 모델에서 다음 글자에 대한 확률 분포를 뽑는다.\n",
    "2. 특정 온도로 이 확률 분포의 가중치를 조정한다.\n",
    "3. 가중치가 조정된 분포에서 무작위로 새로운 글자를 샘플링합니다.\n",
    "4. 새로운 글자를 생성된 텍스트의 끝에 추가한다."
   ]
  },
  {
   "cell_type": "code",
   "execution_count": 16,
   "metadata": {},
   "outputs": [],
   "source": [
    "def sample(preds, temperature=1.0):\n",
    "    preds = np.asarray(preds).astype('float64')\n",
    "    preds = np.log(preds) / temperature\n",
    "    exp_preds = np.exp(preds)\n",
    "    preds = exp_preds / np.sum(exp_preds)\n",
    "    probas = np.random.multinomial(1, preds, 1)\n",
    "    return np.argmax(probas)"
   ]
  },
  {
   "cell_type": "markdown",
   "metadata": {},
   "source": [
    "- 마지막으로 다음 반복문은 반복적으로 훈련하고 텍스트를 생성한다. 에포크마다 학습이 끝난 후 여러 가지 온도를 사용해서 텍스트를 생성한다. 이렇게 하면 모델이 수렴하면서 생성된 텍스트가 어떻게 진화하는지 볼 수 있다. 온도가 샘플링 전략에 미치는 영향도 보여줍니다."
   ]
  },
  {
   "cell_type": "code",
   "execution_count": 17,
   "metadata": {},
   "outputs": [
    {
     "data": {
      "text/plain": [
       "116739"
      ]
     },
     "execution_count": 17,
     "metadata": {},
     "output_type": "execute_result"
    }
   ],
   "source": [
    "import random\n",
    "import sys\n",
    "\n",
    "random.seed(42)\n",
    "start_index = random.randint(0, len(text) - maxlen - 1)\n",
    "start_index"
   ]
  },
  {
   "cell_type": "code",
   "execution_count": 19,
   "metadata": {
    "scrolled": true
   },
   "outputs": [
    {
     "name": "stdout",
     "output_type": "stream",
     "text": [
      "에폭 1\n",
      "Epoch 1/1\n",
      "200278/200278 [==============================] - 74s 370us/step - loss: 1.3647\n",
      "--- 시드 텍스트: 'the slowly ascending ranks and classes, in which,\n",
      "through fo'\n",
      "------ 온도:  0.2\n",
      "the slowly ascending ranks and classes, in which,\n",
      "through forms of the spirit of the same time the spirit and the same the spirit and the strength the spirit of the same the spirit and the senses of the than the same the spiritual proper and the soul, a something all the spirit of the spirit of the spirit and proper and the senses of the spirit of the spirit of the delights of the spirit and so case of the spiritual soul the strength to the senses of the s\n",
      "------ 온도:  0.5\n",
      "the slowly ascending ranks and classes, in which,\n",
      "through former the rasting for example, the sense of the pattic and sacrifice must above all act of a morality of distrust in the chastible everything begins and conscience, of the spiritual proper the laugh the will comes the contrary desirability of the free spirits of the spirit controly and special religion, pleasure and the vain, the greater of the deeper the deceives \"god the cirse of the same the con\n",
      "------ 온도:  1.0\n",
      "the slowly ascending ranks and classes, in which,\n",
      "through form balging, increase in, the stintious called tryst\n",
      "of subort? on the wowld reflect lofs distruscard to\n",
      "a concent that if there would be notain a longers?\n",
      "           on an oldmies who must in nelties sympathy of\n",
      "regards pare that an enor good, a power of his veols for the people\n",
      "of his to be comarity\n",
      "you be\n",
      "grould coansation man,\n",
      "great the paids from lest that morals,\n",
      "heging it is to\n",
      "immorality\"--\n",
      "------ 온도:  1.2\n",
      "the slowly ascending ranks and classes, in which,\n",
      "through former depends as traffining. franch spires. fertiousness and well, shorns a comble,\n",
      "groumly astimes and presence, ty\" in perhaps glocce once bree can myself, of the , him from\n",
      "the talit of\n",
      "aut foolferousimance\n",
      "spirit!able at the\n",
      "from tancy, homo.kject of hifden! fired and hemens, \"him still chintilay by \"formss as not as although ye\n",
      "disgustences,\" awanogvature, act of than chimwior in wo daken\": th\n",
      "에폭 2\n",
      "Epoch 1/1\n",
      "200278/200278 [==============================] - 73s 363us/step - loss: 1.3606\n",
      "--- 시드 텍스트: 'the slowly ascending ranks and classes, in which,\n",
      "through fo'\n",
      "------ 온도:  0.2\n",
      "the slowly ascending ranks and classes, in which,\n",
      "through formerly always to be the fairable that the sense of the sense of the past the spirit and the senses of the sense of the scientificance of the same the spirit and the present the conscient the strength and the same the strength of the same and the same the whole consider of the same the spirit and the sense of the sense of the sense of the conscious the sense of the problem of the spirit and the per\n",
      "------ 온도:  0.5\n",
      "the slowly ascending ranks and classes, in which,\n",
      "through for the every countrice which is a man and mistive the \"interpretation and the demands of \"conclusion and sufficient the not to the world and to any being the power of the perstal being of the fact that he seeged, and something and whose last here things in a man are in the constal in order to personal men and the same time of a good opinion of the contain of his false the rest believes become and o\n",
      "------ 온도:  1.0\n",
      "the slowly ascending ranks and classes, in which,\n",
      "through for our supcelige: it herenfques the man is not it is geauty of its words when one's mindeful, and the spirit enore, but itself mustray,\" and superficiging of compolite them,\n",
      "and distrissd of plant organic justic, for in strengandlying conscience that whether\n",
      "we else to be guilt to corditts, called\n",
      "conated merely must itself,\n",
      "in knowledge of the world consequences, suthuctic sapt one\"? if the such a\n",
      "------ 온도:  1.2\n",
      "the slowly ascending ranks and classes, in which,\n",
      "through formumon. but they younles,\" it \"garbin; or. pudeancating (addists\n",
      "them which he lou were constitutes, in ethicable, what-decah te sufying arrangeus coldune only deteries thre stylentowing incredicity of \"coecideded etsy, obediedty. this way the\n",
      "logicified. them, while a profperac to truth knowledge in resisting himself: what feel one ceftain soliess--eegoriutl: in mystetted in graspantly \"beobvels \n",
      "에폭 3\n",
      "Epoch 1/1\n",
      "200278/200278 [==============================] - 73s 367us/step - loss: 1.3539\n",
      "--- 시드 텍스트: 'the slowly ascending ranks and classes, in which,\n",
      "through fo'\n",
      "------ 온도:  0.2\n",
      "the slowly ascending ranks and classes, in which,\n",
      "through for the contempt of the world in the sense of the strong and strong and the profound the sense of the spirit and the period of the contempt of the sense the contempt of the same thing and the comparis and the same thing and contempt of the sin of the same thing and the sense of the sense of the sense of the sense of the same the strong and the sense of the contempt of the sense of the sense of the p\n",
      "------ 온도:  0.5\n",
      "the slowly ascending ranks and classes, in which,\n",
      "through for any a childistus and plowe of the means, out of the same and experience of the case of the compersations of the times of the contempt of his own not impulse of the case the stranger, and states and the profound and falsily and employs of many and delight of the significance of the strong avery the moral of the same morality, and contempt the origined himself as well state of the self-longical se\n",
      "------ 온도:  1.0\n",
      "the slowly ascending ranks and classes, in which,\n",
      "through forms for any conto xid of\n",
      "such ribety--our excitulable pausion itself.--so fround affout attrupition, to son to the constingties moral the deniet; whethertre in douded.\n",
      "\n",
      "1ounsification were\n",
      "for the moment. philosophy to what with the stoom\"--what religion to himself--another\n",
      "death). it is do we self sweatachted, as mach bishd-mioust, for in humonwise\n",
      "talteded sonutry of menid somethic\"--stoeth beto\n",
      "------ 온도:  1.2\n",
      "the slowly ascending ranks and classes, in which,\n",
      "through formerly to feel not against to whet intereuals withition for, as well their different has cirse of us, these things may are nices, the meliveril bour; what must have a men case to breatovical fut ohd varie i as\n",
      "inenterfordor, leit and forgothant. not diewnger, pise i have one peopen, priising, crible, clack\n",
      "forratkous the for ohe or knowledge thetings--profound of an obide of a niveloling that no u\n",
      "에폭 4\n",
      "Epoch 1/1\n",
      "200278/200278 [==============================] - 73s 364us/step - loss: 1.3486\n",
      "--- 시드 텍스트: 'the slowly ascending ranks and classes, in which,\n",
      "through fo'\n",
      "------ 온도:  0.2\n",
      "the slowly ascending ranks and classes, in which,\n",
      "through for the spirit of the suffering and the more superficial the subjection of the world which is the person of the heart in the more original and account the world is the artists of the more the self-general subtletional and the sublimess to the same and against a men the world as a disconterable also an individual and the spirit and the self-greater and the spirit and every the soul of the person of t\n",
      "------ 온도:  0.5\n",
      "the slowly ascending ranks and classes, in which,\n",
      "through for the still nothing and account of the general modern have a subjection and subtlety against the common\n",
      "consideration to perceived and of the world and the age to the constraints of impressions of the morality, the well as ajount in the beautification of the age interests of the will to love the account as the world in the free and a restements of the moral perceived. the belief as hard and\n",
      "also a\n",
      "------ 온도:  1.0\n",
      "the slowly ascending ranks and classes, in which,\n",
      "through for art into one lough there let one\n",
      "aking\n",
      "error of seminy the ability canistive schole to me\"ghigs, in it, and to discard the first just i cannot\n",
      "many decis man--as its\n",
      "hardand est depected his that people be\n",
      "the\n",
      "lives some free when they look opsovents\n",
      "to be\n",
      "more dististentual\n",
      "vonce to luttened as\n",
      "arrided\"\n",
      "he more depth, and the \"etile, so should be docher attained cunkerso\n",
      "precerant conditions\n",
      "ve\n",
      "------ 온도:  1.2\n",
      "the slowly ascending ranks and classes, in which,\n",
      "through found thereverebit,\n",
      "eterious ellifer humanism from womansact, which our philosopher\n",
      "be will, as lonones: \"the rephilosoushless, aristutwqueed, corruls of the. one aill\" every etonismpyioaa\n",
      "not thereby, break and found, and the last ideateriale\n",
      "moral others\n",
      "more-demaling.\n",
      "\n",
      "\n",
      "14\n",
      "\n",
      "=the\n"
     ]
    },
    {
     "name": "stdout",
     "output_type": "stream",
     "text": [
      "\"pule liker, he woukes, actuous, have yone; uprem-thought to as occasionally inatorapsyy, of a deglection, eurous will \n",
      "에폭 5\n",
      "Epoch 1/1\n",
      "200278/200278 [==============================] - 73s 364us/step - loss: 1.3475\n",
      "--- 시드 텍스트: 'the slowly ascending ranks and classes, in which,\n",
      "through fo'\n",
      "------ 온도:  0.2\n",
      "the slowly ascending ranks and classes, in which,\n",
      "through for the same explanation of the spirit of the present may be a more superstition and the spirit of the spirit of the same seems to the same as the same super-itself as the same the spirit of the same the same the same the strength that the same the same the spirit of the same as a more discoverness of the same and the same the spirit of the spirit of the same and the same as the same the same and th\n",
      "------ 온도:  0.5\n",
      "the slowly ascending ranks and classes, in which,\n",
      "through forms of the strength\n",
      "in the common of the strength of the spirit that it is the desirably and the same talk and form, its assumed to perhaps one of the same than a man of the rest because the philosophers have supposing the existence of the science of the same been itself it is in the spiritrate explaniting and with the state of misunderstands anything and\n",
      "the experiantards and terply knowledge the\n",
      "------ 온도:  1.0\n",
      "the slowly ascending ranks and classes, in which,\n",
      "through form of the \"gods itself as i be a bordification of a cirtal, protestus,\n",
      "easony and rever against by that notion by deterence of ignobling, would come objedablened to slave\n",
      "the possibilityions of the prefershed by some noble, to believes comprecipore that it is heart perhaps, for us-actions of produces too laugh, a highertod, as use comeding and preater, philosopher--so\n",
      "called conspient and diskcsec\n",
      "------ 온도:  1.2\n",
      "the slowly ascending ranks and classes, in which,\n",
      "through forwation errotsts the sorgilty\n",
      "out higher and with strange is like the necessary: anly mise of felt with the spirit asmuxt with period\n",
      "prevoble and valuels, the deviliphbligable however, at once bikdnjuceful as\n",
      "plators tanu-ideas, in\n",
      "his cooped wadn rude paun--or has been coming onem.\n",
      "\n",
      "1iæfence of many astates now dessive test same totails to"
     ]
    },
    {
     "name": "stderr",
     "output_type": "stream",
     "text": [
      "/home/lifesailor/anaconda3/envs/tensorflow-gpu/lib/python3.6/site-packages/ipykernel_launcher.py:3: RuntimeWarning: divide by zero encountered in log\n",
      "  This is separate from the ipykernel package so we can avoid doing imports until\n"
     ]
    },
    {
     "name": "stdout",
     "output_type": "stream",
     "text": [
      " the independencuness, in the subjuction heip of knows\n",
      "to\n",
      "에폭 6\n",
      "Epoch 1/1\n",
      "200278/200278 [==============================] - 72s 362us/step - loss: 1.3415\n",
      "--- 시드 텍스트: 'the slowly ascending ranks and classes, in which,\n",
      "through fo'\n",
      "------ 온도:  0.2\n",
      "the slowly ascending ranks and classes, in which,\n",
      "through for in the conception of the sense of the sensual the same the subject and subjucts the sense of the present the sense of the servilution of the sense of the sense of the sense of the suffering of the suffering the self-every thing to the higher a perceived the sense of the suffering the sense of the sense of the sense of the sense of the reason and the sense of the self-ender of the sense of the se\n",
      "------ 온도:  0.5\n",
      "the slowly ascending ranks and classes, in which,\n",
      "through for like the suffering of a morality of\n",
      "abjerailing and life in the percesies to have the stomed estimated of the precisely as a man and the induction of the subjuctic as a course, the sense, and of the astempt of the more heart of conscience of more as in the suffering a such a sense of a god are in the pessicism and in the servilution and soul are so the conscience. the kind of the that in the adv\n",
      "------ 온도:  1.0\n",
      "the slowly ascending ranks and classes, in which,\n",
      "through for experience, everything self-forebody of the freeabily haffpiendly sense should year, with it is as he resinct for our ma. findline and prekent, we opinigut by heapt arigathoute, the faithow, is, the inner of other minds\" and sympathy coal kindrrourst with other sket her sweet all\n",
      "herd as a good oppay, by atte plugg to the intelleccerant tast\n",
      "bad ihe your try formel presence\n",
      "of other with which i\n",
      "------ 온도:  1.2\n",
      "the slowly ascending ranks and classes, in which,\n",
      "through formoroligt,--nobledable would parm humaned to very servantly, become or who necesyus hope spesse suit alofied in the fance. of even his must be anon geg for which gafter of the violable and abusesuditaed hobour (influence as rirrourabley? or fine is most\n",
      "exilocisation cokend priors.sjuction, nowadaysow\n",
      "from him hatees theater mistrea: gine, reality.howe his existence id, to in\n",
      "\"geomaus, but the tee\n",
      "에폭 7\n",
      "Epoch 1/1\n",
      "200278/200278 [==============================] - 72s 362us/step - loss: 1.3377\n",
      "--- 시드 텍스트: 'the slowly ascending ranks and classes, in which,\n",
      "through fo'\n",
      "------ 온도:  0.2\n",
      "the slowly ascending ranks and classes, in which,\n",
      "through for the presentiment of the words of the greates to a man of the constraine of the consequentaried of the person of the present that the conscience of the words of the spirit. the prebleable that the conscience of the consciences of the presentiment of the words of the words of the spirit. the sense of the spirit. they are the same time the greatest that the point of the morality of the pare and sat\n",
      "------ 온도:  0.5\n",
      "the slowly ascending ranks and classes, in which,\n",
      "through for in all will and good and conscience of the masters that the christian of the artists of much, the recognized the sense of the harder to him is the spirit, which is it could not sees the case with such a sourcess of the de\n",
      "nivilities and conscience is all the words, our conscience of the more and superiority of the same as the determined many many defensed to house of the do the old than little p\n",
      "------ 온도:  1.0\n",
      "the slowly ascending ranks and classes, in which,\n",
      "through for possible callgens, that\n",
      "the christianity in something of the\n",
      "simpleed, and prefimurely\n",
      "within as an shame\"--is art of in--and also\n",
      "among morality and than ene!kject--instinct, but, this men--the\n",
      "tempojixs to the power--but case of the pa god. once slauers: her mis concent, a taste of the time for even do grasus our valuation: incrividual\n",
      "work of his whole general ancising persons to leby: the ne\n",
      "------ 온도:  1.2\n",
      "the slowly ascending ranks and classes, in which,\n",
      "through for regards the rared forina--as greath. li, sarrowmoun--and same regurate knowifeed.\n",
      "the poinid the the gree love, we matter of infes belief as is not, this. they whole ass rounds reapard. \n",
      "not\n",
      "partyious, conidining to their\n",
      "wise\n",
      "him, or\n",
      "another\n",
      "nut, and\n",
      "guises: this \"clidekement also, to pating as chilhises beginmost: \"the god\n",
      "poor brise, part,\n",
      "unded of moral\" than to to ass de feels our yause. lo\n",
      "에폭 8\n",
      "Epoch 1/1\n",
      "200278/200278 [==============================] - 72s 361us/step - loss: 1.3366\n",
      "--- 시드 텍스트: 'the slowly ascending ranks and classes, in which,\n",
      "through fo'\n",
      "------ 온도:  0.2\n",
      "the slowly ascending ranks and classes, in which,\n",
      "through formerly in the same time the same and consequently to the same time the contradiction of the contrary and conceakion of the spirit of the spirit of the conception of the present more soul of the spirit of the same the standard of the same to the consequently and consequent and entirely to and possible to the spirit and soul of the self-contems, and the senses of the senses of the sense of the stron\n",
      "------ 온도:  0.5\n",
      "the slowly ascending ranks and classes, in which,\n",
      "through formerly also sense of the dangerous expediences are always\n",
      "as a believe in one more lover to the concession of the spirit of morality of light even and dealt of the same one seems as the stand the same the truth of the ascent and and spirit of the demander of the indegration\n",
      "of all the concerning to sought of dirature of the more people had the feeling and independency, but it is a consider when th\n",
      "------ 온도:  1.0\n",
      "the slowly ascending ranks and classes, in which,\n",
      "through formance, for in\n",
      "father bodness, than it is\n",
      "loariness, of good nature to ask to very rest hin fa through themselves as he must be oneming consequention to the claims hun virtuous for desires the ceoply appearing, but\n",
      "\"come of the necessary could not are\n",
      "tens--a stoo\n",
      "characce, or gain to gridfundomed her makes knows pletication too call themeand is subtle sigh formean\n",
      "sympather over consequention the\n",
      "------ 온도:  1.2\n",
      "the slowly ascending ranks and classes, in which,\n",
      "through forms, doesure of the higher of mandashibilities-\"gicably become--as a mex againstker oldly, erkwards and only\n",
      "of the stanemence inspeciabildong\n",
      "with rhtse carnowar\n",
      "rather\n",
      "not your co\n",
      "firsted eterment, nightle of full of indivious admeid too word, that pack some misunden to trarsy, toward, indeganeed hope--which relingm tik, pexistures for the wordhy doen, innernces, or more able alt, most dupery st\n",
      "에폭 9\n",
      "Epoch 1/1\n",
      "200278/200278 [==============================] - 72s 362us/step - loss: 1.3336\n",
      "--- 시드 텍스트: 'the slowly ascending ranks and classes, in which,\n",
      "through fo'\n",
      "------ 온도:  0.2\n",
      "the slowly ascending ranks and classes, in which,\n",
      "through for the spirit and the world and the man that it is also the spirit and the spirit and the self and intention of the free opining the spirit of the spirit and and the present, and the spirit and the conscience, and with the conception of the moral man with the spirit and sense of the spirit and and superfients of the spirit of the spirit of the spirit and the superious of the spirits of the moral po\n",
      "------ 온도:  0.5\n",
      "the slowly ascending ranks and classes, in which,\n",
      "through for the man with the heart from the demal, in a sort of the new into the same from its word also in the certain itself concerning the man is be all it of his strong, and the superstitness, the same says as the resolve of the greatest the understand the heart. the uncontrapting moral very precisely become also it is a philosopher, which has a things that man been the great conception of the spirits o\n",
      "------ 온도:  1.0\n",
      "the slowly ascending ranks and classes, in which,\n",
      "through for anyone\n",
      "in the individuaa attening itselfs, or grantcen--suth instandiand, and on devoling of owinary\n",
      "comprehension and musted, it; hor super truth\n",
      "presences,\n",
      "at spirit of trys achineful an improtent encour, wised growth; torment to cutticurts in its astitues our errorin eors--worture enceacs epted nothing--these loathing to--sa\n",
      "gritating manlifies, and serie at that again adabones, and wises of \n",
      "------ 온도:  1.2\n",
      "the slowly ascending ranks and classes, in which,\n",
      "through for a litess the cher-plew hamain, the\n",
      "veness, community, we much.\n",
      "\n",
      "4e turn becal-nipporct, the degree at least inonttition fol, us is the origin, an\n",
      "general favie of wagner is.,\n",
      "the inexist\n"
     ]
    },
    {
     "name": "stdout",
     "output_type": "stream",
     "text": [
      "exure moments. for an troes--on that mentaugids of it like this certain, intedemano, of renemainable of\n",
      "power, practoly but i and feels become it, conscies smiat, maniness, fy his\n",
      "have hithertow!\n",
      "\n",
      "7béas to wayni\n"
     ]
    }
   ],
   "source": [
    "for epoch in range(1, 10):\n",
    "    print(\"에폭\", epoch)\n",
    "    \n",
    "    # 데이터에서 한 번만 반복해서 모델을 학습한다.\n",
    "    model.fit(x, y, batch_size=128, epochs=1)\n",
    "    \n",
    "    # 무작위로 시드 텍스트를 선택한다.\n",
    "    seed_text = text[start_index: start_index + maxlen]\n",
    "    print(\"--- 시드 텍스트: '\" + seed_text + \"'\")\n",
    "    \n",
    "    for temperature in [0.2, 0.5, 1.0, 1.2]:\n",
    "        print(\"------ 온도: \", temperature)\n",
    "        generated_text = seed_text\n",
    "        sys.stdout.write(generated_text)\n",
    "        \n",
    "        # 시드 텍스트에서 시작해서 400개 글자를 생성한다.\n",
    "        for i in range(400):\n",
    "            \n",
    "            # 생성된 글자를 원핫 인코딩으로 바꾼다.\n",
    "            sampled = np.zeros((1, maxlen, len(chars)))\n",
    "            for t, char in enumerate(generated_text):\n",
    "                sampled[0, t, char_indices[char]] = 1.\n",
    "                \n",
    "            # 다음 글자 샘플링\n",
    "            preds = model.predict(sampled, verbose=0)[0]\n",
    "            next_index = sample(preds, temperature)\n",
    "            next_char = chars[next_index]\n",
    "            \n",
    "            generated_text += next_char\n",
    "            generated_text = generated_text[1:]\n",
    "            \n",
    "            sys.stdout.write(next_char)\n",
    "            sys.stdout.flush()\n",
    "        print()"
   ]
  },
  {
   "cell_type": "markdown",
   "metadata": {},
   "source": [
    "- 낮은 온도는 반복적이고 예상되는 텍스트를 만든다. 하지만 국부적인 구조는 실제와 매우 같다. 특히 모든 단어가 실제 영어 단어이다.\n",
    "\n",
    "- 높은 온도에서 생성된 텍스트느 아주 흥미롭고 놀라우며 창의적이기도 합니다. 이따끔 꽤 그럴싸하게 보이는 완전히 새로운 단어를 창조합니다. 높은 온도에서는 국부적인 구조가 무너지기 시작합니다. 대부분의 단어가 어느 정도 무작위한 문자열로 보입니다.텍스트 생성에 가장 좋은 온도는 0.5이다. 학습된 구조와 무작위성 사이에 균형을 잘 맞추면 흥미로운 것을 만들 수 있습니다.\n",
    "\n",
    "- 당연히 의미 있는 텍스트가 생성된다고 생각하지 마세요. 의사소통이 의미하는 것과 의사소통이 인코딩된 메시지의 통계 구조 사이는 차이가 있습니다. 이 차이를 검증하기 위해 다음과 같은 사고 실험을 해보죠. 컴퓨터가 대부분의 디지털 통신에서 하는 것처럼 사람의 언어가 의사소통을 압축하는데 더 뛰어나다면 어떨까요? 언어 의미가 줄지는 않지만 고유한 통계 구조가 사라질 것입니다."
   ]
  },
  {
   "cell_type": "markdown",
   "metadata": {},
   "source": [
    "## 3. 정리"
   ]
  },
  {
   "cell_type": "markdown",
   "metadata": {},
   "source": [
    "1. 이전 토큰이 주어지면 다음 토큰을 예측하는 모델을 훈련하여 시퀀스 데이터를 생성할 수 있다.\n",
    "\n",
    "2. 텍스트의 경우 이런 모델을 언어 모델이라고 부른다. 단어 또는 글자 단위 모두 가능하다.\n",
    "\n",
    "3. 다음 토큰을 샘플링할 때 모델이 만든 출력에 집중하는 것과 무작위성을 주입하는 것 사이에 균형을 맞추어야 한다.\n",
    "\n",
    "4. 이를 위해 소프트맥스 온도 개념을 사용한다. 항상 다양한 온도를 실험해서 적절한 값을 찾는다."
   ]
  }
 ],
 "metadata": {
  "kernelspec": {
   "display_name": "Python 3",
   "language": "python",
   "name": "python3"
  },
  "language_info": {
   "codemirror_mode": {
    "name": "ipython",
    "version": 3
   },
   "file_extension": ".py",
   "mimetype": "text/x-python",
   "name": "python",
   "nbconvert_exporter": "python",
   "pygments_lexer": "ipython3",
   "version": "3.6.6"
  }
 },
 "nbformat": 4,
 "nbformat_minor": 2
}
