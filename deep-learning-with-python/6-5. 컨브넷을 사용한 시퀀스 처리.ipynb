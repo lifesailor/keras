{
 "cells": [
  {
   "cell_type": "markdown",
   "metadata": {},
   "source": [
    "# 1. 1D Convnet"
   ]
  },
  {
   "cell_type": "markdown",
   "metadata": {},
   "source": [
    "### 입력 시퀀스에서 시간 축으로 패치를 추출하여 출력 타임스텝을 만든다."
   ]
  },
  {
   "cell_type": "markdown",
   "metadata": {},
   "source": [
    "- 1D Convnet은 특정 시퀀스 처리에서 RNN과 견줄만하다. 일반적으로 계산 비용이 싸다. 1D 컨브넷은 팽창된 커널(dilated_kernel)과 함꼐 사용된다. 최근에 오디오 생성과 기계 번역에서 큰 성공을 거두었다. 텍스트 분류나 시계열 예측 같은 간단한 문제에서 1D 컨브넷이 RNN을 대신해서 빠르게 처리할 수 있다.\n",
    "\n",
    "- 1D Convent은 시퀀스에 있는 지역 패턴을 인식할 수 있다. 동일한 변환이 시퀀스에 있는 모든 패치에 적용되기 때문에 특정 위치에서 학습한 패턴을 나중에 다른 위치에서 인식할 수 있다. 이는 1D 컨브넷 이동 불변성을 제공합니다. (translation invariant)\n",
    "\n",
    "- 예를 들어서 크기 5인 윈도우를 사용하여 문자 시퀀스를 처리하는 1D 컨브넷은 5개 이하의 단어나 단어의 부분을 학습합니다. 이 컨브넷은 이 다넝가 입력 시퀀스 어느 문장에 있떠라도 인식할 수 있습니다. 따라서 문자 수준의 1D 컨브넷은 단어 형태학에 관해 학습할 수 있습니다."
   ]
  },
  {
   "cell_type": "markdown",
   "metadata": {},
   "source": [
    "# 2. 시퀀스 데이터를 위한 1D 풀링"
   ]
  },
  {
   "cell_type": "markdown",
   "metadata": {},
   "source": [
    "- 컨브넷에서 이미지 텐서 크기를 다운샘플링 하기 위해 사용하는 평균 풀링이나 맥스 풀링 같은 2D 연산을 배웠습니다. 1D 풀링 연산은 2D 풀링 연산과 동일합니다. 입력에서 1D 패치 부분을 추출하고 최대값을 출력하고 평균값을 출력합니다."
   ]
  },
  {
   "cell_type": "markdown",
   "metadata": {},
   "source": [
    "# 3. 1D Convnet 구현"
   ]
  },
  {
   "cell_type": "markdown",
   "metadata": {},
   "source": [
    "- Conv1D는 (samples, time, features) 크기의 3D 텐서를 입력받고 비슷한 형태의 3D "
   ]
  },
  {
   "cell_type": "code",
   "execution_count": 2,
   "metadata": {},
   "outputs": [
    {
     "name": "stdout",
     "output_type": "stream",
     "text": [
      "데이터 로드...\n",
      "25000 훈련 시퀀스\n",
      "25000 테스트 시퀀스\n"
     ]
    }
   ],
   "source": [
    "from keras.datasets import imdb\n",
    "from keras.preprocessing import sequence\n",
    "\n",
    "max_features = 10000\n",
    "max_len = 500\n",
    "\n",
    "print(\"데이터 로드...\")\n",
    "(x_train, y_train), (x_test, y_test) = imdb.load_data(num_words=max_features) \n",
    "print(len(x_train), \"훈련 시퀀스\")\n",
    "print(len(x_test), \"테스트 시퀀스\")"
   ]
  },
  {
   "cell_type": "code",
   "execution_count": 3,
   "metadata": {},
   "outputs": [
    {
     "name": "stdout",
     "output_type": "stream",
     "text": [
      "시퀀스 패딩(samples x time)\n",
      "x_train 크기:  (25000, 500)\n",
      "x_test 크기:  (25000, 500)\n"
     ]
    }
   ],
   "source": [
    "print(\"시퀀스 패딩(samples x time)\")\n",
    "x_train = sequence.pad_sequences(x_train, maxlen=max_len)\n",
    "x_test = sequence.pad_sequences(x_test, maxlen=max_len)\n",
    "print('x_train 크기: ', x_train.shape)\n",
    "print('x_test 크기: ', x_test.shape)"
   ]
  },
  {
   "cell_type": "markdown",
   "metadata": {},
   "source": [
    "### 1D 컨브넷은 5장에서 사용한 2D 컨브넷과 비슷한 방식으로 구성합니다.\n",
    "- Conv1D와 MaxPooling1D 층을 쌓고 전역 풀링층이나 Flatten 층으로 마칩니다."
   ]
  },
  {
   "cell_type": "markdown",
   "metadata": {},
   "source": [
    "<img src=\"./1dconvnet.png\">"
   ]
  },
  {
   "cell_type": "code",
   "execution_count": 5,
   "metadata": {},
   "outputs": [],
   "source": [
    "from keras.models import Sequential\n",
    "from keras import layers\n",
    "from keras.optimizers import RMSprop"
   ]
  },
  {
   "cell_type": "code",
   "execution_count": 6,
   "metadata": {},
   "outputs": [
    {
     "name": "stdout",
     "output_type": "stream",
     "text": [
      "_________________________________________________________________\n",
      "Layer (type)                 Output Shape              Param #   \n",
      "=================================================================\n",
      "embedding_1 (Embedding)      (None, 500, 128)          1280000   \n",
      "_________________________________________________________________\n",
      "conv1d_1 (Conv1D)            (None, 494, 32)           28704     \n",
      "_________________________________________________________________\n",
      "max_pooling1d_1 (MaxPooling1 (None, 98, 32)            0         \n",
      "_________________________________________________________________\n",
      "conv1d_2 (Conv1D)            (None, 92, 32)            7200      \n",
      "_________________________________________________________________\n",
      "global_max_pooling1d_1 (Glob (None, 32)                0         \n",
      "_________________________________________________________________\n",
      "dense_1 (Dense)              (None, 1)                 33        \n",
      "=================================================================\n",
      "Total params: 1,315,937\n",
      "Trainable params: 1,315,937\n",
      "Non-trainable params: 0\n",
      "_________________________________________________________________\n"
     ]
    }
   ],
   "source": [
    "model = Sequential()\n",
    "\n",
    "model.add(layers.Embedding(max_features, 128, input_length=max_len))\n",
    "model.add(layers.Conv1D(32, 7, activation='relu'))\n",
    "\n",
    "# 시간 축 따라서 pooling\n",
    "model.add(layers.MaxPooling1D(5))\n",
    "model.add(layers.Conv1D(32, 7, activation='relu'))\n",
    "\n",
    "# 시간 축 전체에 적용(samples, timesteps, features) > (samples, features)\n",
    "model.add(layers.GlobalMaxPooling1D())\n",
    "model.add(layers.Dense(1))\n",
    "\n",
    "model.summary()"
   ]
  },
  {
   "cell_type": "code",
   "execution_count": 8,
   "metadata": {
    "scrolled": true
   },
   "outputs": [
    {
     "name": "stdout",
     "output_type": "stream",
     "text": [
      "Train on 20000 samples, validate on 5000 samples\n",
      "Epoch 1/10\n",
      "20000/20000 [==============================] - 5s 244us/step - loss: 0.7013 - acc: 0.5281 - val_loss: 0.6844 - val_acc: 0.5706\n",
      "Epoch 2/10\n",
      "20000/20000 [==============================] - 2s 89us/step - loss: 0.6630 - acc: 0.6742 - val_loss: 0.6638 - val_acc: 0.6590\n",
      "Epoch 3/10\n",
      "20000/20000 [==============================] - 3s 174us/step - loss: 0.6175 - acc: 0.7659 - val_loss: 0.6081 - val_acc: 0.7410\n",
      "Epoch 4/10\n",
      "20000/20000 [==============================] - 1s 74us/step - loss: 0.5199 - acc: 0.8111 - val_loss: 0.4894 - val_acc: 0.7976\n",
      "Epoch 5/10\n",
      "20000/20000 [==============================] - 1s 75us/step - loss: 0.4134 - acc: 0.8437 - val_loss: 0.4364 - val_acc: 0.8258\n",
      "Epoch 6/10\n",
      "20000/20000 [==============================] - 1s 74us/step - loss: 0.3458 - acc: 0.8689 - val_loss: 0.4118 - val_acc: 0.8428\n",
      "Epoch 7/10\n",
      "20000/20000 [==============================] - 1s 73us/step - loss: 0.3024 - acc: 0.8799 - val_loss: 0.4000 - val_acc: 0.8386\n",
      "Epoch 8/10\n",
      "20000/20000 [==============================] - 1s 73us/step - loss: 0.2674 - acc: 0.8744 - val_loss: 0.4127 - val_acc: 0.8274\n",
      "Epoch 9/10\n",
      "20000/20000 [==============================] - 1s 72us/step - loss: 0.2390 - acc: 0.8573 - val_loss: 0.4262 - val_acc: 0.8078\n",
      "Epoch 10/10\n",
      "20000/20000 [==============================] - 1s 72us/step - loss: 0.2148 - acc: 0.8445 - val_loss: 0.4480 - val_acc: 0.7900\n"
     ]
    }
   ],
   "source": [
    "model.compile(optimizer=RMSprop(lr=1e-4), \n",
    "              loss='binary_crossentropy',\n",
    "              metrics=['acc'])\n",
    "history = model.fit(x_train, y_train, epochs=10, batch_size=128, validation_split=0.2)"
   ]
  },
  {
   "cell_type": "code",
   "execution_count": 9,
   "metadata": {
    "scrolled": true
   },
   "outputs": [
    {
     "data": {
      "image/png": "[encoded data removed]",
      "text/plain": [
       "<matplotlib.figure.Figure at 0xfc62c5ca20>"
      ]
     },
     "metadata": {},
     "output_type": "display_data"
    },
    {
     "data": {
      "image/png": "[encoded data removed]",
      "text/plain": [
       "<matplotlib.figure.Figure at 0xfc62a24898>"
      ]
     },
     "metadata": {},
     "output_type": "display_data"
    }
   ],
   "source": [
    "from matplotlib import pyplot as plt\n",
    "%matplotlib inline\n",
    "\n",
    "training_loss = history.history['loss']\n",
    "val_loss = history.history['val_loss']\n",
    "\n",
    "x = range(1, 11)\n",
    "\n",
    "plt.plot(x, training_loss, 'b', label='training loss')\n",
    "plt.plot(x, val_loss, 'bo', label='val_loss')\n",
    "plt.legend()\n",
    "\n",
    "plt.show()\n",
    "\n",
    "training_loss = history.history['acc']\n",
    "val_loss = history.history['val_acc']\n",
    "\n",
    "x = range(1, 11)\n",
    "\n",
    "plt.plot(x, training_loss, 'b', label='training acc')\n",
    "plt.plot(x, val_loss, 'bo', label='val acc')\n",
    "plt.legend()\n",
    "\n",
    "plt.show()"
   ]
  },
  {
   "cell_type": "markdown",
   "metadata": {},
   "source": [
    "## 4. 기온 예측"
   ]
  },
  {
   "cell_type": "markdown",
   "metadata": {},
   "source": [
    "### 1. 데이터 정리하기"
   ]
  },
  {
   "cell_type": "code",
   "execution_count": 29,
   "metadata": {},
   "outputs": [],
   "source": [
    "import os\n",
    "\n",
    "data_dir = './datasets/jena_climate'\n",
    "fname = os.path.join(data_dir, 'jena_climate_2009_2016.csv')\n",
    "\n",
    "f = open(fname)\n",
    "data = f.read()\n",
    "f.close()"
   ]
  },
  {
   "cell_type": "code",
   "execution_count": 30,
   "metadata": {},
   "outputs": [
    {
     "name": "stdout",
     "output_type": "stream",
     "text": [
      "['\"Date Time\"', '\"p (mbar)\"', '\"T (degC)\"', '\"Tpot (K)\"', '\"Tdew (degC)\"', '\"rh (%)\"', '\"VPmax (mbar)\"', '\"VPact (mbar)\"', '\"VPdef (mbar)\"', '\"sh (g/kg)\"', '\"H2OC (mmol/mol)\"', '\"rho (g/m**3)\"', '\"wv (m/s)\"', '\"max. wv (m/s)\"', '\"wd (deg)\"']\n",
      "420551\n"
     ]
    }
   ],
   "source": [
    "lines = data.split('\\n')\n",
    "header = lines[0].split(',')\n",
    "lines = lines[1:]\n",
    "\n",
    "print(header)\n",
    "print(len(lines))"
   ]
  },
  {
   "cell_type": "code",
   "execution_count": 31,
   "metadata": {},
   "outputs": [],
   "source": [
    "import numpy as np\n",
    "\n",
    "float_data = np.zeros((len(lines), len(header) - 1))\n",
    "for i, line in enumerate(lines):\n",
    "    values = [float(x) for x in line.split(',')[1:]]\n",
    "    float_data[i, :] = values"
   ]
  },
  {
   "cell_type": "code",
   "execution_count": 32,
   "metadata": {
    "scrolled": true
   },
   "outputs": [
    {
     "data": {
      "text/plain": [
       "[<matplotlib.lines.Line2D at 0xfc7db37fd0>]"
      ]
     },
     "execution_count": 32,
     "metadata": {},
     "output_type": "execute_result"
    },
    {
     "data": {
      "image/png": "[encoded data removed]",
      "text/plain": [
       "<matplotlib.figure.Figure at 0xfc6030f710>"
      ]
     },
     "metadata": {},
     "output_type": "display_data"
    }
   ],
   "source": [
    "import matplotlib.pyplot as plt\n",
    "%matplotlib inline\n",
    "\n",
    "temp = float_data[:, 1]\n",
    "plt.plot(range(len(temp)), temp)"
   ]
  },
  {
   "cell_type": "code",
   "execution_count": 33,
   "metadata": {
    "scrolled": true
   },
   "outputs": [
    {
     "data": {
      "text/plain": [
       "[<matplotlib.lines.Line2D at 0xfc84485978>]"
      ]
     },
     "execution_count": 33,
     "metadata": {},
     "output_type": "execute_result"
    },
    {
     "data": {
      "image/png": "[encoded data removed]",
      "text/plain": [
       "<matplotlib.figure.Figure at 0xfc6032c518>"
      ]
     },
     "metadata": {},
     "output_type": "display_data"
    }
   ],
   "source": [
    "plt.plot(range(1440), temp[:1440])"
   ]
  },
  {
   "cell_type": "markdown",
   "metadata": {},
   "source": [
    "### 2. 데이터 전처리"
   ]
  },
  {
   "cell_type": "code",
   "execution_count": 34,
   "metadata": {},
   "outputs": [],
   "source": [
    "# Standardization\n",
    "mean = float_data[:200000].mean(axis=0)\n",
    "float_data -= mean\n",
    "\n",
    "std = float_data[:200000].std(axis=0)\n",
    "float_data /= std"
   ]
  },
  {
   "cell_type": "markdown",
   "metadata": {},
   "source": [
    "### 3. Generator 생성"
   ]
  },
  {
   "cell_type": "code",
   "execution_count": 35,
   "metadata": {},
   "outputs": [],
   "source": [
    "def generator(data, lookback, delay, min_index, max_index, shuffle=False, batch_size=128, step=6):\n",
    "    \"\"\"\n",
    "    data: data\n",
    "    lookback: 입력으로 사용하기 위해 거슬러 올라갈 타임스텝\n",
    "    delay: 타깃으로 사용할 미래의 타임스텝\n",
    "    min_index와 max_index: 추출할 타임스텝 범위를 지정하기 위한 data 배열의 인덱스, 검증 데이터와 테스트 데이터를 분리하는 데 사용합니다.\n",
    "    shuffle: 샘플을 섞을지, 시간 순서대로 추출할 지 결정한다\n",
    "    batch_size: 배치 샘플 수\n",
    "    step: 데이터를 샘플링할 타임스텝 간격, 1시간에 하나의 데이터 포인트 추출을 위해 6으로 지정한다.\n",
    "    \"\"\"\n",
    "    \n",
    "    if max_index is None:\n",
    "        max_index = len(data) - delay - 1\n",
    "    i = min_index + lookback\n",
    "    \n",
    "    while 1:\n",
    "        if shuffle:\n",
    "            rows = np.random.randint(\n",
    "                min_index + lookback, max_index, size=batch_size\n",
    "            )\n",
    "        else:\n",
    "            if i + batch_size >= max_index:\n",
    "                i = min_index + lookback\n",
    "            \n",
    "            # batch_size 만큼 뽑는다.\n",
    "            rows = np.arange(i, min(i + batch_size, max_index))\n",
    "            i += len(rows)\n",
    "        \n",
    "        # empty\n",
    "        samples = np.zeros((len(rows),\n",
    "                            lookback//step,\n",
    "                            data.shape[-1]))\n",
    "        targets = np.zeros((len(rows), ))\n",
    "        \n",
    "        for j, row in enumerate(rows):\n",
    "            # step 간격으로 추출\n",
    "            indices = range(rows[j] - lookback, rows[j], step)\n",
    "            \n",
    "            # sample (128, 240, 14)\n",
    "            samples[j] = data[indices]\n",
    "            \n",
    "            # target (128,)\n",
    "            targets[j] = data[rows[j] + delay][1]\n",
    "        yield samples, targets"
   ]
  },
  {
   "cell_type": "code",
   "execution_count": 36,
   "metadata": {},
   "outputs": [],
   "source": [
    "lookback = 1440\n",
    "step = 6\n",
    "delay = 144\n",
    "batch_size = 128"
   ]
  },
  {
   "cell_type": "code",
   "execution_count": 37,
   "metadata": {},
   "outputs": [],
   "source": [
    "train_gen = generator(float_data, \n",
    "                      lookback=lookback,\n",
    "                      delay=delay,\n",
    "                      min_index=0,\n",
    "                      max_index=200000,\n",
    "                      shuffle=True,\n",
    "                      step=step,\n",
    "                      batch_size=batch_size)\n",
    "\n",
    "val_gen = generator(float_data, \n",
    "                    lookback=lookback,\n",
    "                    delay=delay,\n",
    "                    min_index=200001,\n",
    "                    max_index=300000,\n",
    "                    step=step, \n",
    "                    batch_size=batch_size)\n",
    "\n",
    "test_gen = generator(float_data,\n",
    "                     lookback=lookback,\n",
    "                     delay=delay,\n",
    "                     min_index=300001,\n",
    "                     max_index=None,\n",
    "                     step=step,\n",
    "                     batch_size=batch_size)\n",
    "\n",
    "val_steps = (300000 - 200001 - lookback) // batch_size\n",
    "test_steps = (len(float_data) - 300001 - lookback) // batch_size"
   ]
  },
  {
   "cell_type": "markdown",
   "metadata": {},
   "source": [
    "### 4. 1D Convnet"
   ]
  },
  {
   "cell_type": "markdown",
   "metadata": {},
   "source": [
    "- 1D 컨브넷이 입력 패치를 독립적으로 처리하기 때문에 RNN과 다릴 타임스텝의 순서에 민감하지 않습니다. 물론 장기간의 패턴을 인식하기 위해 많은 합성곱 층과 풀링 층을 쌓을 수 있습니다. 상위 층은 원본 입력에서 긴 범위를 보게 될 것입니다."
   ]
  },
  {
   "cell_type": "code",
   "execution_count": 38,
   "metadata": {
    "scrolled": true
   },
   "outputs": [
    {
     "name": "stdout",
     "output_type": "stream",
     "text": [
      "Epoch 1/20\n",
      "500/500 [==============================] - 16s 32ms/step - loss: 0.4184 - val_loss: 0.4496\n",
      "Epoch 2/20\n",
      "500/500 [==============================] - 15s 29ms/step - loss: 0.3614 - val_loss: 0.4704\n",
      "Epoch 3/20\n",
      "500/500 [==============================] - 15s 30ms/step - loss: 0.3348 - val_loss: 0.4614\n",
      "Epoch 4/20\n",
      "500/500 [==============================] - 15s 29ms/step - loss: 0.3172 - val_loss: 0.4763\n",
      "Epoch 5/20\n",
      "500/500 [==============================] - 15s 30ms/step - loss: 0.3062 - val_loss: 0.4859\n",
      "Epoch 6/20\n",
      "500/500 [==============================] - 15s 30ms/step - loss: 0.2948 - val_loss: 0.4826\n",
      "Epoch 7/20\n",
      "500/500 [==============================] - 15s 29ms/step - loss: 0.2839 - val_loss: 0.4831\n",
      "Epoch 8/20\n",
      "500/500 [==============================] - 14s 29ms/step - loss: 0.2791 - val_loss: 0.4630\n",
      "Epoch 9/20\n",
      "500/500 [==============================] - 14s 29ms/step - loss: 0.2745 - val_loss: 0.4874\n",
      "Epoch 10/20\n",
      "500/500 [==============================] - 16s 32ms/step - loss: 0.2676 - val_loss: 0.4989\n",
      "Epoch 11/20\n",
      "500/500 [==============================] - 15s 30ms/step - loss: 0.2633 - val_loss: 0.4753\n",
      "Epoch 12/20\n",
      "500/500 [==============================] - 15s 30ms/step - loss: 0.2604 - val_loss: 0.4737\n",
      "Epoch 13/20\n",
      "500/500 [==============================] - 15s 30ms/step - loss: 0.2561 - val_loss: 0.4826\n",
      "Epoch 14/20\n",
      "500/500 [==============================] - 15s 31ms/step - loss: 0.2548 - val_loss: 0.4787\n",
      "Epoch 15/20\n",
      "500/500 [==============================] - 15s 31ms/step - loss: 0.2519 - val_loss: 0.4770\n",
      "Epoch 16/20\n",
      "500/500 [==============================] - 16s 31ms/step - loss: 0.2483 - val_loss: 0.4745\n",
      "Epoch 17/20\n",
      "500/500 [==============================] - 16s 32ms/step - loss: 0.2464 - val_loss: 0.4851\n",
      "Epoch 18/20\n",
      "500/500 [==============================] - 15s 30ms/step - loss: 0.2450 - val_loss: 0.4848\n",
      "Epoch 19/20\n",
      "500/500 [==============================] - 16s 32ms/step - loss: 0.2433 - val_loss: 0.4722\n",
      "Epoch 20/20\n",
      "500/500 [==============================] - 16s 31ms/step - loss: 0.2388 - val_loss: 0.4698\n"
     ]
    }
   ],
   "source": [
    "from keras.models import Sequential\n",
    "from keras import layers\n",
    "from keras.optimizers import RMSprop\n",
    "\n",
    "model = Sequential()\n",
    "\n",
    "# filter 개수, filter size\n",
    "model.add(layers.Conv1D(32, 5, activation='relu', input_shape=(None, float_data.shape[-1])))\n",
    "\n",
    "# timestep 별 pooling\n",
    "model.add(layers.MaxPooling1D(3))\n",
    "model.add(layers.Conv1D(32, 5, activation='relu'))\n",
    "model.add(layers.MaxPooling1D(3))\n",
    "model.add(layers.Conv1D(32, 5, activation='relu'))\n",
    "\n",
    "# 전체 timestep에 대해서 pooling\n",
    "model.add(layers.GlobalMaxPooling1D())\n",
    "model.add(layers.Dense(1))\n",
    "\n",
    "model.compile(optimizer=RMSprop(), loss='mae')\n",
    "history = model.fit_generator(train_gen,\n",
    "                              steps_per_epoch=500,\n",
    "                              epochs=20,\n",
    "                              validation_data=val_gen,\n",
    "                              validation_steps=val_steps)"
   ]
  },
  {
   "cell_type": "code",
   "execution_count": 43,
   "metadata": {},
   "outputs": [
    {
     "data": {
      "image/png": "[encoded data removed]",
      "text/plain": [
       "<matplotlib.figure.Figure at 0xfc610826d8>"
      ]
     },
     "metadata": {},
     "output_type": "display_data"
    }
   ],
   "source": [
    "from matplotlib import pyplot as plt\n",
    "%matplotlib inline\n",
    "\n",
    "training_loss = history.history['loss']\n",
    "val_loss = history.history['val_loss']\n",
    "\n",
    "x = range(1, 21)\n",
    "\n",
    "plt.plot(x, training_loss, 'b', label='training loss')\n",
    "plt.plot(x, val_loss, 'bo', label='val_loss')\n",
    "plt.legend()\n",
    "\n",
    "plt.show()"
   ]
  },
  {
   "cell_type": "markdown",
   "metadata": {},
   "source": [
    "### 5. CNN과 RNN을 연결하여 긴 시퀀스 처리하기"
   ]
  },
  {
   "cell_type": "code",
   "execution_count": 44,
   "metadata": {},
   "outputs": [],
   "source": [
    "step = 3\n",
    "lookback = 1440\n",
    "delay = 144"
   ]
  },
  {
   "cell_type": "code",
   "execution_count": 45,
   "metadata": {},
   "outputs": [],
   "source": [
    "train_gen = generator(float_data, \n",
    "                      lookback=lookback,\n",
    "                      delay=delay,\n",
    "                      min_index=0,\n",
    "                      max_index=200000,\n",
    "                      shuffle=True,\n",
    "                      step=step,\n",
    "                      batch_size=batch_size)\n",
    "\n",
    "val_gen = generator(float_data, \n",
    "                    lookback=lookback,\n",
    "                    delay=delay,\n",
    "                    min_index=200001,\n",
    "                    max_index=300000,\n",
    "                    step=step, \n",
    "                    batch_size=batch_size)\n",
    "\n",
    "test_gen = generator(float_data,\n",
    "                     lookback=lookback,\n",
    "                     delay=delay,\n",
    "                     min_index=300001,\n",
    "                     max_index=None,\n",
    "                     step=step,\n",
    "                     batch_size=batch_size)\n",
    "\n",
    "val_steps = (300000 - 200001 - lookback) // batch_size\n",
    "test_steps = (len(float_data) - 300001 - lookback) // batch_size"
   ]
  },
  {
   "cell_type": "code",
   "execution_count": 47,
   "metadata": {},
   "outputs": [
    {
     "name": "stdout",
     "output_type": "stream",
     "text": [
      "_________________________________________________________________\n",
      "Layer (type)                 Output Shape              Param #   \n",
      "=================================================================\n",
      "conv1d_17 (Conv1D)           (None, None, 32)          2272      \n",
      "_________________________________________________________________\n",
      "max_pooling1d_11 (MaxPooling (None, None, 32)          0         \n",
      "_________________________________________________________________\n",
      "conv1d_18 (Conv1D)           (None, None, 32)          5152      \n",
      "_________________________________________________________________\n",
      "gru_1 (GRU)                  (None, 32)                6240      \n",
      "_________________________________________________________________\n",
      "dense_6 (Dense)              (None, 1)                 33        \n",
      "=================================================================\n",
      "Total params: 13,697\n",
      "Trainable params: 13,697\n",
      "Non-trainable params: 0\n",
      "_________________________________________________________________\n"
     ]
    }
   ],
   "source": [
    "from keras.models import Sequential\n",
    "from keras import layers\n",
    "from keras.optimizers import RMSprop\n",
    "\n",
    "model= Sequential()\n",
    "model.add(layers.Conv1D(32, 5, activation='relu',\n",
    "                        input_shape=(None, float_data.shape[-1])))\n",
    "model.add(layers.MaxPooling1D(3))\n",
    "model.add(layers.Conv1D(32, 5, activation='relu'))\n",
    "model.add(layers.GRU(32, dropout=0.1, recurrent_dropout=0.5))\n",
    "model.add(layers.Dense(1))\n",
    "model.summary()"
   ]
  },
  {
   "cell_type": "code",
   "execution_count": null,
   "metadata": {},
   "outputs": [
    {
     "name": "stdout",
     "output_type": "stream",
     "text": [
      "Epoch 1/20\n",
      "500/500 [==============================] - 172s 344ms/step - loss: 0.3339 - val_loss: 0.2813\n",
      "Epoch 2/20\n",
      "500/500 [==============================] - 171s 342ms/step - loss: 0.3012 - val_loss: 0.2717\n",
      "Epoch 3/20\n",
      "500/500 [==============================] - 167s 335ms/step - loss: 0.2902 - val_loss: 0.2810\n",
      "Epoch 4/20\n",
      "500/500 [==============================] - 169s 338ms/step - loss: 0.2790 - val_loss: 0.2831\n",
      "Epoch 5/20\n",
      "500/500 [==============================] - 171s 343ms/step - loss: 0.2730 - val_loss: 0.2758\n",
      "Epoch 6/20\n",
      "500/500 [==============================] - 175s 351ms/step - loss: 0.2668 - val_loss: 0.2729\n",
      "Epoch 7/20\n",
      "500/500 [==============================] - 167s 334ms/step - loss: 0.2592 - val_loss: 0.2876\n",
      "Epoch 8/20\n",
      "500/500 [==============================] - 170s 340ms/step - loss: 0.2551 - val_loss: 0.2785\n",
      "Epoch 9/20\n",
      "500/500 [==============================] - 171s 343ms/step - loss: 0.2519 - val_loss: 0.2790\n",
      "Epoch 10/20\n",
      "500/500 [==============================] - 170s 341ms/step - loss: 0.2460 - val_loss: 0.2812\n",
      "Epoch 11/20\n",
      "500/500 [==============================] - 170s 341ms/step - loss: 0.2416 - val_loss: 0.2796\n",
      "Epoch 12/20\n",
      "500/500 [==============================] - 168s 337ms/step - loss: 0.2364 - val_loss: 0.2896\n",
      "Epoch 13/20\n",
      "500/500 [==============================] - 172s 343ms/step - loss: 0.2322 - val_loss: 0.2879\n",
      "Epoch 14/20\n",
      "500/500 [==============================] - 167s 333ms/step - loss: 0.2293 - val_loss: 0.2854\n",
      "Epoch 15/20\n",
      "  9/500 [..............................] - ETA: 2:08 - loss: 0.2289"
     ]
    }
   ],
   "source": [
    "model.compile(optimizer=RMSprop(), loss='mae')\n",
    "history = model.fit_generator(train_gen,\n",
    "                              steps_per_epoch=500,\n",
    "                              epochs=20,\n",
    "                              validation_data=val_gen,\n",
    "                              validation_steps=val_steps)"
   ]
  },
  {
   "cell_type": "markdown",
   "metadata": {},
   "source": [
    "## 5. 정리\n",
    "\n",
    "- 2D 컨브넷이 2D 공간의 시각적 패턴을 잘 처리하는 것처럼 1D 컨브넷은 시간에 따른 패턴을 잘 처리합니다. 1D 컨븐세은 특정 자연어 처리 같은 문제에 RNN을 대신할 수 있는 빠른 모델입니다.\n",
    "\n",
    "- 전형적으로 1D 컨븐셍느 컴퓨터 비전 분야의 2D 컨브넷과 비슷하게 구성합니다. Conv1D 층과 Maxpooling 1D를 쌓고 마지막에 전역 풀링 연산이나 Flatten 층을 둡니다.\n",
    "\n",
    "- RNN으로 아주 긴 시퀀스를 처리하려면 계산 비용이 듭니다. 1D 컨브넷은 비용이 적게듭니다. 따라서 1D 컨브넷을 RNN 이전의 전처리 단계로 사용하는 것은 좋은생각입니다. 시퀀스 길이를 줄이고 RNN이 유용한 표현을 추출해줄 것입니다."
   ]
  },
  {
   "cell_type": "markdown",
   "metadata": {},
   "source": [
    "- 시퀀스 데이터에서 전반적인 순서가 중요하다면 순환 네트워크를 사용하여 처리하는 것이 좋습니다. 최근의 정보가 오래된 과거보다 더 중요한 시계열 데이터가 전형적인 경우입니다.\n",
    "\n",
    "- 전반적인 순서가 없다면 1D 컨브넷이 적어도 동일한 성능을 내면서 비용도 적을 것입니다. 텍스트 데이터가 종종 이에 해당합니다. 문장 처음에 있는 키워드가 마지막에 있는 키워드와 같은 의미를 가집니다."
   ]
  },
  {
   "cell_type": "code",
   "execution_count": null,
   "metadata": {},
   "outputs": [],
   "source": []
  }
 ],
 "metadata": {
  "kernelspec": {
   "display_name": "Python 3",
   "language": "python",
   "name": "python3"
  },
  "language_info": {
   "codemirror_mode": {
    "name": "ipython",
    "version": 3
   },
   "file_extension": ".py",
   "mimetype": "text/x-python",
   "name": "python",
   "nbconvert_exporter": "python",
   "pygments_lexer": "ipython3",
   "version": "3.5.4"
  }
 },
 "nbformat": 4,
 "nbformat_minor": 2
}
