{
 "cells": [
  {
   "cell_type": "code",
   "execution_count": 1,
   "metadata": {},
   "outputs": [
    {
     "name": "stderr",
     "output_type": "stream",
     "text": [
      "Using TensorFlow backend.\n"
     ]
    }
   ],
   "source": [
    "import tensorflow as tf\n",
    "from keras.backend.tensorflow_backend import set_session\n",
    "\n",
    "config = tf.ConfigProto()\n",
    "config.gpu_options.per_process_gpu_memory_fraction = 0.5\n",
    "set_session(tf.Session(config=config))"
   ]
  },
  {
   "cell_type": "code",
   "execution_count": 2,
   "metadata": {},
   "outputs": [],
   "source": [
    "from keras.datasets import reuters"
   ]
  },
  {
   "cell_type": "markdown",
   "metadata": {},
   "source": [
    "# 1. 데이터 셋"
   ]
  },
  {
   "cell_type": "code",
   "execution_count": 3,
   "metadata": {},
   "outputs": [],
   "source": [
    "(train_data, train_labels), (test_data, test_labels) = reuters.load_data(num_words=10000)"
   ]
  },
  {
   "cell_type": "code",
   "execution_count": 4,
   "metadata": {},
   "outputs": [
    {
     "data": {
      "text/plain": [
       "(8982, 2246)"
      ]
     },
     "execution_count": 4,
     "metadata": {},
     "output_type": "execute_result"
    }
   ],
   "source": [
    "len(train_data), len(test_data)"
   ]
  },
  {
   "cell_type": "markdown",
   "metadata": {},
   "source": [
    "### Text Decoding"
   ]
  },
  {
   "cell_type": "code",
   "execution_count": 5,
   "metadata": {},
   "outputs": [
    {
     "data": {
      "text/plain": [
       "'? ? ? said as a result of its december acquisition of space co it expects earnings per share in 1987 of 1 15 to 1 30 dlrs per share up from 70 cts in 1986 the company said pretax net should rise to nine to 10 mln dlrs from six mln dlrs in 1986 and rental operation revenues to 19 to 22 mln dlrs from 12 5 mln dlrs it said cash flow per share this year should be 2 50 to three dlrs reuter 3'"
      ]
     },
     "execution_count": 5,
     "metadata": {},
     "output_type": "execute_result"
    }
   ],
   "source": [
    "word_index = reuters.get_word_index(path='reuters_word_index.npz')\n",
    "reverse_word_index = {index: word for word, index in word_index.items()}\n",
    "' '.join(reverse_word_index.get(index - 3, '?') for index in train_data[0])"
   ]
  },
  {
   "cell_type": "markdown",
   "metadata": {},
   "source": [
    "# 2. 데이터 준비"
   ]
  },
  {
   "cell_type": "markdown",
   "metadata": {},
   "source": [
    "### vectorize encoding"
   ]
  },
  {
   "cell_type": "code",
   "execution_count": 6,
   "metadata": {},
   "outputs": [],
   "source": [
    "import numpy as np\n",
    "\n",
    "def vectorize_sequences(sequences, dimensions=10000):\n",
    "    seq_matrix = np.zeros((len(sequences), dimensions))\n",
    "    \n",
    "    for i, sequence in enumerate(sequences):\n",
    "        seq_matrix[i, sequence] = 1.\n",
    "    return seq_matrix"
   ]
  },
  {
   "cell_type": "code",
   "execution_count": 7,
   "metadata": {},
   "outputs": [],
   "source": [
    "x_train = vectorize_sequences(train_data)\n",
    "x_test = vectorize_sequences(test_data)"
   ]
  },
  {
   "cell_type": "markdown",
   "metadata": {},
   "source": [
    "### one hot encoding"
   ]
  },
  {
   "cell_type": "code",
   "execution_count": 8,
   "metadata": {},
   "outputs": [],
   "source": [
    "def to_one_hot(labels, dimension=46):\n",
    "    results = np.zeros((len(labels), dimension))\n",
    "    \n",
    "    for i, label in enumerate(labels):\n",
    "        results[i, label] = 1.\n",
    "    return results"
   ]
  },
  {
   "cell_type": "code",
   "execution_count": 9,
   "metadata": {},
   "outputs": [],
   "source": [
    "one_hot_train_labels = to_one_hot(train_labels)\n",
    "one_hot_test_labels = to_one_hot(test_labels)"
   ]
  },
  {
   "cell_type": "code",
   "execution_count": 10,
   "metadata": {},
   "outputs": [],
   "source": [
    "# keras에는 이미 내장 함수 존재\n",
    "from keras.utils.np_utils import to_categorical\n",
    "\n",
    "one_hot_train_labels = to_categorical(train_labels)\n",
    "one_hot_test_labels = to_categorical(test_labels)"
   ]
  },
  {
   "cell_type": "markdown",
   "metadata": {},
   "source": [
    "# 3. 모델 구성"
   ]
  },
  {
   "cell_type": "code",
   "execution_count": 11,
   "metadata": {},
   "outputs": [],
   "source": [
    "from keras import models\n",
    "from keras import layers"
   ]
  },
  {
   "cell_type": "markdown",
   "metadata": {},
   "source": [
    "- Dense 층을 쌓으면 각 층은 이전 층의 출력에서 제공한 정보만을 사용할 수 있다.\n",
    "- 한 층이 분류 문제에 필요한 일부 정보를 누락하면 그 다음 층에서 이를 복원할 방법이 없다.\n",
    "- 각 층은 잠재적으로 정보의 병목이 될 수 있다. 예제 2에서 16차원을 가진 중간층을 사용했지만 16차원 공간은 46개의 클래스를 구분하기에 너무 제약이 많다. 이렇게 규모가 작은 층은 유용한 정보를 완전히 잃게 되는 정보의 병목 지점처럼 동작할 수 있다."
   ]
  },
  {
   "cell_type": "code",
   "execution_count": 12,
   "metadata": {},
   "outputs": [],
   "source": [
    "model = models.Sequential()\n",
    "\n",
    "# bottleneck\n",
    "model.add(layers.Dense(64, activation='relu', input_shape=(10000,)))\n",
    "model.add(layers.Dense(64, activation='relu'))\n",
    "model.add(layers.Dense(46, activation='softmax'))"
   ]
  },
  {
   "cell_type": "code",
   "execution_count": 13,
   "metadata": {},
   "outputs": [],
   "source": [
    "model.compile(optimizer='rmsprop', loss='categorical_crossentropy', metrics=['accuracy'])"
   ]
  },
  {
   "cell_type": "markdown",
   "metadata": {},
   "source": [
    "# 4. 훈련 검증"
   ]
  },
  {
   "cell_type": "code",
   "execution_count": 14,
   "metadata": {},
   "outputs": [],
   "source": [
    "from sklearn.model_selection import train_test_split"
   ]
  },
  {
   "cell_type": "code",
   "execution_count": 15,
   "metadata": {},
   "outputs": [],
   "source": [
    "partial_x_train, partial_x_val, partial_y_train, partial_y_val = train_test_split(x_train, \n",
    "                                                                                  one_hot_train_labels,\n",
    "                                                                                  test_size=0.2)"
   ]
  },
  {
   "cell_type": "code",
   "execution_count": 16,
   "metadata": {
    "scrolled": true
   },
   "outputs": [
    {
     "name": "stdout",
     "output_type": "stream",
     "text": [
      "Train on 7185 samples, validate on 1797 samples\n",
      "Epoch 1/20\n",
      "7185/7185 [==============================] - 2s 309us/step - loss: 2.6192 - acc: 0.4984 - val_loss: 1.7934 - val_acc: 0.5921\n",
      "Epoch 2/20\n",
      "7185/7185 [==============================] - 1s 132us/step - loss: 1.4959 - acc: 0.6738 - val_loss: 1.5506 - val_acc: 0.6194\n",
      "Epoch 3/20\n",
      "7185/7185 [==============================] - 1s 131us/step - loss: 1.1635 - acc: 0.7443 - val_loss: 1.2805 - val_acc: 0.7112\n",
      "Epoch 4/20\n",
      "7185/7185 [==============================] - 1s 132us/step - loss: 0.9361 - acc: 0.7992 - val_loss: 1.2311 - val_acc: 0.7201\n",
      "Epoch 5/20\n",
      "7185/7185 [==============================] - 1s 133us/step - loss: 0.7672 - acc: 0.8391 - val_loss: 1.1271 - val_acc: 0.7462\n",
      "Epoch 6/20\n",
      "7185/7185 [==============================] - 1s 131us/step - loss: 0.6251 - acc: 0.8700 - val_loss: 1.0428 - val_acc: 0.7713\n",
      "Epoch 7/20\n",
      "7185/7185 [==============================] - 1s 143us/step - loss: 0.5129 - acc: 0.8938 - val_loss: 0.9938 - val_acc: 0.7835\n",
      "Epoch 8/20\n",
      "7185/7185 [==============================] - 1s 149us/step - loss: 0.4184 - acc: 0.9133 - val_loss: 0.9657 - val_acc: 0.7902\n",
      "Epoch 9/20\n",
      "7185/7185 [==============================] - 1s 148us/step - loss: 0.3445 - acc: 0.9304 - val_loss: 1.0048 - val_acc: 0.7835\n",
      "Epoch 10/20\n",
      "7185/7185 [==============================] - 1s 143us/step - loss: 0.2856 - acc: 0.9386 - val_loss: 0.9724 - val_acc: 0.7885\n",
      "Epoch 11/20\n",
      "7185/7185 [==============================] - 1s 134us/step - loss: 0.2396 - acc: 0.9454 - val_loss: 1.0426 - val_acc: 0.7796\n",
      "Epoch 12/20\n",
      "7185/7185 [==============================] - 1s 134us/step - loss: 0.2077 - acc: 0.9489 - val_loss: 0.9875 - val_acc: 0.7880\n",
      "Epoch 13/20\n",
      "7185/7185 [==============================] - 1s 138us/step - loss: 0.1828 - acc: 0.9557 - val_loss: 0.9932 - val_acc: 0.7919\n",
      "Epoch 14/20\n",
      "7185/7185 [==============================] - 1s 137us/step - loss: 0.1576 - acc: 0.9570 - val_loss: 1.1437 - val_acc: 0.7691\n",
      "Epoch 15/20\n",
      "7185/7185 [==============================] - 1s 135us/step - loss: 0.1461 - acc: 0.9588 - val_loss: 1.1548 - val_acc: 0.7657\n",
      "Epoch 16/20\n",
      "7185/7185 [==============================] - 1s 173us/step - loss: 0.1342 - acc: 0.9610 - val_loss: 1.0432 - val_acc: 0.7874\n",
      "Epoch 17/20\n",
      "7185/7185 [==============================] - 1s 168us/step - loss: 0.1231 - acc: 0.9623 - val_loss: 1.0994 - val_acc: 0.7807\n",
      "Epoch 18/20\n",
      "7185/7185 [==============================] - 1s 167us/step - loss: 0.1172 - acc: 0.9646 - val_loss: 1.1678 - val_acc: 0.7796\n",
      "Epoch 19/20\n",
      "7185/7185 [==============================] - 1s 145us/step - loss: 0.1106 - acc: 0.9626 - val_loss: 1.0987 - val_acc: 0.7802\n",
      "Epoch 20/20\n",
      "7185/7185 [==============================] - 1s 155us/step - loss: 0.1047 - acc: 0.9627 - val_loss: 1.1360 - val_acc: 0.7774\n"
     ]
    }
   ],
   "source": [
    "history = model.fit(partial_x_train,\n",
    "                    partial_y_train,\n",
    "                    epochs=20,\n",
    "                    batch_size=512,\n",
    "                    validation_data=(partial_x_val, partial_y_val))"
   ]
  },
  {
   "cell_type": "code",
   "execution_count": 17,
   "metadata": {},
   "outputs": [],
   "source": [
    "import matplotlib.pyplot as plt"
   ]
  },
  {
   "cell_type": "markdown",
   "metadata": {},
   "source": [
    "### Loss"
   ]
  },
  {
   "cell_type": "code",
   "execution_count": 32,
   "metadata": {},
   "outputs": [
    {
     "data": {
      "image/png": "[encoded data removed]",
      "text/plain": [
       "<matplotlib.figure.Figure at 0xc029ae2ba8>"
      ]
     },
     "metadata": {},
     "output_type": "display_data"
    }
   ],
   "source": [
    "loss = history.history['loss']\n",
    "val_loss = history.history['val_loss']\n",
    "\n",
    "epochs = range(1, len(loss) + 1)\n",
    "\n",
    "plt.plot(epochs, loss, 'bo', label='Training loss')\n",
    "plt.plot(epochs, val_loss, 'b', label='Validation loss')\n",
    "\n",
    "plt.xlabel('Epochs')\n",
    "plt.ylabel('Loss')\n",
    "plt.legend()\n",
    "\n",
    "plt.show()"
   ]
  },
  {
   "cell_type": "markdown",
   "metadata": {},
   "source": [
    "### Acc"
   ]
  },
  {
   "cell_type": "code",
   "execution_count": 33,
   "metadata": {},
   "outputs": [
    {
     "data": {
      "image/png": "[encoded data removed]",
      "text/plain": [
       "<matplotlib.figure.Figure at 0xc0298fc668>"
      ]
     },
     "metadata": {},
     "output_type": "display_data"
    }
   ],
   "source": [
    "loss = history.history['acc']\n",
    "val_loss = history.history['val_acc']\n",
    "\n",
    "epochs = range(1, len(loss) + 1)\n",
    "\n",
    "plt.plot(epochs, loss, 'bo', label='Training acc')\n",
    "plt.plot(epochs, val_loss, 'b', label='Validation acc')\n",
    "\n",
    "plt.xlabel('Epochs')\n",
    "plt.ylabel('Loss')\n",
    "plt.legend()\n",
    "\n",
    "plt.show()"
   ]
  },
  {
   "cell_type": "markdown",
   "metadata": {},
   "source": [
    "## 5. 예측"
   ]
  },
  {
   "cell_type": "code",
   "execution_count": 34,
   "metadata": {
    "scrolled": true
   },
   "outputs": [
    {
     "name": "stdout",
     "output_type": "stream",
     "text": [
      "Train on 7185 samples, validate on 1797 samples\n",
      "Epoch 1/9\n",
      "7185/7185 [==============================] - 1s 195us/step - loss: 2.6449 - acc: 0.4640 - val_loss: 1.8182 - val_acc: 0.6138\n",
      "Epoch 2/9\n",
      "7185/7185 [==============================] - 1s 140us/step - loss: 1.4721 - acc: 0.6874 - val_loss: 1.4135 - val_acc: 0.6962\n",
      "Epoch 3/9\n",
      "7185/7185 [==============================] - 1s 142us/step - loss: 1.1061 - acc: 0.7637 - val_loss: 1.2382 - val_acc: 0.7206\n",
      "Epoch 4/9\n",
      "7185/7185 [==============================] - 1s 139us/step - loss: 0.8816 - acc: 0.8160 - val_loss: 1.1821 - val_acc: 0.7273\n",
      "Epoch 5/9\n",
      "7185/7185 [==============================] - 1s 140us/step - loss: 0.7186 - acc: 0.8448 - val_loss: 1.2567 - val_acc: 0.7078\n",
      "Epoch 6/9\n",
      "7185/7185 [==============================] - 1s 139us/step - loss: 0.5947 - acc: 0.8733 - val_loss: 1.0378 - val_acc: 0.7874\n",
      "Epoch 7/9\n",
      "7185/7185 [==============================] - 1s 138us/step - loss: 0.4859 - acc: 0.9012 - val_loss: 1.0271 - val_acc: 0.7858\n",
      "Epoch 8/9\n",
      "7185/7185 [==============================] - 1s 140us/step - loss: 0.4026 - acc: 0.9183 - val_loss: 1.0116 - val_acc: 0.7819\n",
      "Epoch 9/9\n",
      "7185/7185 [==============================] - 1s 162us/step - loss: 0.3325 - acc: 0.9294 - val_loss: 1.1635 - val_acc: 0.7346\n",
      "2246/2246 [==============================] - 0s 209us/step\n"
     ]
    }
   ],
   "source": [
    "model = models.Sequential()\n",
    "model.add(layers.Dense(64, activation='relu', input_shape=(10000,)))\n",
    "model.add(layers.Dense(64, activation='relu'))\n",
    "model.add(layers.Dense(46, activation='softmax'))\n",
    "\n",
    "model.compile(optimizer='rmsprop',\n",
    "              loss='categorical_crossentropy',\n",
    "              metrics=['acc'])\n",
    "\n",
    "model.fit(partial_x_train,\n",
    "          partial_y_train, \n",
    "          epochs=9,\n",
    "          batch_size=512,\n",
    "          validation_data=(partial_x_val, partial_y_val))\n",
    "\n",
    "results = model.evaluate(x_test, one_hot_test_labels)"
   ]
  },
  {
   "cell_type": "code",
   "execution_count": 35,
   "metadata": {},
   "outputs": [
    {
     "data": {
      "text/plain": [
       "[1.1793704340740283, 0.72484416743526481]"
      ]
     },
     "execution_count": 35,
     "metadata": {},
     "output_type": "execute_result"
    }
   ],
   "source": [
    "results"
   ]
  },
  {
   "cell_type": "markdown",
   "metadata": {},
   "source": [
    "- 무작위 예측 시에"
   ]
  },
  {
   "cell_type": "code",
   "execution_count": 37,
   "metadata": {},
   "outputs": [
    {
     "data": {
      "text/plain": [
       "0.1803205699020481"
      ]
     },
     "execution_count": 37,
     "metadata": {},
     "output_type": "execute_result"
    }
   ],
   "source": [
    "import copy\n",
    "test_labels_copy = copy.copy(test_labels)\n",
    "np.random.shuffle(test_labels_copy)\n",
    "hits_array = np.array(test_labels) == np.array(test_labels_copy)\n",
    "float(np.sum(hits_array)) / len(test_labels)"
   ]
  },
  {
   "cell_type": "markdown",
   "metadata": {},
   "source": [
    "# 6. 레이블과 손실을 다루는 다른 방법"
   ]
  },
  {
   "cell_type": "markdown",
   "metadata": {},
   "source": [
    "- 정수로 인코딩하고 sparse_categorical_crossentropy로 사용한다."
   ]
  },
  {
   "cell_type": "code",
   "execution_count": 42,
   "metadata": {},
   "outputs": [],
   "source": [
    "y_train = np.array(train_labels)\n",
    "y_test = np.array(test_labels)\n",
    "\n",
    "model.compile(optimizer='rmsprop',\n",
    "              loss='sparse_categorical_crossentropy',\n",
    "              metrics=['acc'])"
   ]
  },
  {
   "cell_type": "markdown",
   "metadata": {},
   "source": [
    "# 7. 충분히 큰 중간층을 두어야 하는 이유"
   ]
  },
  {
   "cell_type": "code",
   "execution_count": 44,
   "metadata": {
    "scrolled": true
   },
   "outputs": [
    {
     "name": "stdout",
     "output_type": "stream",
     "text": [
      "Train on 7185 samples, validate on 1797 samples\n",
      "Epoch 1/20\n",
      "7185/7185 [==============================] - 2s 248us/step - loss: 3.5710 - acc: 0.0585 - val_loss: 3.3038 - val_acc: 0.3278\n",
      "Epoch 2/20\n",
      "7185/7185 [==============================] - 1s 140us/step - loss: 3.0670 - acc: 0.4032 - val_loss: 2.9436 - val_acc: 0.3984\n",
      "Epoch 3/20\n",
      "7185/7185 [==============================] - 1s 138us/step - loss: 2.6709 - acc: 0.4543 - val_loss: 2.6471 - val_acc: 0.4263\n",
      "Epoch 4/20\n",
      "7185/7185 [==============================] - 1s 139us/step - loss: 2.3372 - acc: 0.4770 - val_loss: 2.4142 - val_acc: 0.4274\n",
      "Epoch 5/20\n",
      "7185/7185 [==============================] - 1s 138us/step - loss: 2.0687 - acc: 0.4868 - val_loss: 2.2154 - val_acc: 0.4313\n",
      "Epoch 6/20\n",
      "7185/7185 [==============================] - 1s 138us/step - loss: 1.8583 - acc: 0.4912 - val_loss: 2.0684 - val_acc: 0.4385\n",
      "Epoch 7/20\n",
      "7185/7185 [==============================] - 1s 137us/step - loss: 1.6771 - acc: 0.5091 - val_loss: 1.9317 - val_acc: 0.4652\n",
      "Epoch 8/20\n",
      "7185/7185 [==============================] - 1s 144us/step - loss: 1.5103 - acc: 0.6260 - val_loss: 1.8018 - val_acc: 0.5993\n",
      "Epoch 9/20\n",
      "7185/7185 [==============================] - 1s 142us/step - loss: 1.3598 - acc: 0.7239 - val_loss: 1.7335 - val_acc: 0.6283\n",
      "Epoch 10/20\n",
      "7185/7185 [==============================] - 1s 138us/step - loss: 1.2240 - acc: 0.7461 - val_loss: 1.5884 - val_acc: 0.6639\n",
      "Epoch 11/20\n",
      "7185/7185 [==============================] - 1s 135us/step - loss: 1.1100 - acc: 0.7577 - val_loss: 1.5310 - val_acc: 0.6739\n",
      "Epoch 12/20\n",
      "7185/7185 [==============================] - 1s 135us/step - loss: 1.0251 - acc: 0.7635 - val_loss: 1.5120 - val_acc: 0.6622\n",
      "Epoch 13/20\n",
      "7185/7185 [==============================] - 1s 134us/step - loss: 0.9621 - acc: 0.7673 - val_loss: 1.4738 - val_acc: 0.6806\n",
      "Epoch 14/20\n",
      "7185/7185 [==============================] - 1s 135us/step - loss: 0.9074 - acc: 0.7761 - val_loss: 1.4961 - val_acc: 0.6750\n",
      "Epoch 15/20\n",
      "7185/7185 [==============================] - 1s 137us/step - loss: 0.8624 - acc: 0.7812 - val_loss: 1.4620 - val_acc: 0.6856\n",
      "Epoch 16/20\n",
      "7185/7185 [==============================] - 1s 138us/step - loss: 0.8206 - acc: 0.7890 - val_loss: 1.4651 - val_acc: 0.6789\n",
      "Epoch 17/20\n",
      "7185/7185 [==============================] - 1s 136us/step - loss: 0.7872 - acc: 0.7936 - val_loss: 1.4858 - val_acc: 0.6778\n",
      "Epoch 18/20\n",
      "7185/7185 [==============================] - 1s 141us/step - loss: 0.7543 - acc: 0.8031 - val_loss: 1.4609 - val_acc: 0.6895\n",
      "Epoch 19/20\n",
      "7185/7185 [==============================] - 1s 146us/step - loss: 0.7207 - acc: 0.8135 - val_loss: 1.5165 - val_acc: 0.6806\n",
      "Epoch 20/20\n",
      "7185/7185 [==============================] - 1s 140us/step - loss: 0.6948 - acc: 0.8166 - val_loss: 1.4972 - val_acc: 0.6906\n",
      "2246/2246 [==============================] - 0s 160us/step\n"
     ]
    }
   ],
   "source": [
    "model = models.Sequential()\n",
    "model.add(layers.Dense(64, activation='relu', input_shape=(10000,)))\n",
    "model.add(layers.Dense(4, activation='relu'))\n",
    "model.add(layers.Dense(46, activation='softmax'))\n",
    "\n",
    "model.compile(optimizer='rmsprop',\n",
    "              loss='categorical_crossentropy',\n",
    "              metrics=['acc'])\n",
    "\n",
    "model.fit(partial_x_train,\n",
    "          partial_y_train, \n",
    "          epochs=20,\n",
    "          batch_size=512,\n",
    "          validation_data=(partial_x_val, partial_y_val))\n",
    "\n",
    "results = model.evaluate(x_test, one_hot_test_labels)"
   ]
  },
  {
   "cell_type": "markdown",
   "metadata": {},
   "source": [
    "- 이와 같은 손실 원인 대부분은 많은 정보를 중간층의 저차원 표현 공간으로 압축시키려 했기 때문이다. 이 네트워크는 필요한 정보 대부분을 4차원으로 구겨 넣었지만 전부는 넣지 못했습니다."
   ]
  },
  {
   "cell_type": "markdown",
   "metadata": {},
   "source": [
    "# 8. 추가 실험"
   ]
  },
  {
   "cell_type": "code",
   "execution_count": 45,
   "metadata": {
    "scrolled": true
   },
   "outputs": [
    {
     "name": "stdout",
     "output_type": "stream",
     "text": [
      "Train on 7185 samples, validate on 1797 samples\n",
      "Epoch 1/9\n",
      "7185/7185 [==============================] - 1s 199us/step - loss: 2.6660 - acc: 0.4459 - val_loss: 1.8085 - val_acc: 0.5771\n",
      "Epoch 2/9\n",
      "7185/7185 [==============================] - 1s 136us/step - loss: 1.4618 - acc: 0.6788 - val_loss: 1.4649 - val_acc: 0.6661\n",
      "Epoch 3/9\n",
      "7185/7185 [==============================] - 1s 153us/step - loss: 1.1413 - acc: 0.7392 - val_loss: 1.2733 - val_acc: 0.7134\n",
      "Epoch 4/9\n",
      "7185/7185 [==============================] - 1s 158us/step - loss: 0.9184 - acc: 0.7996 - val_loss: 1.2144 - val_acc: 0.7195\n",
      "Epoch 5/9\n",
      "7185/7185 [==============================] - 1s 139us/step - loss: 0.7521 - acc: 0.8347 - val_loss: 1.1299 - val_acc: 0.7602\n",
      "Epoch 6/9\n",
      "7185/7185 [==============================] - 1s 136us/step - loss: 0.6205 - acc: 0.8615 - val_loss: 1.2540 - val_acc: 0.7190\n",
      "Epoch 7/9\n",
      "7185/7185 [==============================] - 1s 150us/step - loss: 0.5004 - acc: 0.8920 - val_loss: 1.0527 - val_acc: 0.7730\n",
      "Epoch 8/9\n",
      "7185/7185 [==============================] - 1s 142us/step - loss: 0.4022 - acc: 0.9170 - val_loss: 1.2282 - val_acc: 0.7229\n",
      "Epoch 9/9\n",
      "7185/7185 [==============================] - 1s 138us/step - loss: 0.3295 - acc: 0.9324 - val_loss: 1.0998 - val_acc: 0.7819\n",
      "2246/2246 [==============================] - 0s 162us/step\n"
     ]
    }
   ],
   "source": [
    "model = models.Sequential()\n",
    "model.add(layers.Dense(64, activation='relu', input_shape=(10000,)))\n",
    "model.add(layers.Dense(64, activation='relu'))\n",
    "model.add(layers.Dense(64, activation='relu'))\n",
    "model.add(layers.Dense(46, activation='softmax'))\n",
    "\n",
    "model.compile(optimizer='rmsprop',\n",
    "              loss='categorical_crossentropy',\n",
    "              metrics=['acc'])\n",
    "\n",
    "model.fit(partial_x_train,\n",
    "          partial_y_train, \n",
    "          epochs=9,\n",
    "          batch_size=512,\n",
    "          validation_data=(partial_x_val, partial_y_val))\n",
    "\n",
    "results = model.evaluate(x_test, one_hot_test_labels)"
   ]
  },
  {
   "cell_type": "markdown",
   "metadata": {},
   "source": [
    "# 9. 정리"
   ]
  },
  {
   "cell_type": "markdown",
   "metadata": {},
   "source": [
    "- N 개 클래스로 데이터 포인트를 분류하려면 네트워크 마지막 Dense층 크기는 N이어야 한다.\n",
    "- 단일 레이블, 다층 분류 문제에서는 N개 클래스에 대한 확률 분포 출력을 위해 softmax 활성화 함수 사용이 필요하다.\n",
    "- 이런 문제에는 항상 범주형 크로스엔트로피를 이용해야 한다.\n",
    "- 다중 분류에서 레이블을 다루는 두 가지 방법이 있다.\n",
    "    - 레이블을 범주형 인코딩으로 인코딩하고 categorical_crossentropy 손실 함수를 사용한다.\n",
    "    - 레이블을 정수로 인코딩하고 sparse_categorical_crossentropy 손실 함수를 사용한다.\n",
    "    \n",
    "- 많은 수의 범주를 분류할 때 중간 층의 크기가 너무 작아 정보의 병목이 생기지 않도록 한다."
   ]
  }
 ],
 "metadata": {
  "kernelspec": {
   "display_name": "Python 3",
   "language": "python",
   "name": "python3"
  },
  "language_info": {
   "codemirror_mode": {
    "name": "ipython",
    "version": 3
   },
   "file_extension": ".py",
   "mimetype": "text/x-python",
   "name": "python",
   "nbconvert_exporter": "python",
   "pygments_lexer": "ipython3",
   "version": "3.5.4"
  }
 },
 "nbformat": 4,
 "nbformat_minor": 2
}
